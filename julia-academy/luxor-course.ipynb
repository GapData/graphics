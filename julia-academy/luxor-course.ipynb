{
 "cells": [
  {
   "cell_type": "markdown",
   "source": [
    "## Introduction to vector graphics with Luxor.jl"
   ],
   "metadata": {}
  },
  {
   "cell_type": "markdown",
   "source": [
    "This course is a short introduction to making vector graphics. By the end of this course you will have learnt quite a bit about how to use Luxor to make vector graphics, and started making some cool images."
   ],
   "metadata": {}
  },
  {
   "cell_type": "markdown",
   "source": [
    "Luxor.jl is a simple package designed to make *vector graphics*, which are pictures made out of colored lines and curves, plus any text. Luxor produces PNG, SVG, and PDF files; PDF and SVG are resolution-independent formats, so you can scale them up or down as much as you like without losing detail. PNG files are, like photos and JPEG images, made at a specific resolution."
   ],
   "metadata": {}
  },
  {
   "cell_type": "markdown",
   "source": [
    "Luxor sits in the space between the heavy-duty Julia plotting packages such as Plots.jl, Gadfly, and Pyplot (among others), and applications such as Inkscape and Adobe Illustrator. Like Plots.jl et al, you specify what you want to draw with Julia functions and parameters using code, rather than by clicking and pointing at the screen with a mouse or trackpad. Like Inkscape/Illustrator, you have the task of specifying every shape and color you want in your final drawing, rather than having the software do everything for you."
   ],
   "metadata": {}
  },
  {
   "cell_type": "markdown",
   "source": [
    "If you've learnt a bit about Julia already, and if you can remember some of the geometry you learned at school (angles, coordinates, and so on), you know enough to get started. To install Luxor, use the Julia package manager:"
   ],
   "metadata": {}
  },
  {
   "outputs": [],
   "cell_type": "code",
   "source": [
    "# using Pkg\n",
    "# Pkg.add(\"Luxor\")"
   ],
   "metadata": {},
   "execution_count": 1
  },
  {
   "cell_type": "markdown",
   "source": [
    "# Chapter 1: The first task: design a logo"
   ],
   "metadata": {}
  },
  {
   "cell_type": "markdown",
   "source": [
    "The new (and currently fictitious) organization JuliaFission has just asked you to design a new logo for them. They're something to do with atoms and particles, perhaps? So we'll design a new logo for them using some basic shapes; perhaps colored circles in some kind of spiral formation would look suitably \"atomic\". Let's try out some ideas."
   ],
   "metadata": {}
  },
  {
   "cell_type": "markdown",
   "source": [
    "### A first drawing"
   ],
   "metadata": {}
  },
  {
   "outputs": [],
   "cell_type": "code",
   "source": [
    "using Luxor\n",
    "\n",
    "Drawing(500, 500, \"my-drawing.png\")\n",
    "origin()\n",
    "setcolor(\"red\")\n",
    "circle(Point(0, 0), 100, :fill)\n",
    "finish()\n",
    "preview()"
   ],
   "metadata": {},
   "execution_count": 2
  },
  {
   "cell_type": "markdown",
   "source": [
    "is short piece of code does the following things:"
   ],
   "metadata": {}
  },
  {
   "cell_type": "markdown",
   "source": [
    "- Makes a new drawing 500 units square, and saves it in \"my-drawing.png\" in PNG format."
   ],
   "metadata": {}
  },
  {
   "cell_type": "markdown",
   "source": [
    "- Moves the zero point from the top left to the center. Graphics applications often start measuring from the top left (or bottom left), but it's easier to work out the positions of things if you start at the center.)"
   ],
   "metadata": {}
  },
  {
   "cell_type": "markdown",
   "source": [
    "- Selects one of the 200 or so named colors (defined [here](http://juliagraphics.github.io/Colors.jl/stable/))"
   ],
   "metadata": {}
  },
  {
   "cell_type": "markdown",
   "source": [
    "- Draws a circle at x = 0, y = 0, with radius 100 units, and fills it with the current color.)"
   ],
   "metadata": {}
  },
  {
   "cell_type": "markdown",
   "source": [
    "- Finishes the drawing and displays it on the screen."
   ],
   "metadata": {}
  },
  {
   "cell_type": "markdown",
   "source": [
    "In case you're wondering, the units are *points* (as in font sizes), and there are 72 points in an inch, just over 3 per millimeter. The y-axis points down the page, by the way. If you want to be reminded of where the x and y axes are, uses the `rulers()` function."
   ],
   "metadata": {}
  },
  {
   "cell_type": "markdown",
   "source": [
    "The `:fill` at the end of `circle()` is one of a set of symbols that lets you display the shape in different ways. There's also `:stroke`, which draws around the edges but doesn't fill the shape with color. You might also meet `:path`, `fillpreserve`, `strokepreserve`, `clip`, and `:none`."
   ],
   "metadata": {}
  },
  {
   "cell_type": "markdown",
   "source": [
    "### Circles in a spiral"
   ],
   "metadata": {}
  },
  {
   "cell_type": "markdown",
   "source": [
    "We want more than just one circle. We'll define a triangular shape, and place circles at each corner. The `ngon()` function creates regular polygon (eg triangles, squares, etc.), and the `vertices=true` keyword returns the corner points - just what we want."
   ],
   "metadata": {}
  },
  {
   "outputs": [],
   "cell_type": "code",
   "source": [
    "Drawing(500, 500, \"my-drawing.png\")\n",
    "origin()\n",
    "setcolor(\"red\")\n",
    "corners = ngon(Point(0, 0), 80, 3, vertices=true)\n",
    "circle.(corners, 10, :fill)\n",
    "finish()\n",
    "preview()"
   ],
   "metadata": {},
   "execution_count": 3
  },
  {
   "cell_type": "markdown",
   "source": [
    "Notice the \".\" after `circle`. This broadcasts the `circle()` function over the `corners`, drawing a red filled circle at every point."
   ],
   "metadata": {}
  },
  {
   "cell_type": "markdown",
   "source": [
    "The arguments to `ngon` are centerpoint, radius, and number of sides. Try changing the third argument from 3 to 4 or 33."
   ],
   "metadata": {}
  },
  {
   "cell_type": "markdown",
   "source": [
    "To create a spiral of circles, we want to repeat this `ngon`...`circle` part more than once. A simple loop will do: we'll rotate everything by `i * ` 5° (`deg2rad(5)` radians) each time (so 5°, 10°, 15°, 20°, 25°, and 30°), and increase the size of the shape by multiples of 10:"
   ],
   "metadata": {}
  },
  {
   "outputs": [],
   "cell_type": "code",
   "source": [
    "Drawing(500, 500, \"my-drawing.png\")\n",
    "origin()\n",
    "setcolor(\"red\")\n",
    "for i in 1:6\n",
    "    rotate(i * deg2rad(5))\n",
    "    corners = ngon(Point(0, 0), 80 + 10i, 3, vertices=true)\n",
    "    circle.(corners, 10, :fill)\n",
    "end\n",
    "finish()\n",
    "preview()"
   ],
   "metadata": {},
   "execution_count": 4
  },
  {
   "cell_type": "markdown",
   "source": [
    "### Just add color"
   ],
   "metadata": {}
  },
  {
   "cell_type": "markdown",
   "source": [
    "The Julia colors are available as constants in Luxor, so we can make two changes that cycle through them. The first line creates the set of colors; the `setcolor()` function then works through them. `mod1()` is the 1-based `mod` function, essential for working with Julia and its 1-based indexing."
   ],
   "metadata": {}
  },
  {
   "outputs": [],
   "cell_type": "code",
   "source": [
    "const colors = (Luxor.julia_green, Luxor.julia_red,Luxor.julia_purple, Luxor.julia_blue) ### <-\n",
    "Drawing(500, 500, \"my-drawing.png\")\n",
    "origin()\n",
    "for i in 1:6\n",
    "    setcolor(colors[mod1(i, end)]) ### <-\n",
    "    rotate(i * deg2rad(5))\n",
    "    corners = ngon(Point(0, 0), 80 + 10i, 3, vertices=true)\n",
    "    circle.(corners, 10, :fill)\n",
    "end\n",
    "finish()\n",
    "preview()"
   ],
   "metadata": {},
   "execution_count": 5
  },
  {
   "cell_type": "markdown",
   "source": [
    "## Taking particles seriously"
   ],
   "metadata": {}
  },
  {
   "cell_type": "markdown",
   "source": [
    "The flat circles are a bit dull, so let's write a function that takes circles seriously. The `drawcircle()` function draws lots of circles, but each one is drawn with a slightly smaller radius and a slightly lighter shade of the incoming color. The `rescale()` function in Luxor provides an easy way to map or adjust values from one range to another; here, numbers between 5 and 1 are mapped to numbers between 0.5 and 3. And the radius is scaled to run between `radius` and `radius/6`. Also, let's make them get larger as they spiral outwards, by adding `4i` to the radius when called by `drawcircle()`."
   ],
   "metadata": {}
  },
  {
   "outputs": [],
   "cell_type": "code",
   "source": [
    "function drawcircle(pos, radius, n) ## <-\n",
    "    c = colors[mod1(n, end)]\n",
    "    for i in 5:-0.1:1\n",
    "        setcolor(rescale(i, 5, 1, 0.5, 3) .* c)\n",
    "        circle(pos + (i/2, i/2), rescale(i, 5, 1, radius, radius/6), :fill)\n",
    "    end\n",
    "end\n",
    "\n",
    "Drawing(500, 500, \"my-drawing.png\")\n",
    "    origin()\n",
    "    for i in 1:6\n",
    "        rotate(i * deg2rad(5))\n",
    "        corners = ngon(Point(0, 0), 80 + 10i, 3, vertices=true)\n",
    "        drawcircle.(corners, 10 + 4i, i) ## <-\n",
    "    end\n",
    "    finish()\n",
    "    preview()"
   ],
   "metadata": {},
   "execution_count": 6
  },
  {
   "cell_type": "markdown",
   "source": [
    "This is looking quite promising. But here's the thing: in a parallel universe, you might already have made this in no time at all using Adobe Illustrator or Inkscape. But with this Luxor code, you can try all kinds of different variations with almost immediate results - just walk through the parameter space, either manually or via code, and see what effects you get. You don't have to redraw everything with different angles and radii..."
   ],
   "metadata": {}
  },
  {
   "cell_type": "markdown",
   "source": [
    "So here's what a pentagonal theme with more circles looks like:"
   ],
   "metadata": {}
  },
  {
   "outputs": [],
   "cell_type": "code",
   "source": [
    "Drawing(500, 500, \"my-drawing.png\")\n",
    "origin()\n",
    "for i in 1:12\n",
    "    rotate(i * deg2rad(1.5))\n",
    "    corners = ngon(Point(0, 0), 10 + 12i, 5, vertices=true)\n",
    "    drawcircle.(corners, 5 + 2i, i)\n",
    "end\n",
    "finish()\n",
    "preview()"
   ],
   "metadata": {},
   "execution_count": 7
  },
  {
   "cell_type": "markdown",
   "source": [
    "To tidy up, it's a good idea to move the code into functions, and do a bit of housekeeping. The final script looks like this:"
   ],
   "metadata": {}
  },
  {
   "outputs": [],
   "cell_type": "code",
   "source": [
    "using Luxor\n",
    "\n",
    "const colors = (Luxor.julia_green, Luxor.julia_red,Luxor.julia_purple, Luxor.julia_blue)\n",
    "\n",
    "function drawcircle(pos, radius, n)\n",
    "    c = colors[mod1(n, end)]\n",
    "    for i in 5:-.1:1\n",
    "        setcolor(rescale(i, 5, 1, 0.5, 3) .* c)\n",
    "        circle(pos + (i/2, i/2), rescale(i, 5, 1, radius, radius/6), :fill)\n",
    "    end\n",
    "end\n",
    "\n",
    "function main(filename)\n",
    "    Drawing(500, 500, filename)\n",
    "    origin()\n",
    "    for i in 1:12\n",
    "        rotate(i * deg2rad(1.5))\n",
    "        corners = ngon(Point(0, 0), 10 + 12i, 5, vertices=true)\n",
    "        drawcircle.(corners, 5 + 2i, i)\n",
    "    end\n",
    "    finish()\n",
    "    preview()\n",
    "end\n",
    "\n",
    "main(\"my-drawing.svg\")"
   ],
   "metadata": {},
   "execution_count": 8
  },
  {
   "cell_type": "markdown",
   "source": [
    "To create a high-quality resolution-independent SVG, just change the suffix from \".png\" to \".svg\""
   ],
   "metadata": {}
  },
  {
   "cell_type": "markdown",
   "source": [
    "So, did the JuliaFission organization like their logo? Who knows!? But if not, we can always recycle some of these ideas for future projects."
   ],
   "metadata": {}
  },
  {
   "cell_type": "markdown",
   "source": [
    "### Challenges"
   ],
   "metadata": {}
  },
  {
   "cell_type": "markdown",
   "source": [
    "Before you move on to the next chapter, perhaps you'd like to take an extra challenge or two?"
   ],
   "metadata": {}
  },
  {
   "cell_type": "markdown",
   "source": [
    "#### 1. Remember the random values"
   ],
   "metadata": {}
  },
  {
   "cell_type": "markdown",
   "source": [
    "Using random numbers is a great way to find new patterns and shapes; but unless you know what the values are, you can't reproduce them. So modify the code so that the random numbers are remembered, and drawn on the screen (you can use the `text(str, position)` function),"
   ],
   "metadata": {}
  },
  {
   "cell_type": "markdown",
   "source": [
    "#### 2. Backgrounds"
   ],
   "metadata": {}
  },
  {
   "cell_type": "markdown",
   "source": [
    "Because there's no background, the SVG or PNG image created will have a transparent background. This is usually what you want for an icon or logo. But this design might look good against a darker colored background. Use `background()` or `paint()` and experiment."
   ],
   "metadata": {}
  },
  {
   "cell_type": "markdown",
   "source": [
    "#### 3. Randomize"
   ],
   "metadata": {}
  },
  {
   "cell_type": "markdown",
   "source": [
    "Try refactoring your code so that you can automatically run through various parameter ranges."
   ],
   "metadata": {}
  },
  {
   "cell_type": "markdown",
   "source": [
    "# Chapter 2: Interactive geometry"
   ],
   "metadata": {}
  },
  {
   "cell_type": "markdown",
   "source": [
    "Circles, lines, arcs, and polygons are the fundamental particles of Luxor. One way to explore some of the features is to use the interactive abilities of a Jupyter notebook."
   ],
   "metadata": {}
  },
  {
   "cell_type": "markdown",
   "source": [
    "You'll need to add the Interact.jl package if you haven't already done so:"
   ],
   "metadata": {}
  },
  {
   "cell_type": "markdown",
   "source": [
    "using Pkg"
   ],
   "metadata": {}
  },
  {
   "cell_type": "markdown",
   "source": [
    "Pkg.add(\"Interact\")"
   ],
   "metadata": {}
  },
  {
   "outputs": [],
   "cell_type": "code",
   "source": [
    "import Interact: @manipulate"
   ],
   "metadata": {},
   "execution_count": 9
  },
  {
   "cell_type": "markdown",
   "source": [
    "Interact.jl has a `@manipulate()` macro that provides a slider. This feeds a changing numeric value into the Luxor code that's generating the image. Because we don't want to generate thousands of images for the slider positions, we'll use the in-memory (file-less) version of the `Drawing()` function with the `:svg` option, assign the drawing to `d`, and then return `d` as the result. (You must run this in Jupyter, not Atom/Juno or VS Code.)"
   ],
   "metadata": {}
  },
  {
   "outputs": [
    {
     "output_type": "execute_result",
     "data": {
      "text/plain": "WebIO.Node{WebIO.DOM}(WebIO.DOM(:html, :div), Any[WebIO.Node{WebIO.DOM}(WebIO.DOM(:html, :div), Any[WebIO.Scope(WebIO.Node{WebIO.DOM}(WebIO.DOM(:html, :div), Any[WebIO.Node{WebIO.DOM}(WebIO.DOM(:html, :div), Any[WebIO.Node{WebIO.DOM}(WebIO.DOM(:html, :label), Any[\"r1\"], Dict{Symbol,Any}(:className => \"interact \",:style => Dict{Any,Any}(:padding => \"5px 10px 0px 10px\")))], Dict{Symbol,Any}(:className => \"interact-flex-row-left\")), WebIO.Node{WebIO.DOM}(WebIO.DOM(:html, :div), Any[WebIO.Node{WebIO.DOM}(WebIO.DOM(:html, :input), Any[], Dict{Symbol,Any}(:max => 200,:min => 80,:attributes => Dict{Any,Any}(:type => \"range\",Symbol(\"data-bind\") => \"numericValue: index, valueUpdate: 'input', event: {change: function (){this.changes(this.changes()+1)}}\",\"orient\" => \"horizontal\"),:step => 1,:className => \"slider slider is-fullwidth\",:style => Dict{Any,Any}()))], Dict{Symbol,Any}(:className => \"interact-flex-row-center\")), WebIO.Node{WebIO.DOM}(WebIO.DOM(:html, :div), Any[WebIO.Node{WebIO.DOM}(WebIO.DOM(:html, :p), Any[], Dict{Symbol,Any}(:attributes => Dict(\"data-bind\" => \"text: formatted_val\")))], Dict{Symbol,Any}(:className => \"interact-flex-row-right\"))], Dict{Symbol,Any}(:className => \"interact-flex-row interact-widget\")), Dict{String,Tuple{Observables.AbstractObservable,Union{Nothing, Bool}}}(\"changes\" => (Observable{Int64} with 1 listeners. Value:\n0, nothing),\"index\" => (Observable{Int64} with 2 listeners. Value:\n140, nothing)), Set(String[]), nothing, WebIO.Asset[WebIO.Asset(\"js\", \"knockout\", \"/Users/pete/.julia/packages/Knockout/IP1uR/src/../assets/knockout.js\"), WebIO.Asset(\"js\", \"knockout_punches\", \"/Users/pete/.julia/packages/Knockout/IP1uR/src/../assets/knockout_punches.js\"), WebIO.Asset(\"js\", nothing, \"/Users/pete/.julia/packages/InteractBase/9mFwe/src/../assets/all.js\"), WebIO.Asset(\"css\", nothing, \"/Users/pete/.julia/packages/InteractBase/9mFwe/src/../assets/style.css\"), WebIO.Asset(\"css\", nothing, \"/Users/pete/.julia/packages/Interact/SbgIk/src/../assets/bulma.min.css\")], Dict{Any,Any}(\"changes\" => Any[WebIO.JSString(\"(function (val){return (val!=this.model[\\\"changes\\\"]()) ? (this.valueFromJulia[\\\"changes\\\"]=true, this.model[\\\"changes\\\"](val)) : undefined})\")],\"index\" => Any[WebIO.JSString(\"(function (val){return (val!=this.model[\\\"index\\\"]()) ? (this.valueFromJulia[\\\"index\\\"]=true, this.model[\\\"index\\\"](val)) : undefined})\")]), WebIO.ConnectionPool(Channel{Any}(sz_max:32,sz_curr:0), Set(WebIO.AbstractConnection[]), Base.GenericCondition{Base.AlwaysLockedST}(Base.InvasiveLinkedList{Task}(Task (runnable) @0x000000010fc93850, Task (runnable) @0x000000010fc93850), Base.AlwaysLockedST(1))), WebIO.JSString[WebIO.JSString(\"function () {\\n    var handler = (function (ko, koPunches) {\\n    ko.punches.enableAll();\\n    ko.bindingHandlers.numericValue = {\\n        init: function(element, valueAccessor, allBindings, data, context) {\\n            var stringified = ko.observable(ko.unwrap(valueAccessor()));\\n            stringified.subscribe(function(value) {\\n                var val = parseFloat(value);\\n                if (!isNaN(val)) {\\n                    valueAccessor()(val);\\n                }\\n            });\\n            valueAccessor().subscribe(function(value) {\\n                var str = JSON.stringify(value);\\n                if ((str == \\\"0\\\") && ([\\\"-0\\\", \\\"-0.\\\"].indexOf(stringified()) >= 0))\\n                     return;\\n                 if ([\\\"null\\\", \\\"\\\"].indexOf(str) >= 0)\\n                     return;\\n                stringified(str);\\n            });\\n            ko.applyBindingsToNode(\\n                element,\\n                {\\n                    value: stringified,\\n                    valueUpdate: allBindings.get('valueUpdate'),\\n                },\\n                context,\\n            );\\n        }\\n    };\\n    var json_data = {\\\"formatted_vals\\\":[\\\"80\\\",\\\"81\\\",\\\"82\\\",\\\"83\\\",\\\"84\\\",\\\"85\\\",\\\"86\\\",\\\"87\\\",\\\"88\\\",\\\"89\\\",\\\"90\\\",\\\"91\\\",\\\"92\\\",\\\"93\\\",\\\"94\\\",\\\"95\\\",\\\"96\\\",\\\"97\\\",\\\"98\\\",\\\"99\\\",\\\"100\\\",\\\"101\\\",\\\"102\\\",\\\"103\\\",\\\"104\\\",\\\"105\\\",\\\"106\\\",\\\"107\\\",\\\"108\\\",\\\"109\\\",\\\"110\\\",\\\"111\\\",\\\"112\\\",\\\"113\\\",\\\"114\\\",\\\"115\\\",\\\"116\\\",\\\"117\\\",\\\"118\\\",\\\"119\\\",\\\"120\\\",\\\"121\\\",\\\"122\\\",\\\"123\\\",\\\"124\\\",\\\"125\\\",\\\"126\\\",\\\"127\\\",\\\"128\\\",\\\"129\\\",\\\"130\\\",\\\"131\\\",\\\"132\\\",\\\"133\\\",\\\"134\\\",\\\"135\\\",\\\"136\\\",\\\"137\\\",\\\"138\\\",\\\"139\\\",\\\"140\\\",\\\"141\\\",\\\"142\\\",\\\"143\\\",\\\"144\\\",\\\"145\\\",\\\"146\\\",\\\"147\\\",\\\"148\\\",\\\"149\\\",\\\"150\\\",\\\"151\\\",\\\"152\\\",\\\"153\\\",\\\"154\\\",\\\"155\\\",\\\"156\\\",\\\"157\\\",\\\"158\\\",\\\"159\\\",\\\"160\\\",\\\"161\\\",\\\"162\\\",\\\"163\\\",\\\"164\\\",\\\"165\\\",\\\"166\\\",\\\"167\\\",\\\"168\\\",\\\"169\\\",\\\"170\\\",\\\"171\\\",\\\"172\\\",\\\"173\\\",\\\"174\\\",\\\"175\\\",\\\"176\\\",\\\"177\\\",\\\"178\\\",\\\"179\\\",\\\"180\\\",\\\"181\\\",\\\"182\\\",\\\"183\\\",\\\"184\\\",\\\"185\\\",\\\"186\\\",\\\"187\\\",\\\"188\\\",\\\"189\\\",\\\"190\\\",\\\"191\\\",\\\"192\\\",\\\"193\\\",\\\"194\\\",\\\"195\\\",\\\"196\\\",\\\"197\\\",\\\"198\\\",\\\"199\\\",\\\"200\\\"],\\\"changes\\\":WebIO.getval({\\\"name\\\":\\\"changes\\\",\\\"scope\\\":\\\"1976577836658209775\\\",\\\"id\\\":\\\"ob_83\\\",\\\"type\\\":\\\"observable\\\"}),\\\"index\\\":WebIO.getval({\\\"name\\\":\\\"index\\\",\\\"scope\\\":\\\"1976577836658209775\\\",\\\"id\\\":\\\"ob_82\\\",\\\"type\\\":\\\"observable\\\"})};\\n    var self = this;\\n    function AppViewModel() {\\n        for (var key in json_data) {\\n            var el = json_data[key];\\n            this[key] = Array.isArray(el) ? ko.observableArray(el) : ko.observable(el);\\n        }\\n        \\n        [this[\\\"formatted_val\\\"]=ko.computed(    function(){\\n        return this.formatted_vals()[parseInt(this.index())-(80)];\\n    }\\n,this)]\\n        [this[\\\"changes\\\"].subscribe((function (val){!(this.valueFromJulia[\\\"changes\\\"]) ? (WebIO.setval({\\\"name\\\":\\\"changes\\\",\\\"scope\\\":\\\"1976577836658209775\\\",\\\"id\\\":\\\"ob_83\\\",\\\"type\\\":\\\"observable\\\"},val)) : undefined; return this.valueFromJulia[\\\"changes\\\"]=false}),self),this[\\\"index\\\"].subscribe((function (val){!(this.valueFromJulia[\\\"index\\\"]) ? (WebIO.setval({\\\"name\\\":\\\"index\\\",\\\"scope\\\":\\\"1976577836658209775\\\",\\\"id\\\":\\\"ob_82\\\",\\\"type\\\":\\\"observable\\\"},val)) : undefined; return this.valueFromJulia[\\\"index\\\"]=false}),self)]\\n        \\n    }\\n    self.model = new AppViewModel();\\n    self.valueFromJulia = {};\\n    for (var key in json_data) {\\n        self.valueFromJulia[key] = false;\\n    }\\n    ko.applyBindings(self.model, self.dom);\\n}\\n);\\n    (WebIO.importBlock({\\\"data\\\":[{\\\"name\\\":\\\"knockout\\\",\\\"type\\\":\\\"js\\\",\\\"url\\\":\\\"/assetserver/3fc97d1c25c9104a4a5647f5aea1a721e64c8883-knockout.js\\\"},{\\\"name\\\":\\\"knockout_punches\\\",\\\"type\\\":\\\"js\\\",\\\"url\\\":\\\"/assetserver/587a9473f269d7e919db064a73c27fddff873451-knockout_punches.js\\\"}],\\\"type\\\":\\\"async_block\\\"})).then((imports) => handler.apply(this, imports));\\n}\\n\")])], Dict{Symbol,Any}(:className => \"field interact-widget\")), WebIO.Node{WebIO.DOM}(WebIO.DOM(:html, :div), Any[WebIO.Scope(WebIO.Node{WebIO.DOM}(WebIO.DOM(:html, :div), Any[WebIO.Node{WebIO.DOM}(WebIO.DOM(:html, :div), Any[WebIO.Node{WebIO.DOM}(WebIO.DOM(:html, :label), Any[\"r2\"], Dict{Symbol,Any}(:className => \"interact \",:style => Dict{Any,Any}(:padding => \"5px 10px 0px 10px\")))], Dict{Symbol,Any}(:className => \"interact-flex-row-left\")), WebIO.Node{WebIO.DOM}(WebIO.DOM(:html, :div), Any[WebIO.Node{WebIO.DOM}(WebIO.DOM(:html, :input), Any[], Dict{Symbol,Any}(:max => 200,:min => 80,:attributes => Dict{Any,Any}(:type => \"range\",Symbol(\"data-bind\") => \"numericValue: index, valueUpdate: 'input', event: {change: function (){this.changes(this.changes()+1)}}\",\"orient\" => \"horizontal\"),:step => 1,:className => \"slider slider is-fullwidth\",:style => Dict{Any,Any}()))], Dict{Symbol,Any}(:className => \"interact-flex-row-center\")), WebIO.Node{WebIO.DOM}(WebIO.DOM(:html, :div), Any[WebIO.Node{WebIO.DOM}(WebIO.DOM(:html, :p), Any[], Dict{Symbol,Any}(:attributes => Dict(\"data-bind\" => \"text: formatted_val\")))], Dict{Symbol,Any}(:className => \"interact-flex-row-right\"))], Dict{Symbol,Any}(:className => \"interact-flex-row interact-widget\")), Dict{String,Tuple{Observables.AbstractObservable,Union{Nothing, Bool}}}(\"changes\" => (Observable{Int64} with 1 listeners. Value:\n0, nothing),\"index\" => (Observable{Int64} with 2 listeners. Value:\n140, nothing)), Set(String[]), nothing, WebIO.Asset[WebIO.Asset(\"js\", \"knockout\", \"/Users/pete/.julia/packages/Knockout/IP1uR/src/../assets/knockout.js\"), WebIO.Asset(\"js\", \"knockout_punches\", \"/Users/pete/.julia/packages/Knockout/IP1uR/src/../assets/knockout_punches.js\"), WebIO.Asset(\"js\", nothing, \"/Users/pete/.julia/packages/InteractBase/9mFwe/src/../assets/all.js\"), WebIO.Asset(\"css\", nothing, \"/Users/pete/.julia/packages/InteractBase/9mFwe/src/../assets/style.css\"), WebIO.Asset(\"css\", nothing, \"/Users/pete/.julia/packages/Interact/SbgIk/src/../assets/bulma.min.css\")], Dict{Any,Any}(\"changes\" => Any[WebIO.JSString(\"(function (val){return (val!=this.model[\\\"changes\\\"]()) ? (this.valueFromJulia[\\\"changes\\\"]=true, this.model[\\\"changes\\\"](val)) : undefined})\")],\"index\" => Any[WebIO.JSString(\"(function (val){return (val!=this.model[\\\"index\\\"]()) ? (this.valueFromJulia[\\\"index\\\"]=true, this.model[\\\"index\\\"](val)) : undefined})\")]), WebIO.ConnectionPool(Channel{Any}(sz_max:32,sz_curr:0), Set(WebIO.AbstractConnection[]), Base.GenericCondition{Base.AlwaysLockedST}(Base.InvasiveLinkedList{Task}(Task (runnable) @0x00000001116ad210, Task (runnable) @0x00000001116ad210), Base.AlwaysLockedST(1))), WebIO.JSString[WebIO.JSString(\"function () {\\n    var handler = (function (ko, koPunches) {\\n    ko.punches.enableAll();\\n    ko.bindingHandlers.numericValue = {\\n        init: function(element, valueAccessor, allBindings, data, context) {\\n            var stringified = ko.observable(ko.unwrap(valueAccessor()));\\n            stringified.subscribe(function(value) {\\n                var val = parseFloat(value);\\n                if (!isNaN(val)) {\\n                    valueAccessor()(val);\\n                }\\n            });\\n            valueAccessor().subscribe(function(value) {\\n                var str = JSON.stringify(value);\\n                if ((str == \\\"0\\\") && ([\\\"-0\\\", \\\"-0.\\\"].indexOf(stringified()) >= 0))\\n                     return;\\n                 if ([\\\"null\\\", \\\"\\\"].indexOf(str) >= 0)\\n                     return;\\n                stringified(str);\\n            });\\n            ko.applyBindingsToNode(\\n                element,\\n                {\\n                    value: stringified,\\n                    valueUpdate: allBindings.get('valueUpdate'),\\n                },\\n                context,\\n            );\\n        }\\n    };\\n    var json_data = {\\\"formatted_vals\\\":[\\\"80\\\",\\\"81\\\",\\\"82\\\",\\\"83\\\",\\\"84\\\",\\\"85\\\",\\\"86\\\",\\\"87\\\",\\\"88\\\",\\\"89\\\",\\\"90\\\",\\\"91\\\",\\\"92\\\",\\\"93\\\",\\\"94\\\",\\\"95\\\",\\\"96\\\",\\\"97\\\",\\\"98\\\",\\\"99\\\",\\\"100\\\",\\\"101\\\",\\\"102\\\",\\\"103\\\",\\\"104\\\",\\\"105\\\",\\\"106\\\",\\\"107\\\",\\\"108\\\",\\\"109\\\",\\\"110\\\",\\\"111\\\",\\\"112\\\",\\\"113\\\",\\\"114\\\",\\\"115\\\",\\\"116\\\",\\\"117\\\",\\\"118\\\",\\\"119\\\",\\\"120\\\",\\\"121\\\",\\\"122\\\",\\\"123\\\",\\\"124\\\",\\\"125\\\",\\\"126\\\",\\\"127\\\",\\\"128\\\",\\\"129\\\",\\\"130\\\",\\\"131\\\",\\\"132\\\",\\\"133\\\",\\\"134\\\",\\\"135\\\",\\\"136\\\",\\\"137\\\",\\\"138\\\",\\\"139\\\",\\\"140\\\",\\\"141\\\",\\\"142\\\",\\\"143\\\",\\\"144\\\",\\\"145\\\",\\\"146\\\",\\\"147\\\",\\\"148\\\",\\\"149\\\",\\\"150\\\",\\\"151\\\",\\\"152\\\",\\\"153\\\",\\\"154\\\",\\\"155\\\",\\\"156\\\",\\\"157\\\",\\\"158\\\",\\\"159\\\",\\\"160\\\",\\\"161\\\",\\\"162\\\",\\\"163\\\",\\\"164\\\",\\\"165\\\",\\\"166\\\",\\\"167\\\",\\\"168\\\",\\\"169\\\",\\\"170\\\",\\\"171\\\",\\\"172\\\",\\\"173\\\",\\\"174\\\",\\\"175\\\",\\\"176\\\",\\\"177\\\",\\\"178\\\",\\\"179\\\",\\\"180\\\",\\\"181\\\",\\\"182\\\",\\\"183\\\",\\\"184\\\",\\\"185\\\",\\\"186\\\",\\\"187\\\",\\\"188\\\",\\\"189\\\",\\\"190\\\",\\\"191\\\",\\\"192\\\",\\\"193\\\",\\\"194\\\",\\\"195\\\",\\\"196\\\",\\\"197\\\",\\\"198\\\",\\\"199\\\",\\\"200\\\"],\\\"changes\\\":WebIO.getval({\\\"name\\\":\\\"changes\\\",\\\"scope\\\":\\\"11789286914419583674\\\",\\\"id\\\":\\\"ob_85\\\",\\\"type\\\":\\\"observable\\\"}),\\\"index\\\":WebIO.getval({\\\"name\\\":\\\"index\\\",\\\"scope\\\":\\\"11789286914419583674\\\",\\\"id\\\":\\\"ob_84\\\",\\\"type\\\":\\\"observable\\\"})};\\n    var self = this;\\n    function AppViewModel() {\\n        for (var key in json_data) {\\n            var el = json_data[key];\\n            this[key] = Array.isArray(el) ? ko.observableArray(el) : ko.observable(el);\\n        }\\n        \\n        [this[\\\"formatted_val\\\"]=ko.computed(    function(){\\n        return this.formatted_vals()[parseInt(this.index())-(80)];\\n    }\\n,this)]\\n        [this[\\\"changes\\\"].subscribe((function (val){!(this.valueFromJulia[\\\"changes\\\"]) ? (WebIO.setval({\\\"name\\\":\\\"changes\\\",\\\"scope\\\":\\\"11789286914419583674\\\",\\\"id\\\":\\\"ob_85\\\",\\\"type\\\":\\\"observable\\\"},val)) : undefined; return this.valueFromJulia[\\\"changes\\\"]=false}),self),this[\\\"index\\\"].subscribe((function (val){!(this.valueFromJulia[\\\"index\\\"]) ? (WebIO.setval({\\\"name\\\":\\\"index\\\",\\\"scope\\\":\\\"11789286914419583674\\\",\\\"id\\\":\\\"ob_84\\\",\\\"type\\\":\\\"observable\\\"},val)) : undefined; return this.valueFromJulia[\\\"index\\\"]=false}),self)]\\n        \\n    }\\n    self.model = new AppViewModel();\\n    self.valueFromJulia = {};\\n    for (var key in json_data) {\\n        self.valueFromJulia[key] = false;\\n    }\\n    ko.applyBindings(self.model, self.dom);\\n}\\n);\\n    (WebIO.importBlock({\\\"data\\\":[{\\\"name\\\":\\\"knockout\\\",\\\"type\\\":\\\"js\\\",\\\"url\\\":\\\"/assetserver/3fc97d1c25c9104a4a5647f5aea1a721e64c8883-knockout.js\\\"},{\\\"name\\\":\\\"knockout_punches\\\",\\\"type\\\":\\\"js\\\",\\\"url\\\":\\\"/assetserver/587a9473f269d7e919db064a73c27fddff873451-knockout_punches.js\\\"}],\\\"type\\\":\\\"async_block\\\"})).then((imports) => handler.apply(this, imports));\\n}\\n\")])], Dict{Symbol,Any}(:className => \"field interact-widget\")), Observable{Any} with 0 listeners. Value:\nWebIO.Node{WebIO.DOM}(WebIO.DOM(:html, :div), Any[width:    500.0\nheight:   500.0\nfilename: \ntype:     svg\n    ], Dict{Symbol,Any}(:className => \"interact-flex-row interact-widget\"))], Dict{Symbol,Any}())",
      "text/html": [
       "<div\n",
       "    class=\"webio-mountpoint\"\n",
       "    data-webio-mountpoint=\"17950112956799329933\"\n",
       ">\n",
       "    <script>\n",
       "    if (window.require && require.defined && require.defined(\"nbextensions/webio-jupyter-notebook\")) {\n",
       "        console.log(\"Jupyter WebIO extension detected, not mounting.\");\n",
       "    } else if (window.WebIO) {\n",
       "        WebIO.mount(\n",
       "            document.querySelector('[data-webio-mountpoint=\"17950112956799329933\"]'),\n",
       "            {\"props\":{},\"nodeType\":\"DOM\",\"type\":\"node\",\"instanceArgs\":{\"namespace\":\"html\",\"tag\":\"div\"},\"children\":[{\"props\":{\"className\":\"field interact-widget\"},\"nodeType\":\"DOM\",\"type\":\"node\",\"instanceArgs\":{\"namespace\":\"html\",\"tag\":\"div\"},\"children\":[{\"props\":{},\"nodeType\":\"Scope\",\"type\":\"node\",\"instanceArgs\":{\"imports\":{\"data\":[{\"name\":\"knockout\",\"type\":\"js\",\"url\":\"\\/assetserver\\/3fc97d1c25c9104a4a5647f5aea1a721e64c8883-knockout.js\"},{\"name\":\"knockout_punches\",\"type\":\"js\",\"url\":\"\\/assetserver\\/587a9473f269d7e919db064a73c27fddff873451-knockout_punches.js\"},{\"name\":null,\"type\":\"js\",\"url\":\"\\/assetserver\\/63748a3b171b1d0979570771b39ce060b62aeca1-all.js\"},{\"name\":null,\"type\":\"css\",\"url\":\"\\/assetserver\\/d1dc184d6b73cad2def7fedecde33bcd802f554b-style.css\"},{\"name\":null,\"type\":\"css\",\"url\":\"\\/assetserver\\/0273ac4a90794099d0eb069a1f8ace956785236b-bulma.min.css\"}],\"type\":\"async_block\"},\"id\":\"1976577836658209775\",\"handlers\":{\"changes\":[\"(function (val){return (val!=this.model[\\\"changes\\\"]()) ? (this.valueFromJulia[\\\"changes\\\"]=true, this.model[\\\"changes\\\"](val)) : undefined})\"],\"index\":[\"(function (val){return (val!=this.model[\\\"index\\\"]()) ? (this.valueFromJulia[\\\"index\\\"]=true, this.model[\\\"index\\\"](val)) : undefined})\"]},\"systemjs_options\":null,\"mount_callbacks\":[\"function () {\\n    var handler = (function (ko, koPunches) {\\n    ko.punches.enableAll();\\n    ko.bindingHandlers.numericValue = {\\n        init: function(element, valueAccessor, allBindings, data, context) {\\n            var stringified = ko.observable(ko.unwrap(valueAccessor()));\\n            stringified.subscribe(function(value) {\\n                var val = parseFloat(value);\\n                if (!isNaN(val)) {\\n                    valueAccessor()(val);\\n                }\\n            });\\n            valueAccessor().subscribe(function(value) {\\n                var str = JSON.stringify(value);\\n                if ((str == \\\"0\\\") && ([\\\"-0\\\", \\\"-0.\\\"].indexOf(stringified()) >= 0))\\n                     return;\\n                 if ([\\\"null\\\", \\\"\\\"].indexOf(str) >= 0)\\n                     return;\\n                stringified(str);\\n            });\\n            ko.applyBindingsToNode(\\n                element,\\n                {\\n                    value: stringified,\\n                    valueUpdate: allBindings.get('valueUpdate'),\\n                },\\n                context,\\n            );\\n        }\\n    };\\n    var json_data = {\\\"formatted_vals\\\":[\\\"80\\\",\\\"81\\\",\\\"82\\\",\\\"83\\\",\\\"84\\\",\\\"85\\\",\\\"86\\\",\\\"87\\\",\\\"88\\\",\\\"89\\\",\\\"90\\\",\\\"91\\\",\\\"92\\\",\\\"93\\\",\\\"94\\\",\\\"95\\\",\\\"96\\\",\\\"97\\\",\\\"98\\\",\\\"99\\\",\\\"100\\\",\\\"101\\\",\\\"102\\\",\\\"103\\\",\\\"104\\\",\\\"105\\\",\\\"106\\\",\\\"107\\\",\\\"108\\\",\\\"109\\\",\\\"110\\\",\\\"111\\\",\\\"112\\\",\\\"113\\\",\\\"114\\\",\\\"115\\\",\\\"116\\\",\\\"117\\\",\\\"118\\\",\\\"119\\\",\\\"120\\\",\\\"121\\\",\\\"122\\\",\\\"123\\\",\\\"124\\\",\\\"125\\\",\\\"126\\\",\\\"127\\\",\\\"128\\\",\\\"129\\\",\\\"130\\\",\\\"131\\\",\\\"132\\\",\\\"133\\\",\\\"134\\\",\\\"135\\\",\\\"136\\\",\\\"137\\\",\\\"138\\\",\\\"139\\\",\\\"140\\\",\\\"141\\\",\\\"142\\\",\\\"143\\\",\\\"144\\\",\\\"145\\\",\\\"146\\\",\\\"147\\\",\\\"148\\\",\\\"149\\\",\\\"150\\\",\\\"151\\\",\\\"152\\\",\\\"153\\\",\\\"154\\\",\\\"155\\\",\\\"156\\\",\\\"157\\\",\\\"158\\\",\\\"159\\\",\\\"160\\\",\\\"161\\\",\\\"162\\\",\\\"163\\\",\\\"164\\\",\\\"165\\\",\\\"166\\\",\\\"167\\\",\\\"168\\\",\\\"169\\\",\\\"170\\\",\\\"171\\\",\\\"172\\\",\\\"173\\\",\\\"174\\\",\\\"175\\\",\\\"176\\\",\\\"177\\\",\\\"178\\\",\\\"179\\\",\\\"180\\\",\\\"181\\\",\\\"182\\\",\\\"183\\\",\\\"184\\\",\\\"185\\\",\\\"186\\\",\\\"187\\\",\\\"188\\\",\\\"189\\\",\\\"190\\\",\\\"191\\\",\\\"192\\\",\\\"193\\\",\\\"194\\\",\\\"195\\\",\\\"196\\\",\\\"197\\\",\\\"198\\\",\\\"199\\\",\\\"200\\\"],\\\"changes\\\":WebIO.getval({\\\"name\\\":\\\"changes\\\",\\\"scope\\\":\\\"1976577836658209775\\\",\\\"id\\\":\\\"ob_83\\\",\\\"type\\\":\\\"observable\\\"}),\\\"index\\\":WebIO.getval({\\\"name\\\":\\\"index\\\",\\\"scope\\\":\\\"1976577836658209775\\\",\\\"id\\\":\\\"ob_82\\\",\\\"type\\\":\\\"observable\\\"})};\\n    var self = this;\\n    function AppViewModel() {\\n        for (var key in json_data) {\\n            var el = json_data[key];\\n            this[key] = Array.isArray(el) ? ko.observableArray(el) : ko.observable(el);\\n        }\\n        \\n        [this[\\\"formatted_val\\\"]=ko.computed(    function(){\\n        return this.formatted_vals()[parseInt(this.index())-(80)];\\n    }\\n,this)]\\n        [this[\\\"changes\\\"].subscribe((function (val){!(this.valueFromJulia[\\\"changes\\\"]) ? (WebIO.setval({\\\"name\\\":\\\"changes\\\",\\\"scope\\\":\\\"1976577836658209775\\\",\\\"id\\\":\\\"ob_83\\\",\\\"type\\\":\\\"observable\\\"},val)) : undefined; return this.valueFromJulia[\\\"changes\\\"]=false}),self),this[\\\"index\\\"].subscribe((function (val){!(this.valueFromJulia[\\\"index\\\"]) ? (WebIO.setval({\\\"name\\\":\\\"index\\\",\\\"scope\\\":\\\"1976577836658209775\\\",\\\"id\\\":\\\"ob_82\\\",\\\"type\\\":\\\"observable\\\"},val)) : undefined; return this.valueFromJulia[\\\"index\\\"]=false}),self)]\\n        \\n    }\\n    self.model = new AppViewModel();\\n    self.valueFromJulia = {};\\n    for (var key in json_data) {\\n        self.valueFromJulia[key] = false;\\n    }\\n    ko.applyBindings(self.model, self.dom);\\n}\\n);\\n    (WebIO.importBlock({\\\"data\\\":[{\\\"name\\\":\\\"knockout\\\",\\\"type\\\":\\\"js\\\",\\\"url\\\":\\\"\\/assetserver\\/3fc97d1c25c9104a4a5647f5aea1a721e64c8883-knockout.js\\\"},{\\\"name\\\":\\\"knockout_punches\\\",\\\"type\\\":\\\"js\\\",\\\"url\\\":\\\"\\/assetserver\\/587a9473f269d7e919db064a73c27fddff873451-knockout_punches.js\\\"}],\\\"type\\\":\\\"async_block\\\"})).then((imports) => handler.apply(this, imports));\\n}\\n\"],\"observables\":{\"changes\":{\"sync\":false,\"id\":\"ob_83\",\"value\":0},\"index\":{\"sync\":true,\"id\":\"ob_82\",\"value\":140}}},\"children\":[{\"props\":{\"className\":\"interact-flex-row interact-widget\"},\"nodeType\":\"DOM\",\"type\":\"node\",\"instanceArgs\":{\"namespace\":\"html\",\"tag\":\"div\"},\"children\":[{\"props\":{\"className\":\"interact-flex-row-left\"},\"nodeType\":\"DOM\",\"type\":\"node\",\"instanceArgs\":{\"namespace\":\"html\",\"tag\":\"div\"},\"children\":[{\"props\":{\"className\":\"interact \",\"style\":{\"padding\":\"5px 10px 0px 10px\"}},\"nodeType\":\"DOM\",\"type\":\"node\",\"instanceArgs\":{\"namespace\":\"html\",\"tag\":\"label\"},\"children\":[\"r1\"]}]},{\"props\":{\"className\":\"interact-flex-row-center\"},\"nodeType\":\"DOM\",\"type\":\"node\",\"instanceArgs\":{\"namespace\":\"html\",\"tag\":\"div\"},\"children\":[{\"props\":{\"max\":200,\"min\":80,\"attributes\":{\"type\":\"range\",\"data-bind\":\"numericValue: index, valueUpdate: 'input', event: {change: function (){this.changes(this.changes()+1)}}\",\"orient\":\"horizontal\"},\"step\":1,\"className\":\"slider slider is-fullwidth\",\"style\":{}},\"nodeType\":\"DOM\",\"type\":\"node\",\"instanceArgs\":{\"namespace\":\"html\",\"tag\":\"input\"},\"children\":[]}]},{\"props\":{\"className\":\"interact-flex-row-right\"},\"nodeType\":\"DOM\",\"type\":\"node\",\"instanceArgs\":{\"namespace\":\"html\",\"tag\":\"div\"},\"children\":[{\"props\":{\"attributes\":{\"data-bind\":\"text: formatted_val\"}},\"nodeType\":\"DOM\",\"type\":\"node\",\"instanceArgs\":{\"namespace\":\"html\",\"tag\":\"p\"},\"children\":[]}]}]}]}]},{\"props\":{\"className\":\"field interact-widget\"},\"nodeType\":\"DOM\",\"type\":\"node\",\"instanceArgs\":{\"namespace\":\"html\",\"tag\":\"div\"},\"children\":[{\"props\":{},\"nodeType\":\"Scope\",\"type\":\"node\",\"instanceArgs\":{\"imports\":{\"data\":[{\"name\":\"knockout\",\"type\":\"js\",\"url\":\"\\/assetserver\\/3fc97d1c25c9104a4a5647f5aea1a721e64c8883-knockout.js\"},{\"name\":\"knockout_punches\",\"type\":\"js\",\"url\":\"\\/assetserver\\/587a9473f269d7e919db064a73c27fddff873451-knockout_punches.js\"},{\"name\":null,\"type\":\"js\",\"url\":\"\\/assetserver\\/63748a3b171b1d0979570771b39ce060b62aeca1-all.js\"},{\"name\":null,\"type\":\"css\",\"url\":\"\\/assetserver\\/d1dc184d6b73cad2def7fedecde33bcd802f554b-style.css\"},{\"name\":null,\"type\":\"css\",\"url\":\"\\/assetserver\\/0273ac4a90794099d0eb069a1f8ace956785236b-bulma.min.css\"}],\"type\":\"async_block\"},\"id\":\"11789286914419583674\",\"handlers\":{\"changes\":[\"(function (val){return (val!=this.model[\\\"changes\\\"]()) ? (this.valueFromJulia[\\\"changes\\\"]=true, this.model[\\\"changes\\\"](val)) : undefined})\"],\"index\":[\"(function (val){return (val!=this.model[\\\"index\\\"]()) ? (this.valueFromJulia[\\\"index\\\"]=true, this.model[\\\"index\\\"](val)) : undefined})\"]},\"systemjs_options\":null,\"mount_callbacks\":[\"function () {\\n    var handler = (function (ko, koPunches) {\\n    ko.punches.enableAll();\\n    ko.bindingHandlers.numericValue = {\\n        init: function(element, valueAccessor, allBindings, data, context) {\\n            var stringified = ko.observable(ko.unwrap(valueAccessor()));\\n            stringified.subscribe(function(value) {\\n                var val = parseFloat(value);\\n                if (!isNaN(val)) {\\n                    valueAccessor()(val);\\n                }\\n            });\\n            valueAccessor().subscribe(function(value) {\\n                var str = JSON.stringify(value);\\n                if ((str == \\\"0\\\") && ([\\\"-0\\\", \\\"-0.\\\"].indexOf(stringified()) >= 0))\\n                     return;\\n                 if ([\\\"null\\\", \\\"\\\"].indexOf(str) >= 0)\\n                     return;\\n                stringified(str);\\n            });\\n            ko.applyBindingsToNode(\\n                element,\\n                {\\n                    value: stringified,\\n                    valueUpdate: allBindings.get('valueUpdate'),\\n                },\\n                context,\\n            );\\n        }\\n    };\\n    var json_data = {\\\"formatted_vals\\\":[\\\"80\\\",\\\"81\\\",\\\"82\\\",\\\"83\\\",\\\"84\\\",\\\"85\\\",\\\"86\\\",\\\"87\\\",\\\"88\\\",\\\"89\\\",\\\"90\\\",\\\"91\\\",\\\"92\\\",\\\"93\\\",\\\"94\\\",\\\"95\\\",\\\"96\\\",\\\"97\\\",\\\"98\\\",\\\"99\\\",\\\"100\\\",\\\"101\\\",\\\"102\\\",\\\"103\\\",\\\"104\\\",\\\"105\\\",\\\"106\\\",\\\"107\\\",\\\"108\\\",\\\"109\\\",\\\"110\\\",\\\"111\\\",\\\"112\\\",\\\"113\\\",\\\"114\\\",\\\"115\\\",\\\"116\\\",\\\"117\\\",\\\"118\\\",\\\"119\\\",\\\"120\\\",\\\"121\\\",\\\"122\\\",\\\"123\\\",\\\"124\\\",\\\"125\\\",\\\"126\\\",\\\"127\\\",\\\"128\\\",\\\"129\\\",\\\"130\\\",\\\"131\\\",\\\"132\\\",\\\"133\\\",\\\"134\\\",\\\"135\\\",\\\"136\\\",\\\"137\\\",\\\"138\\\",\\\"139\\\",\\\"140\\\",\\\"141\\\",\\\"142\\\",\\\"143\\\",\\\"144\\\",\\\"145\\\",\\\"146\\\",\\\"147\\\",\\\"148\\\",\\\"149\\\",\\\"150\\\",\\\"151\\\",\\\"152\\\",\\\"153\\\",\\\"154\\\",\\\"155\\\",\\\"156\\\",\\\"157\\\",\\\"158\\\",\\\"159\\\",\\\"160\\\",\\\"161\\\",\\\"162\\\",\\\"163\\\",\\\"164\\\",\\\"165\\\",\\\"166\\\",\\\"167\\\",\\\"168\\\",\\\"169\\\",\\\"170\\\",\\\"171\\\",\\\"172\\\",\\\"173\\\",\\\"174\\\",\\\"175\\\",\\\"176\\\",\\\"177\\\",\\\"178\\\",\\\"179\\\",\\\"180\\\",\\\"181\\\",\\\"182\\\",\\\"183\\\",\\\"184\\\",\\\"185\\\",\\\"186\\\",\\\"187\\\",\\\"188\\\",\\\"189\\\",\\\"190\\\",\\\"191\\\",\\\"192\\\",\\\"193\\\",\\\"194\\\",\\\"195\\\",\\\"196\\\",\\\"197\\\",\\\"198\\\",\\\"199\\\",\\\"200\\\"],\\\"changes\\\":WebIO.getval({\\\"name\\\":\\\"changes\\\",\\\"scope\\\":\\\"11789286914419583674\\\",\\\"id\\\":\\\"ob_85\\\",\\\"type\\\":\\\"observable\\\"}),\\\"index\\\":WebIO.getval({\\\"name\\\":\\\"index\\\",\\\"scope\\\":\\\"11789286914419583674\\\",\\\"id\\\":\\\"ob_84\\\",\\\"type\\\":\\\"observable\\\"})};\\n    var self = this;\\n    function AppViewModel() {\\n        for (var key in json_data) {\\n            var el = json_data[key];\\n            this[key] = Array.isArray(el) ? ko.observableArray(el) : ko.observable(el);\\n        }\\n        \\n        [this[\\\"formatted_val\\\"]=ko.computed(    function(){\\n        return this.formatted_vals()[parseInt(this.index())-(80)];\\n    }\\n,this)]\\n        [this[\\\"changes\\\"].subscribe((function (val){!(this.valueFromJulia[\\\"changes\\\"]) ? (WebIO.setval({\\\"name\\\":\\\"changes\\\",\\\"scope\\\":\\\"11789286914419583674\\\",\\\"id\\\":\\\"ob_85\\\",\\\"type\\\":\\\"observable\\\"},val)) : undefined; return this.valueFromJulia[\\\"changes\\\"]=false}),self),this[\\\"index\\\"].subscribe((function (val){!(this.valueFromJulia[\\\"index\\\"]) ? (WebIO.setval({\\\"name\\\":\\\"index\\\",\\\"scope\\\":\\\"11789286914419583674\\\",\\\"id\\\":\\\"ob_84\\\",\\\"type\\\":\\\"observable\\\"},val)) : undefined; return this.valueFromJulia[\\\"index\\\"]=false}),self)]\\n        \\n    }\\n    self.model = new AppViewModel();\\n    self.valueFromJulia = {};\\n    for (var key in json_data) {\\n        self.valueFromJulia[key] = false;\\n    }\\n    ko.applyBindings(self.model, self.dom);\\n}\\n);\\n    (WebIO.importBlock({\\\"data\\\":[{\\\"name\\\":\\\"knockout\\\",\\\"type\\\":\\\"js\\\",\\\"url\\\":\\\"\\/assetserver\\/3fc97d1c25c9104a4a5647f5aea1a721e64c8883-knockout.js\\\"},{\\\"name\\\":\\\"knockout_punches\\\",\\\"type\\\":\\\"js\\\",\\\"url\\\":\\\"\\/assetserver\\/587a9473f269d7e919db064a73c27fddff873451-knockout_punches.js\\\"}],\\\"type\\\":\\\"async_block\\\"})).then((imports) => handler.apply(this, imports));\\n}\\n\"],\"observables\":{\"changes\":{\"sync\":false,\"id\":\"ob_85\",\"value\":0},\"index\":{\"sync\":true,\"id\":\"ob_84\",\"value\":140}}},\"children\":[{\"props\":{\"className\":\"interact-flex-row interact-widget\"},\"nodeType\":\"DOM\",\"type\":\"node\",\"instanceArgs\":{\"namespace\":\"html\",\"tag\":\"div\"},\"children\":[{\"props\":{\"className\":\"interact-flex-row-left\"},\"nodeType\":\"DOM\",\"type\":\"node\",\"instanceArgs\":{\"namespace\":\"html\",\"tag\":\"div\"},\"children\":[{\"props\":{\"className\":\"interact \",\"style\":{\"padding\":\"5px 10px 0px 10px\"}},\"nodeType\":\"DOM\",\"type\":\"node\",\"instanceArgs\":{\"namespace\":\"html\",\"tag\":\"label\"},\"children\":[\"r2\"]}]},{\"props\":{\"className\":\"interact-flex-row-center\"},\"nodeType\":\"DOM\",\"type\":\"node\",\"instanceArgs\":{\"namespace\":\"html\",\"tag\":\"div\"},\"children\":[{\"props\":{\"max\":200,\"min\":80,\"attributes\":{\"type\":\"range\",\"data-bind\":\"numericValue: index, valueUpdate: 'input', event: {change: function (){this.changes(this.changes()+1)}}\",\"orient\":\"horizontal\"},\"step\":1,\"className\":\"slider slider is-fullwidth\",\"style\":{}},\"nodeType\":\"DOM\",\"type\":\"node\",\"instanceArgs\":{\"namespace\":\"html\",\"tag\":\"input\"},\"children\":[]}]},{\"props\":{\"className\":\"interact-flex-row-right\"},\"nodeType\":\"DOM\",\"type\":\"node\",\"instanceArgs\":{\"namespace\":\"html\",\"tag\":\"div\"},\"children\":[{\"props\":{\"attributes\":{\"data-bind\":\"text: formatted_val\"}},\"nodeType\":\"DOM\",\"type\":\"node\",\"instanceArgs\":{\"namespace\":\"html\",\"tag\":\"p\"},\"children\":[]}]}]}]}]},{\"props\":{},\"nodeType\":\"Scope\",\"type\":\"node\",\"instanceArgs\":{\"imports\":{\"data\":[],\"type\":\"async_block\"},\"id\":\"5312107252439269764\",\"handlers\":{},\"systemjs_options\":null,\"mount_callbacks\":[],\"observables\":{\"obs-node\":{\"sync\":false,\"id\":\"ob_89\",\"value\":{\"props\":{\"className\":\"interact-flex-row interact-widget\"},\"nodeType\":\"DOM\",\"type\":\"node\",\"instanceArgs\":{\"namespace\":\"html\",\"tag\":\"div\"},\"children\":[{\"props\":{\"setInnerHtml\":\"<?xml version=\\\"1.0\\\" encoding=\\\"UTF-8\\\"?>\\n<svg xmlns=\\\"http:\\/\\/www.w3.org\\/2000\\/svg\\\" xmlns:xlink=\\\"http:\\/\\/www.w3.org\\/1999\\/xlink\\\" width=\\\"500pt\\\" height=\\\"500pt\\\" viewBox=\\\"0 0 500 500\\\" version=\\\"1.1\\\">\\n<g id=\\\"surface332\\\">\\n<path style=\\\"fill:none;stroke-width:2;stroke-linecap:butt;stroke-linejoin:miter;stroke:rgb(0%,0%,0%);stroke-opacity:1;stroke-miterlimit:10;\\\" d=\\\"M 290 250 C 290 327.320312 227.320312 390 150 390 C 72.679688 390 10 327.320312 10 250 C 10 172.679688 72.679688 110 150 110 C 227.320312 110 290 172.679688 290 250 \\\"\\/>\\n<path style=\\\"fill:none;stroke-width:2;stroke-linecap:butt;stroke-linejoin:miter;stroke:rgb(0%,0%,0%);stroke-opacity:1;stroke-miterlimit:10;\\\" d=\\\"M 490 250 C 490 327.320312 427.320312 390 350 390 C 272.679688 390 210 327.320312 210 250 C 210 172.679688 272.679688 110 350 110 C 427.320312 110 490 172.679688 490 250 \\\"\\/>\\n<path style=\\\" stroke:none;fill-rule:nonzero;fill:rgb(100%,0%,0%);fill-opacity:1;\\\" d=\\\"M 262 152.019531 C 262 158.648438 256.628906 164.019531 250 164.019531 C 243.371094 164.019531 238 158.648438 238 152.019531 C 238 145.394531 243.371094 140.019531 250 140.019531 C 256.628906 140.019531 262 145.394531 262 152.019531 \\\"\\/>\\n<path style=\\\" stroke:none;fill-rule:nonzero;fill:rgb(0%,50.196078%,0%);fill-opacity:1;\\\" d=\\\"M 260 347.980469 C 260 353.503906 255.523438 357.980469 250 357.980469 C 244.476562 357.980469 240 353.503906 240 347.980469 C 240 342.457031 244.476562 337.980469 250 337.980469 C 255.523438 337.980469 260 342.457031 260 347.980469 \\\"\\/>\\n<\\/g>\\n<\\/svg>\\n\"},\"nodeType\":\"DOM\",\"type\":\"node\",\"instanceArgs\":{\"namespace\":\"html\",\"tag\":\"div\"},\"children\":[]}]}}}},\"children\":[{\"props\":{},\"nodeType\":\"ObservableNode\",\"type\":\"node\",\"instanceArgs\":{\"id\":\"ob_89\",\"name\":\"obs-node\"},\"children\":[]}]}]},\n",
       "            window,\n",
       "        );\n",
       "    } else {\n",
       "        document\n",
       "            .querySelector('[data-webio-mountpoint=\"17950112956799329933\"]')\n",
       "            .innerHTML = (\n",
       "                '<div style=\"padding: 1em; background-color: #f8d6da; border: 1px solid #f5c6cb\">' +\n",
       "                '<p><strong>WebIO not detected.</strong></p>' +\n",
       "                '<p>Please read ' +\n",
       "                '<a href=\"https://juliagizmos.github.io/WebIO.jl/latest/troubleshooting/not-detected/\" target=\"_blank\">the troubleshooting guide</a> ' +\n",
       "                'for more information on how to resolve this issue.</p>' +\n",
       "                '<p><a href=\"https://juliagizmos.github.io/WebIO.jl/latest/troubleshooting/not-detected/\" target=\"_blank\">https://juliagizmos.github.io/WebIO.jl/latest/troubleshooting/not-detected/</a></p>' +\n",
       "                '</div>'\n",
       "            );\n",
       "    }\n",
       "    </script>\n",
       "</div>\n"
      ]
     },
     "metadata": {},
     "execution_count": 10
    }
   ],
   "cell_type": "code",
   "source": [
    "@manipulate for r1 in 80:200, r2 in 80:200\n",
    "    d = Drawing(500, 500, :svg)\n",
    "    origin()\n",
    "    sethue(\"black\")\n",
    "    circle(Point(-100, 0), r1, :stroke)\n",
    "    circle(Point(100, 0), r2, :stroke)\n",
    "    flag, ip1, ip2 = intersectioncirclecircle(Point(-100, 0), r1, Point(100, 0), r2)\n",
    "\n",
    "    if flag\n",
    "        sethue(\"red\")\n",
    "        circle(ip1, 12, :fill)\n",
    "        sethue(\"green\")\n",
    "        circle(ip2, 10, :fill)\n",
    "    end\n",
    "    finish()\n",
    "    return d\n",
    "end"
   ],
   "metadata": {},
   "execution_count": 10
  },
  {
   "cell_type": "markdown",
   "source": [
    "The mathematics going on behind the scenes here avoids the situation when there is a single intersection point, probably because it would demand too much accuracy from the floating-point routines involved. Simple graphics aren't perfectly accurate!"
   ],
   "metadata": {}
  },
  {
   "cell_type": "markdown",
   "source": [
    "## Sample size"
   ],
   "metadata": {}
  },
  {
   "cell_type": "markdown",
   "source": [
    "Now let's investigate the `polysample()` function, a useful tool that creates new versions of polygons by \"sampling\" them a given number of times. First we create a regular polygon, using `ngonside()` rather than `ngon()`, with `nsides` sides and a side length of 100. Then we sample the polygon `s` times."
   ],
   "metadata": {}
  },
  {
   "outputs": [
    {
     "output_type": "execute_result",
     "data": {
      "text/plain": "WebIO.Node{WebIO.DOM}(WebIO.DOM(:html, :div), Any[WebIO.Node{WebIO.DOM}(WebIO.DOM(:html, :div), Any[WebIO.Scope(WebIO.Node{WebIO.DOM}(WebIO.DOM(:html, :div), Any[WebIO.Node{WebIO.DOM}(WebIO.DOM(:html, :div), Any[WebIO.Node{WebIO.DOM}(WebIO.DOM(:html, :label), Any[\"s\"], Dict{Symbol,Any}(:className => \"interact \",:style => Dict{Any,Any}(:padding => \"5px 10px 0px 10px\")))], Dict{Symbol,Any}(:className => \"interact-flex-row-left\")), WebIO.Node{WebIO.DOM}(WebIO.DOM(:html, :div), Any[WebIO.Node{WebIO.DOM}(WebIO.DOM(:html, :input), Any[], Dict{Symbol,Any}(:max => 100,:min => 3,:attributes => Dict{Any,Any}(:type => \"range\",Symbol(\"data-bind\") => \"numericValue: index, valueUpdate: 'input', event: {change: function (){this.changes(this.changes()+1)}}\",\"orient\" => \"horizontal\"),:step => 1,:className => \"slider slider is-fullwidth\",:style => Dict{Any,Any}()))], Dict{Symbol,Any}(:className => \"interact-flex-row-center\")), WebIO.Node{WebIO.DOM}(WebIO.DOM(:html, :div), Any[WebIO.Node{WebIO.DOM}(WebIO.DOM(:html, :p), Any[], Dict{Symbol,Any}(:attributes => Dict(\"data-bind\" => \"text: formatted_val\")))], Dict{Symbol,Any}(:className => \"interact-flex-row-right\"))], Dict{Symbol,Any}(:className => \"interact-flex-row interact-widget\")), Dict{String,Tuple{Observables.AbstractObservable,Union{Nothing, Bool}}}(\"changes\" => (Observable{Int64} with 1 listeners. Value:\n0, nothing),\"index\" => (Observable{Int64} with 2 listeners. Value:\n51, nothing)), Set(String[]), nothing, WebIO.Asset[WebIO.Asset(\"js\", \"knockout\", \"/Users/pete/.julia/packages/Knockout/IP1uR/src/../assets/knockout.js\"), WebIO.Asset(\"js\", \"knockout_punches\", \"/Users/pete/.julia/packages/Knockout/IP1uR/src/../assets/knockout_punches.js\"), WebIO.Asset(\"js\", nothing, \"/Users/pete/.julia/packages/InteractBase/9mFwe/src/../assets/all.js\"), WebIO.Asset(\"css\", nothing, \"/Users/pete/.julia/packages/InteractBase/9mFwe/src/../assets/style.css\"), WebIO.Asset(\"css\", nothing, \"/Users/pete/.julia/packages/Interact/SbgIk/src/../assets/bulma.min.css\")], Dict{Any,Any}(\"changes\" => Any[WebIO.JSString(\"(function (val){return (val!=this.model[\\\"changes\\\"]()) ? (this.valueFromJulia[\\\"changes\\\"]=true, this.model[\\\"changes\\\"](val)) : undefined})\")],\"index\" => Any[WebIO.JSString(\"(function (val){return (val!=this.model[\\\"index\\\"]()) ? (this.valueFromJulia[\\\"index\\\"]=true, this.model[\\\"index\\\"](val)) : undefined})\")]), WebIO.ConnectionPool(Channel{Any}(sz_max:32,sz_curr:0), Set(WebIO.AbstractConnection[]), Base.GenericCondition{Base.AlwaysLockedST}(Base.InvasiveLinkedList{Task}(Task (runnable) @0x000000011181cd90, Task (runnable) @0x000000011181cd90), Base.AlwaysLockedST(1))), WebIO.JSString[WebIO.JSString(\"function () {\\n    var handler = (function (ko, koPunches) {\\n    ko.punches.enableAll();\\n    ko.bindingHandlers.numericValue = {\\n        init: function(element, valueAccessor, allBindings, data, context) {\\n            var stringified = ko.observable(ko.unwrap(valueAccessor()));\\n            stringified.subscribe(function(value) {\\n                var val = parseFloat(value);\\n                if (!isNaN(val)) {\\n                    valueAccessor()(val);\\n                }\\n            });\\n            valueAccessor().subscribe(function(value) {\\n                var str = JSON.stringify(value);\\n                if ((str == \\\"0\\\") && ([\\\"-0\\\", \\\"-0.\\\"].indexOf(stringified()) >= 0))\\n                     return;\\n                 if ([\\\"null\\\", \\\"\\\"].indexOf(str) >= 0)\\n                     return;\\n                stringified(str);\\n            });\\n            ko.applyBindingsToNode(\\n                element,\\n                {\\n                    value: stringified,\\n                    valueUpdate: allBindings.get('valueUpdate'),\\n                },\\n                context,\\n            );\\n        }\\n    };\\n    var json_data = {\\\"formatted_vals\\\":[\\\"3\\\",\\\"4\\\",\\\"5\\\",\\\"6\\\",\\\"7\\\",\\\"8\\\",\\\"9\\\",\\\"10\\\",\\\"11\\\",\\\"12\\\",\\\"13\\\",\\\"14\\\",\\\"15\\\",\\\"16\\\",\\\"17\\\",\\\"18\\\",\\\"19\\\",\\\"20\\\",\\\"21\\\",\\\"22\\\",\\\"23\\\",\\\"24\\\",\\\"25\\\",\\\"26\\\",\\\"27\\\",\\\"28\\\",\\\"29\\\",\\\"30\\\",\\\"31\\\",\\\"32\\\",\\\"33\\\",\\\"34\\\",\\\"35\\\",\\\"36\\\",\\\"37\\\",\\\"38\\\",\\\"39\\\",\\\"40\\\",\\\"41\\\",\\\"42\\\",\\\"43\\\",\\\"44\\\",\\\"45\\\",\\\"46\\\",\\\"47\\\",\\\"48\\\",\\\"49\\\",\\\"50\\\",\\\"51\\\",\\\"52\\\",\\\"53\\\",\\\"54\\\",\\\"55\\\",\\\"56\\\",\\\"57\\\",\\\"58\\\",\\\"59\\\",\\\"60\\\",\\\"61\\\",\\\"62\\\",\\\"63\\\",\\\"64\\\",\\\"65\\\",\\\"66\\\",\\\"67\\\",\\\"68\\\",\\\"69\\\",\\\"70\\\",\\\"71\\\",\\\"72\\\",\\\"73\\\",\\\"74\\\",\\\"75\\\",\\\"76\\\",\\\"77\\\",\\\"78\\\",\\\"79\\\",\\\"80\\\",\\\"81\\\",\\\"82\\\",\\\"83\\\",\\\"84\\\",\\\"85\\\",\\\"86\\\",\\\"87\\\",\\\"88\\\",\\\"89\\\",\\\"90\\\",\\\"91\\\",\\\"92\\\",\\\"93\\\",\\\"94\\\",\\\"95\\\",\\\"96\\\",\\\"97\\\",\\\"98\\\",\\\"99\\\",\\\"100\\\"],\\\"changes\\\":WebIO.getval({\\\"name\\\":\\\"changes\\\",\\\"scope\\\":\\\"4560501397059313818\\\",\\\"id\\\":\\\"ob_91\\\",\\\"type\\\":\\\"observable\\\"}),\\\"index\\\":WebIO.getval({\\\"name\\\":\\\"index\\\",\\\"scope\\\":\\\"4560501397059313818\\\",\\\"id\\\":\\\"ob_90\\\",\\\"type\\\":\\\"observable\\\"})};\\n    var self = this;\\n    function AppViewModel() {\\n        for (var key in json_data) {\\n            var el = json_data[key];\\n            this[key] = Array.isArray(el) ? ko.observableArray(el) : ko.observable(el);\\n        }\\n        \\n        [this[\\\"formatted_val\\\"]=ko.computed(    function(){\\n        return this.formatted_vals()[parseInt(this.index())-(3)];\\n    }\\n,this)]\\n        [this[\\\"changes\\\"].subscribe((function (val){!(this.valueFromJulia[\\\"changes\\\"]) ? (WebIO.setval({\\\"name\\\":\\\"changes\\\",\\\"scope\\\":\\\"4560501397059313818\\\",\\\"id\\\":\\\"ob_91\\\",\\\"type\\\":\\\"observable\\\"},val)) : undefined; return this.valueFromJulia[\\\"changes\\\"]=false}),self),this[\\\"index\\\"].subscribe((function (val){!(this.valueFromJulia[\\\"index\\\"]) ? (WebIO.setval({\\\"name\\\":\\\"index\\\",\\\"scope\\\":\\\"4560501397059313818\\\",\\\"id\\\":\\\"ob_90\\\",\\\"type\\\":\\\"observable\\\"},val)) : undefined; return this.valueFromJulia[\\\"index\\\"]=false}),self)]\\n        \\n    }\\n    self.model = new AppViewModel();\\n    self.valueFromJulia = {};\\n    for (var key in json_data) {\\n        self.valueFromJulia[key] = false;\\n    }\\n    ko.applyBindings(self.model, self.dom);\\n}\\n);\\n    (WebIO.importBlock({\\\"data\\\":[{\\\"name\\\":\\\"knockout\\\",\\\"type\\\":\\\"js\\\",\\\"url\\\":\\\"/assetserver/3fc97d1c25c9104a4a5647f5aea1a721e64c8883-knockout.js\\\"},{\\\"name\\\":\\\"knockout_punches\\\",\\\"type\\\":\\\"js\\\",\\\"url\\\":\\\"/assetserver/587a9473f269d7e919db064a73c27fddff873451-knockout_punches.js\\\"}],\\\"type\\\":\\\"async_block\\\"})).then((imports) => handler.apply(this, imports));\\n}\\n\")])], Dict{Symbol,Any}(:className => \"field interact-widget\")), WebIO.Node{WebIO.DOM}(WebIO.DOM(:html, :div), Any[WebIO.Scope(WebIO.Node{WebIO.DOM}(WebIO.DOM(:html, :div), Any[WebIO.Node{WebIO.DOM}(WebIO.DOM(:html, :div), Any[WebIO.Node{WebIO.DOM}(WebIO.DOM(:html, :label), Any[\"nsides\"], Dict{Symbol,Any}(:className => \"interact \",:style => Dict{Any,Any}(:padding => \"5px 10px 0px 10px\")))], Dict{Symbol,Any}(:className => \"interact-flex-row-left\")), WebIO.Node{WebIO.DOM}(WebIO.DOM(:html, :div), Any[WebIO.Node{WebIO.DOM}(WebIO.DOM(:html, :input), Any[], Dict{Symbol,Any}(:max => 12,:min => 3,:attributes => Dict{Any,Any}(:type => \"range\",Symbol(\"data-bind\") => \"numericValue: index, valueUpdate: 'input', event: {change: function (){this.changes(this.changes()+1)}}\",\"orient\" => \"horizontal\"),:step => 1,:className => \"slider slider is-fullwidth\",:style => Dict{Any,Any}()))], Dict{Symbol,Any}(:className => \"interact-flex-row-center\")), WebIO.Node{WebIO.DOM}(WebIO.DOM(:html, :div), Any[WebIO.Node{WebIO.DOM}(WebIO.DOM(:html, :p), Any[], Dict{Symbol,Any}(:attributes => Dict(\"data-bind\" => \"text: formatted_val\")))], Dict{Symbol,Any}(:className => \"interact-flex-row-right\"))], Dict{Symbol,Any}(:className => \"interact-flex-row interact-widget\")), Dict{String,Tuple{Observables.AbstractObservable,Union{Nothing, Bool}}}(\"changes\" => (Observable{Int64} with 1 listeners. Value:\n0, nothing),\"index\" => (Observable{Int64} with 2 listeners. Value:\n7, nothing)), Set(String[]), nothing, WebIO.Asset[WebIO.Asset(\"js\", \"knockout\", \"/Users/pete/.julia/packages/Knockout/IP1uR/src/../assets/knockout.js\"), WebIO.Asset(\"js\", \"knockout_punches\", \"/Users/pete/.julia/packages/Knockout/IP1uR/src/../assets/knockout_punches.js\"), WebIO.Asset(\"js\", nothing, \"/Users/pete/.julia/packages/InteractBase/9mFwe/src/../assets/all.js\"), WebIO.Asset(\"css\", nothing, \"/Users/pete/.julia/packages/InteractBase/9mFwe/src/../assets/style.css\"), WebIO.Asset(\"css\", nothing, \"/Users/pete/.julia/packages/Interact/SbgIk/src/../assets/bulma.min.css\")], Dict{Any,Any}(\"changes\" => Any[WebIO.JSString(\"(function (val){return (val!=this.model[\\\"changes\\\"]()) ? (this.valueFromJulia[\\\"changes\\\"]=true, this.model[\\\"changes\\\"](val)) : undefined})\")],\"index\" => Any[WebIO.JSString(\"(function (val){return (val!=this.model[\\\"index\\\"]()) ? (this.valueFromJulia[\\\"index\\\"]=true, this.model[\\\"index\\\"](val)) : undefined})\")]), WebIO.ConnectionPool(Channel{Any}(sz_max:32,sz_curr:0), Set(WebIO.AbstractConnection[]), Base.GenericCondition{Base.AlwaysLockedST}(Base.InvasiveLinkedList{Task}(Task (runnable) @0x000000011181d450, Task (runnable) @0x000000011181d450), Base.AlwaysLockedST(1))), WebIO.JSString[WebIO.JSString(\"function () {\\n    var handler = (function (ko, koPunches) {\\n    ko.punches.enableAll();\\n    ko.bindingHandlers.numericValue = {\\n        init: function(element, valueAccessor, allBindings, data, context) {\\n            var stringified = ko.observable(ko.unwrap(valueAccessor()));\\n            stringified.subscribe(function(value) {\\n                var val = parseFloat(value);\\n                if (!isNaN(val)) {\\n                    valueAccessor()(val);\\n                }\\n            });\\n            valueAccessor().subscribe(function(value) {\\n                var str = JSON.stringify(value);\\n                if ((str == \\\"0\\\") && ([\\\"-0\\\", \\\"-0.\\\"].indexOf(stringified()) >= 0))\\n                     return;\\n                 if ([\\\"null\\\", \\\"\\\"].indexOf(str) >= 0)\\n                     return;\\n                stringified(str);\\n            });\\n            ko.applyBindingsToNode(\\n                element,\\n                {\\n                    value: stringified,\\n                    valueUpdate: allBindings.get('valueUpdate'),\\n                },\\n                context,\\n            );\\n        }\\n    };\\n    var json_data = {\\\"formatted_vals\\\":[\\\"3\\\",\\\"4\\\",\\\"5\\\",\\\"6\\\",\\\"7\\\",\\\"8\\\",\\\"9\\\",\\\"10\\\",\\\"11\\\",\\\"12\\\"],\\\"changes\\\":WebIO.getval({\\\"name\\\":\\\"changes\\\",\\\"scope\\\":\\\"7787512485711378159\\\",\\\"id\\\":\\\"ob_93\\\",\\\"type\\\":\\\"observable\\\"}),\\\"index\\\":WebIO.getval({\\\"name\\\":\\\"index\\\",\\\"scope\\\":\\\"7787512485711378159\\\",\\\"id\\\":\\\"ob_92\\\",\\\"type\\\":\\\"observable\\\"})};\\n    var self = this;\\n    function AppViewModel() {\\n        for (var key in json_data) {\\n            var el = json_data[key];\\n            this[key] = Array.isArray(el) ? ko.observableArray(el) : ko.observable(el);\\n        }\\n        \\n        [this[\\\"formatted_val\\\"]=ko.computed(    function(){\\n        return this.formatted_vals()[parseInt(this.index())-(3)];\\n    }\\n,this)]\\n        [this[\\\"changes\\\"].subscribe((function (val){!(this.valueFromJulia[\\\"changes\\\"]) ? (WebIO.setval({\\\"name\\\":\\\"changes\\\",\\\"scope\\\":\\\"7787512485711378159\\\",\\\"id\\\":\\\"ob_93\\\",\\\"type\\\":\\\"observable\\\"},val)) : undefined; return this.valueFromJulia[\\\"changes\\\"]=false}),self),this[\\\"index\\\"].subscribe((function (val){!(this.valueFromJulia[\\\"index\\\"]) ? (WebIO.setval({\\\"name\\\":\\\"index\\\",\\\"scope\\\":\\\"7787512485711378159\\\",\\\"id\\\":\\\"ob_92\\\",\\\"type\\\":\\\"observable\\\"},val)) : undefined; return this.valueFromJulia[\\\"index\\\"]=false}),self)]\\n        \\n    }\\n    self.model = new AppViewModel();\\n    self.valueFromJulia = {};\\n    for (var key in json_data) {\\n        self.valueFromJulia[key] = false;\\n    }\\n    ko.applyBindings(self.model, self.dom);\\n}\\n);\\n    (WebIO.importBlock({\\\"data\\\":[{\\\"name\\\":\\\"knockout\\\",\\\"type\\\":\\\"js\\\",\\\"url\\\":\\\"/assetserver/3fc97d1c25c9104a4a5647f5aea1a721e64c8883-knockout.js\\\"},{\\\"name\\\":\\\"knockout_punches\\\",\\\"type\\\":\\\"js\\\",\\\"url\\\":\\\"/assetserver/587a9473f269d7e919db064a73c27fddff873451-knockout_punches.js\\\"}],\\\"type\\\":\\\"async_block\\\"})).then((imports) => handler.apply(this, imports));\\n}\\n\")])], Dict{Symbol,Any}(:className => \"field interact-widget\")), Observable{Any} with 0 listeners. Value:\nWebIO.Node{WebIO.DOM}(WebIO.DOM(:html, :div), Any[width:    500.0\nheight:   500.0\nfilename: \ntype:     svg\n    ], Dict{Symbol,Any}(:className => \"interact-flex-row interact-widget\"))], Dict{Symbol,Any}())",
      "text/html": [
       "<div\n",
       "    class=\"webio-mountpoint\"\n",
       "    data-webio-mountpoint=\"5127183308757381509\"\n",
       ">\n",
       "    <script>\n",
       "    if (window.require && require.defined && require.defined(\"nbextensions/webio-jupyter-notebook\")) {\n",
       "        console.log(\"Jupyter WebIO extension detected, not mounting.\");\n",
       "    } else if (window.WebIO) {\n",
       "        WebIO.mount(\n",
       "            document.querySelector('[data-webio-mountpoint=\"5127183308757381509\"]'),\n",
       "            {\"props\":{},\"nodeType\":\"DOM\",\"type\":\"node\",\"instanceArgs\":{\"namespace\":\"html\",\"tag\":\"div\"},\"children\":[{\"props\":{\"className\":\"field interact-widget\"},\"nodeType\":\"DOM\",\"type\":\"node\",\"instanceArgs\":{\"namespace\":\"html\",\"tag\":\"div\"},\"children\":[{\"props\":{},\"nodeType\":\"Scope\",\"type\":\"node\",\"instanceArgs\":{\"imports\":{\"data\":[{\"name\":\"knockout\",\"type\":\"js\",\"url\":\"\\/assetserver\\/3fc97d1c25c9104a4a5647f5aea1a721e64c8883-knockout.js\"},{\"name\":\"knockout_punches\",\"type\":\"js\",\"url\":\"\\/assetserver\\/587a9473f269d7e919db064a73c27fddff873451-knockout_punches.js\"},{\"name\":null,\"type\":\"js\",\"url\":\"\\/assetserver\\/63748a3b171b1d0979570771b39ce060b62aeca1-all.js\"},{\"name\":null,\"type\":\"css\",\"url\":\"\\/assetserver\\/d1dc184d6b73cad2def7fedecde33bcd802f554b-style.css\"},{\"name\":null,\"type\":\"css\",\"url\":\"\\/assetserver\\/0273ac4a90794099d0eb069a1f8ace956785236b-bulma.min.css\"}],\"type\":\"async_block\"},\"id\":\"4560501397059313818\",\"handlers\":{\"changes\":[\"(function (val){return (val!=this.model[\\\"changes\\\"]()) ? (this.valueFromJulia[\\\"changes\\\"]=true, this.model[\\\"changes\\\"](val)) : undefined})\"],\"index\":[\"(function (val){return (val!=this.model[\\\"index\\\"]()) ? (this.valueFromJulia[\\\"index\\\"]=true, this.model[\\\"index\\\"](val)) : undefined})\"]},\"systemjs_options\":null,\"mount_callbacks\":[\"function () {\\n    var handler = (function (ko, koPunches) {\\n    ko.punches.enableAll();\\n    ko.bindingHandlers.numericValue = {\\n        init: function(element, valueAccessor, allBindings, data, context) {\\n            var stringified = ko.observable(ko.unwrap(valueAccessor()));\\n            stringified.subscribe(function(value) {\\n                var val = parseFloat(value);\\n                if (!isNaN(val)) {\\n                    valueAccessor()(val);\\n                }\\n            });\\n            valueAccessor().subscribe(function(value) {\\n                var str = JSON.stringify(value);\\n                if ((str == \\\"0\\\") && ([\\\"-0\\\", \\\"-0.\\\"].indexOf(stringified()) >= 0))\\n                     return;\\n                 if ([\\\"null\\\", \\\"\\\"].indexOf(str) >= 0)\\n                     return;\\n                stringified(str);\\n            });\\n            ko.applyBindingsToNode(\\n                element,\\n                {\\n                    value: stringified,\\n                    valueUpdate: allBindings.get('valueUpdate'),\\n                },\\n                context,\\n            );\\n        }\\n    };\\n    var json_data = {\\\"formatted_vals\\\":[\\\"3\\\",\\\"4\\\",\\\"5\\\",\\\"6\\\",\\\"7\\\",\\\"8\\\",\\\"9\\\",\\\"10\\\",\\\"11\\\",\\\"12\\\",\\\"13\\\",\\\"14\\\",\\\"15\\\",\\\"16\\\",\\\"17\\\",\\\"18\\\",\\\"19\\\",\\\"20\\\",\\\"21\\\",\\\"22\\\",\\\"23\\\",\\\"24\\\",\\\"25\\\",\\\"26\\\",\\\"27\\\",\\\"28\\\",\\\"29\\\",\\\"30\\\",\\\"31\\\",\\\"32\\\",\\\"33\\\",\\\"34\\\",\\\"35\\\",\\\"36\\\",\\\"37\\\",\\\"38\\\",\\\"39\\\",\\\"40\\\",\\\"41\\\",\\\"42\\\",\\\"43\\\",\\\"44\\\",\\\"45\\\",\\\"46\\\",\\\"47\\\",\\\"48\\\",\\\"49\\\",\\\"50\\\",\\\"51\\\",\\\"52\\\",\\\"53\\\",\\\"54\\\",\\\"55\\\",\\\"56\\\",\\\"57\\\",\\\"58\\\",\\\"59\\\",\\\"60\\\",\\\"61\\\",\\\"62\\\",\\\"63\\\",\\\"64\\\",\\\"65\\\",\\\"66\\\",\\\"67\\\",\\\"68\\\",\\\"69\\\",\\\"70\\\",\\\"71\\\",\\\"72\\\",\\\"73\\\",\\\"74\\\",\\\"75\\\",\\\"76\\\",\\\"77\\\",\\\"78\\\",\\\"79\\\",\\\"80\\\",\\\"81\\\",\\\"82\\\",\\\"83\\\",\\\"84\\\",\\\"85\\\",\\\"86\\\",\\\"87\\\",\\\"88\\\",\\\"89\\\",\\\"90\\\",\\\"91\\\",\\\"92\\\",\\\"93\\\",\\\"94\\\",\\\"95\\\",\\\"96\\\",\\\"97\\\",\\\"98\\\",\\\"99\\\",\\\"100\\\"],\\\"changes\\\":WebIO.getval({\\\"name\\\":\\\"changes\\\",\\\"scope\\\":\\\"4560501397059313818\\\",\\\"id\\\":\\\"ob_91\\\",\\\"type\\\":\\\"observable\\\"}),\\\"index\\\":WebIO.getval({\\\"name\\\":\\\"index\\\",\\\"scope\\\":\\\"4560501397059313818\\\",\\\"id\\\":\\\"ob_90\\\",\\\"type\\\":\\\"observable\\\"})};\\n    var self = this;\\n    function AppViewModel() {\\n        for (var key in json_data) {\\n            var el = json_data[key];\\n            this[key] = Array.isArray(el) ? ko.observableArray(el) : ko.observable(el);\\n        }\\n        \\n        [this[\\\"formatted_val\\\"]=ko.computed(    function(){\\n        return this.formatted_vals()[parseInt(this.index())-(3)];\\n    }\\n,this)]\\n        [this[\\\"changes\\\"].subscribe((function (val){!(this.valueFromJulia[\\\"changes\\\"]) ? (WebIO.setval({\\\"name\\\":\\\"changes\\\",\\\"scope\\\":\\\"4560501397059313818\\\",\\\"id\\\":\\\"ob_91\\\",\\\"type\\\":\\\"observable\\\"},val)) : undefined; return this.valueFromJulia[\\\"changes\\\"]=false}),self),this[\\\"index\\\"].subscribe((function (val){!(this.valueFromJulia[\\\"index\\\"]) ? (WebIO.setval({\\\"name\\\":\\\"index\\\",\\\"scope\\\":\\\"4560501397059313818\\\",\\\"id\\\":\\\"ob_90\\\",\\\"type\\\":\\\"observable\\\"},val)) : undefined; return this.valueFromJulia[\\\"index\\\"]=false}),self)]\\n        \\n    }\\n    self.model = new AppViewModel();\\n    self.valueFromJulia = {};\\n    for (var key in json_data) {\\n        self.valueFromJulia[key] = false;\\n    }\\n    ko.applyBindings(self.model, self.dom);\\n}\\n);\\n    (WebIO.importBlock({\\\"data\\\":[{\\\"name\\\":\\\"knockout\\\",\\\"type\\\":\\\"js\\\",\\\"url\\\":\\\"\\/assetserver\\/3fc97d1c25c9104a4a5647f5aea1a721e64c8883-knockout.js\\\"},{\\\"name\\\":\\\"knockout_punches\\\",\\\"type\\\":\\\"js\\\",\\\"url\\\":\\\"\\/assetserver\\/587a9473f269d7e919db064a73c27fddff873451-knockout_punches.js\\\"}],\\\"type\\\":\\\"async_block\\\"})).then((imports) => handler.apply(this, imports));\\n}\\n\"],\"observables\":{\"changes\":{\"sync\":false,\"id\":\"ob_91\",\"value\":0},\"index\":{\"sync\":true,\"id\":\"ob_90\",\"value\":51}}},\"children\":[{\"props\":{\"className\":\"interact-flex-row interact-widget\"},\"nodeType\":\"DOM\",\"type\":\"node\",\"instanceArgs\":{\"namespace\":\"html\",\"tag\":\"div\"},\"children\":[{\"props\":{\"className\":\"interact-flex-row-left\"},\"nodeType\":\"DOM\",\"type\":\"node\",\"instanceArgs\":{\"namespace\":\"html\",\"tag\":\"div\"},\"children\":[{\"props\":{\"className\":\"interact \",\"style\":{\"padding\":\"5px 10px 0px 10px\"}},\"nodeType\":\"DOM\",\"type\":\"node\",\"instanceArgs\":{\"namespace\":\"html\",\"tag\":\"label\"},\"children\":[\"s\"]}]},{\"props\":{\"className\":\"interact-flex-row-center\"},\"nodeType\":\"DOM\",\"type\":\"node\",\"instanceArgs\":{\"namespace\":\"html\",\"tag\":\"div\"},\"children\":[{\"props\":{\"max\":100,\"min\":3,\"attributes\":{\"type\":\"range\",\"data-bind\":\"numericValue: index, valueUpdate: 'input', event: {change: function (){this.changes(this.changes()+1)}}\",\"orient\":\"horizontal\"},\"step\":1,\"className\":\"slider slider is-fullwidth\",\"style\":{}},\"nodeType\":\"DOM\",\"type\":\"node\",\"instanceArgs\":{\"namespace\":\"html\",\"tag\":\"input\"},\"children\":[]}]},{\"props\":{\"className\":\"interact-flex-row-right\"},\"nodeType\":\"DOM\",\"type\":\"node\",\"instanceArgs\":{\"namespace\":\"html\",\"tag\":\"div\"},\"children\":[{\"props\":{\"attributes\":{\"data-bind\":\"text: formatted_val\"}},\"nodeType\":\"DOM\",\"type\":\"node\",\"instanceArgs\":{\"namespace\":\"html\",\"tag\":\"p\"},\"children\":[]}]}]}]}]},{\"props\":{\"className\":\"field interact-widget\"},\"nodeType\":\"DOM\",\"type\":\"node\",\"instanceArgs\":{\"namespace\":\"html\",\"tag\":\"div\"},\"children\":[{\"props\":{},\"nodeType\":\"Scope\",\"type\":\"node\",\"instanceArgs\":{\"imports\":{\"data\":[{\"name\":\"knockout\",\"type\":\"js\",\"url\":\"\\/assetserver\\/3fc97d1c25c9104a4a5647f5aea1a721e64c8883-knockout.js\"},{\"name\":\"knockout_punches\",\"type\":\"js\",\"url\":\"\\/assetserver\\/587a9473f269d7e919db064a73c27fddff873451-knockout_punches.js\"},{\"name\":null,\"type\":\"js\",\"url\":\"\\/assetserver\\/63748a3b171b1d0979570771b39ce060b62aeca1-all.js\"},{\"name\":null,\"type\":\"css\",\"url\":\"\\/assetserver\\/d1dc184d6b73cad2def7fedecde33bcd802f554b-style.css\"},{\"name\":null,\"type\":\"css\",\"url\":\"\\/assetserver\\/0273ac4a90794099d0eb069a1f8ace956785236b-bulma.min.css\"}],\"type\":\"async_block\"},\"id\":\"7787512485711378159\",\"handlers\":{\"changes\":[\"(function (val){return (val!=this.model[\\\"changes\\\"]()) ? (this.valueFromJulia[\\\"changes\\\"]=true, this.model[\\\"changes\\\"](val)) : undefined})\"],\"index\":[\"(function (val){return (val!=this.model[\\\"index\\\"]()) ? (this.valueFromJulia[\\\"index\\\"]=true, this.model[\\\"index\\\"](val)) : undefined})\"]},\"systemjs_options\":null,\"mount_callbacks\":[\"function () {\\n    var handler = (function (ko, koPunches) {\\n    ko.punches.enableAll();\\n    ko.bindingHandlers.numericValue = {\\n        init: function(element, valueAccessor, allBindings, data, context) {\\n            var stringified = ko.observable(ko.unwrap(valueAccessor()));\\n            stringified.subscribe(function(value) {\\n                var val = parseFloat(value);\\n                if (!isNaN(val)) {\\n                    valueAccessor()(val);\\n                }\\n            });\\n            valueAccessor().subscribe(function(value) {\\n                var str = JSON.stringify(value);\\n                if ((str == \\\"0\\\") && ([\\\"-0\\\", \\\"-0.\\\"].indexOf(stringified()) >= 0))\\n                     return;\\n                 if ([\\\"null\\\", \\\"\\\"].indexOf(str) >= 0)\\n                     return;\\n                stringified(str);\\n            });\\n            ko.applyBindingsToNode(\\n                element,\\n                {\\n                    value: stringified,\\n                    valueUpdate: allBindings.get('valueUpdate'),\\n                },\\n                context,\\n            );\\n        }\\n    };\\n    var json_data = {\\\"formatted_vals\\\":[\\\"3\\\",\\\"4\\\",\\\"5\\\",\\\"6\\\",\\\"7\\\",\\\"8\\\",\\\"9\\\",\\\"10\\\",\\\"11\\\",\\\"12\\\"],\\\"changes\\\":WebIO.getval({\\\"name\\\":\\\"changes\\\",\\\"scope\\\":\\\"7787512485711378159\\\",\\\"id\\\":\\\"ob_93\\\",\\\"type\\\":\\\"observable\\\"}),\\\"index\\\":WebIO.getval({\\\"name\\\":\\\"index\\\",\\\"scope\\\":\\\"7787512485711378159\\\",\\\"id\\\":\\\"ob_92\\\",\\\"type\\\":\\\"observable\\\"})};\\n    var self = this;\\n    function AppViewModel() {\\n        for (var key in json_data) {\\n            var el = json_data[key];\\n            this[key] = Array.isArray(el) ? ko.observableArray(el) : ko.observable(el);\\n        }\\n        \\n        [this[\\\"formatted_val\\\"]=ko.computed(    function(){\\n        return this.formatted_vals()[parseInt(this.index())-(3)];\\n    }\\n,this)]\\n        [this[\\\"changes\\\"].subscribe((function (val){!(this.valueFromJulia[\\\"changes\\\"]) ? (WebIO.setval({\\\"name\\\":\\\"changes\\\",\\\"scope\\\":\\\"7787512485711378159\\\",\\\"id\\\":\\\"ob_93\\\",\\\"type\\\":\\\"observable\\\"},val)) : undefined; return this.valueFromJulia[\\\"changes\\\"]=false}),self),this[\\\"index\\\"].subscribe((function (val){!(this.valueFromJulia[\\\"index\\\"]) ? (WebIO.setval({\\\"name\\\":\\\"index\\\",\\\"scope\\\":\\\"7787512485711378159\\\",\\\"id\\\":\\\"ob_92\\\",\\\"type\\\":\\\"observable\\\"},val)) : undefined; return this.valueFromJulia[\\\"index\\\"]=false}),self)]\\n        \\n    }\\n    self.model = new AppViewModel();\\n    self.valueFromJulia = {};\\n    for (var key in json_data) {\\n        self.valueFromJulia[key] = false;\\n    }\\n    ko.applyBindings(self.model, self.dom);\\n}\\n);\\n    (WebIO.importBlock({\\\"data\\\":[{\\\"name\\\":\\\"knockout\\\",\\\"type\\\":\\\"js\\\",\\\"url\\\":\\\"\\/assetserver\\/3fc97d1c25c9104a4a5647f5aea1a721e64c8883-knockout.js\\\"},{\\\"name\\\":\\\"knockout_punches\\\",\\\"type\\\":\\\"js\\\",\\\"url\\\":\\\"\\/assetserver\\/587a9473f269d7e919db064a73c27fddff873451-knockout_punches.js\\\"}],\\\"type\\\":\\\"async_block\\\"})).then((imports) => handler.apply(this, imports));\\n}\\n\"],\"observables\":{\"changes\":{\"sync\":false,\"id\":\"ob_93\",\"value\":0},\"index\":{\"sync\":true,\"id\":\"ob_92\",\"value\":7}}},\"children\":[{\"props\":{\"className\":\"interact-flex-row interact-widget\"},\"nodeType\":\"DOM\",\"type\":\"node\",\"instanceArgs\":{\"namespace\":\"html\",\"tag\":\"div\"},\"children\":[{\"props\":{\"className\":\"interact-flex-row-left\"},\"nodeType\":\"DOM\",\"type\":\"node\",\"instanceArgs\":{\"namespace\":\"html\",\"tag\":\"div\"},\"children\":[{\"props\":{\"className\":\"interact \",\"style\":{\"padding\":\"5px 10px 0px 10px\"}},\"nodeType\":\"DOM\",\"type\":\"node\",\"instanceArgs\":{\"namespace\":\"html\",\"tag\":\"label\"},\"children\":[\"nsides\"]}]},{\"props\":{\"className\":\"interact-flex-row-center\"},\"nodeType\":\"DOM\",\"type\":\"node\",\"instanceArgs\":{\"namespace\":\"html\",\"tag\":\"div\"},\"children\":[{\"props\":{\"max\":12,\"min\":3,\"attributes\":{\"type\":\"range\",\"data-bind\":\"numericValue: index, valueUpdate: 'input', event: {change: function (){this.changes(this.changes()+1)}}\",\"orient\":\"horizontal\"},\"step\":1,\"className\":\"slider slider is-fullwidth\",\"style\":{}},\"nodeType\":\"DOM\",\"type\":\"node\",\"instanceArgs\":{\"namespace\":\"html\",\"tag\":\"input\"},\"children\":[]}]},{\"props\":{\"className\":\"interact-flex-row-right\"},\"nodeType\":\"DOM\",\"type\":\"node\",\"instanceArgs\":{\"namespace\":\"html\",\"tag\":\"div\"},\"children\":[{\"props\":{\"attributes\":{\"data-bind\":\"text: formatted_val\"}},\"nodeType\":\"DOM\",\"type\":\"node\",\"instanceArgs\":{\"namespace\":\"html\",\"tag\":\"p\"},\"children\":[]}]}]}]}]},{\"props\":{},\"nodeType\":\"Scope\",\"type\":\"node\",\"instanceArgs\":{\"imports\":{\"data\":[],\"type\":\"async_block\"},\"id\":\"2103468146176857084\",\"handlers\":{},\"systemjs_options\":null,\"mount_callbacks\":[],\"observables\":{\"obs-node\":{\"sync\":false,\"id\":\"ob_97\",\"value\":{\"props\":{\"className\":\"interact-flex-row interact-widget\"},\"nodeType\":\"DOM\",\"type\":\"node\",\"instanceArgs\":{\"namespace\":\"html\",\"tag\":\"div\"},\"children\":[{\"props\":{\"setInnerHtml\":\"<?xml version=\\\"1.0\\\" encoding=\\\"UTF-8\\\"?>\\n<svg xmlns=\\\"http:\\/\\/www.w3.org\\/2000\\/svg\\\" xmlns:xlink=\\\"http:\\/\\/www.w3.org\\/1999\\/xlink\\\" width=\\\"500pt\\\" height=\\\"500pt\\\" viewBox=\\\"0 0 500 500\\\" version=\\\"1.1\\\">\\n<defs>\\n<g>\\n<symbol overflow=\\\"visible\\\" id=\\\"glyph0-0\\\">\\n<path style=\\\"stroke:none;\\\" d=\\\"M 0.320312 0 L 0.320312 -7.171875 L 6.015625 -7.171875 L 6.015625 0 Z M 5.117188 -0.898438 L 5.117188 -6.273438 L 1.21875 -6.273438 L 1.21875 -0.898438 Z M 5.117188 -0.898438 \\\"\\/>\\n<\\/symbol>\\n<symbol overflow=\\\"visible\\\" id=\\\"glyph0-1\\\">\\n<path style=\\\"stroke:none;\\\" d=\\\"M 2.925781 -7.023438 C 3.707031 -7.023438 4.25 -6.820312 4.558594 -6.414062 C 4.867188 -6.007812 5.019531 -5.589844 5.019531 -5.160156 L 4.148438 -5.160156 C 4.097656 -5.4375 4.015625 -5.65625 3.902344 -5.8125 C 3.691406 -6.105469 3.367188 -6.25 2.9375 -6.25 C 2.445312 -6.25 2.058594 -6.023438 1.765625 -5.570312 C 1.476562 -5.117188 1.316406 -4.464844 1.285156 -3.617188 C 1.484375 -3.914062 1.738281 -4.136719 2.046875 -4.28125 C 2.328125 -4.414062 2.636719 -4.476562 2.984375 -4.476562 C 3.570312 -4.476562 4.082031 -4.289062 4.515625 -3.914062 C 4.953125 -3.539062 5.171875 -2.984375 5.171875 -2.242188 C 5.171875 -1.605469 4.964844 -1.042969 4.550781 -0.554688 C 4.136719 -0.0625 3.546875 0.179688 2.78125 0.179688 C 2.128906 0.179688 1.5625 -0.0664062 1.089844 -0.5625 C 0.613281 -1.058594 0.375 -1.894531 0.375 -3.070312 C 0.375 -3.941406 0.480469 -4.679688 0.695312 -5.28125 C 1.101562 -6.441406 1.84375 -7.023438 2.925781 -7.023438 Z M 2.859375 -0.601562 C 3.324219 -0.601562 3.667969 -0.757812 3.898438 -1.066406 C 4.128906 -1.378906 4.242188 -1.746094 4.242188 -2.167969 C 4.242188 -2.527344 4.140625 -2.867188 3.9375 -3.191406 C 3.730469 -3.515625 3.359375 -3.675781 2.816406 -3.675781 C 2.4375 -3.675781 2.109375 -3.550781 1.824219 -3.300781 C 1.539062 -3.050781 1.398438 -2.671875 1.398438 -2.167969 C 1.398438 -1.726562 1.527344 -1.351562 1.785156 -1.050781 C 2.042969 -0.75 2.402344 -0.601562 2.859375 -0.601562 Z M 2.859375 -0.601562 \\\"\\/>\\n<\\/symbol>\\n<symbol overflow=\\\"visible\\\" id=\\\"glyph0-2\\\">\\n<path style=\\\"stroke:none;\\\" d=\\\"M 1.328125 -1.6875 C 1.355469 -1.203125 1.542969 -0.867188 1.890625 -0.683594 C 2.070312 -0.585938 2.269531 -0.539062 2.496094 -0.539062 C 2.914062 -0.539062 3.273438 -0.710938 3.570312 -1.0625 C 3.867188 -1.414062 4.074219 -2.121094 4.199219 -3.195312 C 4.003906 -2.882812 3.761719 -2.667969 3.472656 -2.542969 C 3.1875 -2.417969 2.875 -2.351562 2.542969 -2.351562 C 1.871094 -2.351562 1.335938 -2.5625 0.945312 -2.984375 C 0.554688 -3.402344 0.355469 -3.945312 0.355469 -4.605469 C 0.355469 -5.238281 0.550781 -5.796875 0.9375 -6.28125 C 1.324219 -6.761719 1.894531 -7 2.652344 -7 C 3.671875 -7 4.375 -6.542969 4.761719 -5.625 C 4.976562 -5.121094 5.082031 -4.488281 5.082031 -3.730469 C 5.082031 -2.875 4.953125 -2.117188 4.695312 -1.453125 C 4.269531 -0.355469 3.546875 0.195312 2.53125 0.195312 C 1.847656 0.195312 1.328125 0.015625 0.972656 -0.34375 C 0.617188 -0.699219 0.4375 -1.148438 0.4375 -1.6875 Z M 2.660156 -3.125 C 3.007812 -3.125 3.328125 -3.238281 3.617188 -3.46875 C 3.90625 -3.699219 4.046875 -4.101562 4.046875 -4.671875 C 4.046875 -5.1875 3.917969 -5.570312 3.660156 -5.824219 C 3.402344 -6.074219 3.070312 -6.203125 2.671875 -6.203125 C 2.242188 -6.203125 1.898438 -6.058594 1.648438 -5.769531 C 1.394531 -5.480469 1.269531 -5.097656 1.269531 -4.613281 C 1.269531 -4.15625 1.378906 -3.796875 1.601562 -3.527344 C 1.824219 -3.257812 2.175781 -3.125 2.660156 -3.125 Z M 2.660156 -3.125 \\\"\\/>\\n<\\/symbol>\\n<symbol overflow=\\\"visible\\\" id=\\\"glyph0-3\\\">\\n<path style=\\\"stroke:none;\\\" d=\\\"M 2.597656 0.191406 C 1.769531 0.191406 1.171875 -0.0351562 0.796875 -0.492188 C 0.425781 -0.945312 0.238281 -1.496094 0.238281 -2.148438 L 1.15625 -2.148438 C 1.195312 -1.695312 1.28125 -1.367188 1.410156 -1.164062 C 1.640625 -0.796875 2.050781 -0.609375 2.648438 -0.609375 C 3.109375 -0.609375 3.480469 -0.734375 3.757812 -0.980469 C 4.039062 -1.226562 4.179688 -1.546875 4.179688 -1.9375 C 4.179688 -2.421875 4.03125 -2.757812 3.738281 -2.949219 C 3.445312 -3.140625 3.035156 -3.238281 2.507812 -3.238281 C 2.449219 -3.238281 2.390625 -3.238281 2.332031 -3.234375 C 2.273438 -3.234375 2.210938 -3.230469 2.148438 -3.226562 L 2.148438 -4.003906 C 2.238281 -3.992188 2.316406 -3.988281 2.378906 -3.984375 C 2.441406 -3.980469 2.507812 -3.980469 2.578125 -3.980469 C 2.90625 -3.980469 3.175781 -4.03125 3.390625 -4.136719 C 3.761719 -4.320312 3.945312 -4.644531 3.945312 -5.113281 C 3.945312 -5.460938 3.820312 -5.730469 3.574219 -5.917969 C 3.328125 -6.105469 3.039062 -6.203125 2.710938 -6.203125 C 2.125 -6.203125 1.71875 -6.007812 1.492188 -5.617188 C 1.371094 -5.402344 1.300781 -5.09375 1.285156 -4.695312 L 0.414062 -4.695312 C 0.414062 -5.21875 0.519531 -5.660156 0.726562 -6.023438 C 1.085938 -6.675781 1.714844 -7 2.617188 -7 C 3.328125 -7 3.882812 -6.84375 4.273438 -6.527344 C 4.664062 -6.210938 4.859375 -5.75 4.859375 -5.148438 C 4.859375 -4.71875 4.742188 -4.367188 4.511719 -4.101562 C 4.367188 -3.9375 4.183594 -3.804688 3.953125 -3.710938 C 4.320312 -3.609375 4.609375 -3.414062 4.816406 -3.128906 C 5.023438 -2.839844 5.125 -2.488281 5.125 -2.070312 C 5.125 -1.402344 4.90625 -0.859375 4.46875 -0.4375 C 4.027344 -0.0195312 3.40625 0.191406 2.597656 0.191406 Z M 2.597656 0.191406 \\\"\\/>\\n<\\/symbol>\\n<symbol overflow=\\\"visible\\\" id=\\\"glyph0-4\\\">\\n<path style=\\\"stroke:none;\\\" d=\\\"M 0.855469 -1.0625 L 1.875 -1.0625 L 1.875 0 L 0.855469 0 Z M 0.855469 -1.0625 \\\"\\/>\\n<\\/symbol>\\n<symbol overflow=\\\"visible\\\" id=\\\"glyph0-5\\\">\\n<path style=\\\"stroke:none;\\\" d=\\\"M 2.71875 -4.0625 C 3.105469 -4.0625 3.410156 -4.171875 3.628906 -4.386719 C 3.847656 -4.601562 3.953125 -4.863281 3.953125 -5.160156 C 3.953125 -5.421875 3.851562 -5.660156 3.640625 -5.878906 C 3.433594 -6.097656 3.117188 -6.207031 2.691406 -6.207031 C 2.265625 -6.207031 1.960938 -6.097656 1.773438 -5.878906 C 1.585938 -5.660156 1.488281 -5.40625 1.488281 -5.113281 C 1.488281 -4.785156 1.609375 -4.527344 1.855469 -4.339844 C 2.101562 -4.15625 2.386719 -4.0625 2.71875 -4.0625 Z M 2.773438 -0.601562 C 3.179688 -0.601562 3.519531 -0.710938 3.785156 -0.929688 C 4.054688 -1.148438 4.1875 -1.476562 4.1875 -1.914062 C 4.1875 -2.367188 4.050781 -2.710938 3.773438 -2.945312 C 3.496094 -3.179688 3.144531 -3.296875 2.710938 -3.296875 C 2.289062 -3.296875 1.949219 -3.175781 1.683594 -2.9375 C 1.417969 -2.699219 1.285156 -2.367188 1.285156 -1.945312 C 1.285156 -1.578125 1.40625 -1.265625 1.648438 -1 C 1.890625 -0.734375 2.265625 -0.601562 2.773438 -0.601562 Z M 1.523438 -3.726562 C 1.28125 -3.828125 1.089844 -3.953125 0.953125 -4.09375 C 0.695312 -4.351562 0.566406 -4.691406 0.566406 -5.109375 C 0.566406 -5.628906 0.753906 -6.074219 1.132812 -6.449219 C 1.511719 -6.824219 2.046875 -7.011719 2.738281 -7.011719 C 3.410156 -7.011719 3.9375 -6.835938 4.316406 -6.480469 C 4.695312 -6.128906 4.886719 -5.714844 4.886719 -5.242188 C 4.886719 -4.808594 4.777344 -4.453125 4.554688 -4.183594 C 4.429688 -4.03125 4.238281 -3.882812 3.980469 -3.734375 C 4.269531 -3.601562 4.496094 -3.449219 4.664062 -3.277344 C 4.972656 -2.953125 5.125 -2.527344 5.125 -2.007812 C 5.125 -1.390625 4.921875 -0.871094 4.507812 -0.441406 C 4.09375 -0.015625 3.507812 0.199219 2.753906 0.199219 C 2.074219 0.199219 1.5 0.015625 1.027344 -0.355469 C 0.558594 -0.722656 0.320312 -1.257812 0.320312 -1.960938 C 0.320312 -2.375 0.421875 -2.734375 0.625 -3.035156 C 0.828125 -3.335938 1.125 -3.566406 1.523438 -3.726562 Z M 1.523438 -3.726562 \\\"\\/>\\n<\\/symbol>\\n<symbol overflow=\\\"visible\\\" id=\\\"glyph0-6\\\">\\n<path style=\\\"stroke:none;\\\" d=\\\"M 3.304688 -2.476562 L 3.304688 -5.644531 L 1.0625 -2.476562 Z M 3.320312 0 L 3.320312 -1.710938 L 0.253906 -1.710938 L 0.253906 -2.570312 L 3.457031 -7.011719 L 4.199219 -7.011719 L 4.199219 -2.476562 L 5.230469 -2.476562 L 5.230469 -1.710938 L 4.199219 -1.710938 L 4.199219 0 Z M 3.320312 0 \\\"\\/>\\n<\\/symbol>\\n<symbol overflow=\\\"visible\\\" id=\\\"glyph0-7\\\">\\n<path style=\\\"stroke:none;\\\" d=\\\"M 1.234375 -1.78125 C 1.292969 -1.28125 1.527344 -0.933594 1.933594 -0.742188 C 2.140625 -0.644531 2.382812 -0.59375 2.65625 -0.59375 C 3.175781 -0.59375 3.5625 -0.761719 3.8125 -1.09375 C 4.0625 -1.425781 4.1875 -1.792969 4.1875 -2.195312 C 4.1875 -2.683594 4.039062 -3.0625 3.742188 -3.328125 C 3.445312 -3.597656 3.085938 -3.730469 2.671875 -3.730469 C 2.367188 -3.730469 2.109375 -3.671875 1.890625 -3.554688 C 1.675781 -3.4375 1.492188 -3.273438 1.335938 -3.066406 L 0.578125 -3.109375 L 1.109375 -6.875 L 4.742188 -6.875 L 4.742188 -6.023438 L 1.765625 -6.023438 L 1.46875 -4.082031 C 1.632812 -4.207031 1.789062 -4.296875 1.933594 -4.359375 C 2.195312 -4.46875 2.496094 -4.523438 2.835938 -4.523438 C 3.476562 -4.523438 4.023438 -4.316406 4.46875 -3.902344 C 4.914062 -3.488281 5.136719 -2.964844 5.136719 -2.328125 C 5.136719 -1.667969 4.933594 -1.085938 4.523438 -0.582031 C 4.117188 -0.078125 3.464844 0.175781 2.570312 0.175781 C 2 0.175781 1.496094 0.015625 1.058594 -0.304688 C 0.621094 -0.625 0.375 -1.117188 0.320312 -1.78125 Z M 1.234375 -1.78125 \\\"\\/>\\n<\\/symbol>\\n<symbol overflow=\\\"visible\\\" id=\\\"glyph0-8\\\">\\n<path style=\\\"stroke:none;\\\" d=\\\"M 0.957031 -4.953125 L 0.957031 -5.625 C 1.59375 -5.6875 2.035156 -5.789062 2.285156 -5.933594 C 2.535156 -6.078125 2.722656 -6.421875 2.847656 -6.960938 L 3.539062 -6.960938 L 3.539062 0 L 2.601562 0 L 2.601562 -4.953125 Z M 0.957031 -4.953125 \\\"\\/>\\n<\\/symbol>\\n<symbol overflow=\\\"visible\\\" id=\\\"glyph0-9\\\">\\n<path style=\\\"stroke:none;\\\" d=\\\"M 5.230469 -6.875 L 5.230469 -6.109375 C 5.003906 -5.890625 4.707031 -5.511719 4.332031 -4.96875 C 3.960938 -4.429688 3.632812 -3.847656 3.34375 -3.222656 C 3.0625 -2.613281 2.847656 -2.058594 2.699219 -1.558594 C 2.605469 -1.234375 2.484375 -0.714844 2.335938 0 L 1.363281 0 C 1.585938 -1.335938 2.070312 -2.664062 2.828125 -3.984375 C 3.273438 -4.757812 3.742188 -5.429688 4.234375 -5.992188 L 0.367188 -5.992188 L 0.367188 -6.875 Z M 5.230469 -6.875 \\\"\\/>\\n<\\/symbol>\\n<symbol overflow=\\\"visible\\\" id=\\\"glyph0-10\\\">\\n<path style=\\\"stroke:none;\\\" d=\\\"M 0.3125 0 C 0.34375 -0.601562 0.46875 -1.125 0.6875 -1.570312 C 0.902344 -2.015625 1.324219 -2.421875 1.953125 -2.789062 L 2.890625 -3.328125 C 3.3125 -3.574219 3.605469 -3.78125 3.773438 -3.953125 C 4.039062 -4.226562 4.175781 -4.535156 4.175781 -4.882812 C 4.175781 -5.289062 4.054688 -5.613281 3.808594 -5.851562 C 3.5625 -6.089844 3.238281 -6.210938 2.832031 -6.210938 C 2.230469 -6.210938 1.8125 -5.984375 1.582031 -5.527344 C 1.457031 -5.28125 1.390625 -4.945312 1.375 -4.511719 L 0.484375 -4.511719 C 0.492188 -5.121094 0.605469 -5.617188 0.820312 -6 C 1.203125 -6.679688 1.875 -7.015625 2.835938 -7.015625 C 3.636719 -7.015625 4.222656 -6.800781 4.59375 -6.367188 C 4.960938 -5.933594 5.148438 -5.453125 5.148438 -4.921875 C 5.148438 -4.363281 4.949219 -3.882812 4.554688 -3.484375 C 4.328125 -3.253906 3.917969 -2.976562 3.328125 -2.648438 L 2.660156 -2.273438 C 2.34375 -2.097656 2.089844 -1.933594 1.910156 -1.773438 C 1.585938 -1.488281 1.378906 -1.175781 1.292969 -0.828125 L 5.113281 -0.828125 L 5.113281 0 Z M 0.3125 0 \\\"\\/>\\n<\\/symbol>\\n<symbol overflow=\\\"visible\\\" id=\\\"glyph0-11\\\">\\n<path style=\\\"stroke:none;\\\" d=\\\"M 2.703125 -6.992188 C 3.609375 -6.992188 4.265625 -6.621094 4.667969 -5.875 C 4.980469 -5.296875 5.136719 -4.507812 5.136719 -3.507812 C 5.136719 -2.554688 4.996094 -1.769531 4.710938 -1.148438 C 4.300781 -0.257812 3.632812 0.191406 2.699219 0.191406 C 1.859375 0.191406 1.234375 -0.175781 0.824219 -0.902344 C 0.484375 -1.511719 0.3125 -2.328125 0.3125 -3.355469 C 0.3125 -4.148438 0.414062 -4.832031 0.621094 -5.398438 C 1.003906 -6.460938 1.699219 -6.992188 2.703125 -6.992188 Z M 2.695312 -0.609375 C 3.152344 -0.609375 3.515625 -0.8125 3.785156 -1.214844 C 4.054688 -1.617188 4.1875 -2.371094 4.1875 -3.472656 C 4.1875 -4.265625 4.09375 -4.917969 3.898438 -5.433594 C 3.703125 -5.945312 3.320312 -6.203125 2.757812 -6.203125 C 2.242188 -6.203125 1.863281 -5.957031 1.625 -5.472656 C 1.382812 -4.984375 1.265625 -4.265625 1.265625 -3.320312 C 1.265625 -2.609375 1.339844 -2.035156 1.492188 -1.601562 C 1.726562 -0.941406 2.128906 -0.609375 2.695312 -0.609375 Z M 2.695312 -0.609375 \\\"\\/>\\n<\\/symbol>\\n<\\/g>\\n<\\/defs>\\n<g id=\\\"surface337\\\">\\n<path style=\\\"fill:none;stroke-width:2;stroke-linecap:butt;stroke-linejoin:miter;stroke:rgb(0%,0%,0%);stroke-opacity:1;stroke-miterlimit:10;\\\" d=\\\"M 308.46875 343.152344 L 295.085938 346.207031 L 281.707031 349.257812 L 254.941406 355.367188 L 241.5625 358.421875 L 228.179688 361.476562 L 216.691406 356.238281 L 173.769531 322.003906 L 163.035156 313.449219 L 152.304688 304.890625 L 146.175781 294.117188 L 146.175781 211.765625 L 147.707031 198.777344 L 169.167969 181.660156 L 179.898438 173.105469 L 190.632812 164.546875 L 212.09375 147.429688 L 222.824219 138.875 L 235.828125 140.269531 L 249.207031 143.324219 L 262.589844 146.378906 L 275.972656 149.429688 L 289.351562 152.484375 L 302.734375 155.539062 L 316.113281 158.59375 L 325.253906 166.96875 L 331.207031 179.335938 L 337.164062 191.703125 L 343.117188 204.066406 L 349.074219 216.433594 L 355.027344 228.800781 L 360.984375 241.167969 L 363.535156 253.535156 L 357.582031 265.898438 L 351.625 278.265625 L 345.671875 290.632812 L 339.714844 303 L 333.761719 315.363281 L 327.804688 327.730469 L 321.851562 340.097656 Z M 308.46875 343.152344 \\\"\\/>\\n<path style=\\\"fill:none;stroke-width:2;stroke-linecap:butt;stroke-linejoin:miter;stroke:rgb(0%,0%,0%);stroke-opacity:1;stroke-miterlimit:10;\\\" d=\\\"M 310.46875 343.152344 C 310.46875 345.816406 306.46875 345.816406 306.46875 343.152344 C 306.46875 340.484375 310.46875 340.484375 310.46875 343.152344 \\\"\\/>\\n<path style=\\\"fill:none;stroke-width:2;stroke-linecap:butt;stroke-linejoin:miter;stroke:rgb(0%,0%,0%);stroke-opacity:1;stroke-miterlimit:10;\\\" d=\\\"M 297.085938 346.207031 C 297.085938 348.871094 293.085938 348.871094 293.085938 346.207031 C 293.085938 343.539062 297.085938 343.539062 297.085938 346.207031 \\\"\\/>\\n<path style=\\\"fill:none;stroke-width:2;stroke-linecap:butt;stroke-linejoin:miter;stroke:rgb(0%,0%,0%);stroke-opacity:1;stroke-miterlimit:10;\\\" d=\\\"M 283.707031 349.257812 C 283.707031 351.925781 279.707031 351.925781 279.707031 349.257812 C 279.707031 346.59375 283.707031 346.59375 283.707031 349.257812 \\\"\\/>\\n<path style=\\\"fill:none;stroke-width:2;stroke-linecap:butt;stroke-linejoin:miter;stroke:rgb(0%,0%,0%);stroke-opacity:1;stroke-miterlimit:10;\\\" d=\\\"M 270.324219 352.3125 C 270.324219 354.980469 266.324219 354.980469 266.324219 352.3125 C 266.324219 349.648438 270.324219 349.648438 270.324219 352.3125 \\\"\\/>\\n<path style=\\\"fill:none;stroke-width:2;stroke-linecap:butt;stroke-linejoin:miter;stroke:rgb(0%,0%,0%);stroke-opacity:1;stroke-miterlimit:10;\\\" d=\\\"M 256.941406 355.367188 C 256.941406 358.035156 252.941406 358.035156 252.941406 355.367188 C 252.941406 352.703125 256.941406 352.703125 256.941406 355.367188 \\\"\\/>\\n<path style=\\\"fill:none;stroke-width:2;stroke-linecap:butt;stroke-linejoin:miter;stroke:rgb(0%,0%,0%);stroke-opacity:1;stroke-miterlimit:10;\\\" d=\\\"M 243.5625 358.421875 C 243.5625 361.089844 239.5625 361.089844 239.5625 358.421875 C 239.5625 355.753906 243.5625 355.753906 243.5625 358.421875 \\\"\\/>\\n<path style=\\\"fill:none;stroke-width:2;stroke-linecap:butt;stroke-linejoin:miter;stroke:rgb(0%,0%,0%);stroke-opacity:1;stroke-miterlimit:10;\\\" d=\\\"M 230.179688 361.476562 C 230.179688 364.144531 226.179688 364.144531 226.179688 361.476562 C 226.179688 358.808594 230.179688 358.808594 230.179688 361.476562 \\\"\\/>\\n<path style=\\\"fill:none;stroke-width:2;stroke-linecap:butt;stroke-linejoin:miter;stroke:rgb(0%,0%,0%);stroke-opacity:1;stroke-miterlimit:10;\\\" d=\\\"M 218.691406 356.238281 C 218.691406 358.902344 214.691406 358.902344 214.691406 356.238281 C 214.691406 353.570312 218.691406 353.570312 218.691406 356.238281 \\\"\\/>\\n<path style=\\\"fill:none;stroke-width:2;stroke-linecap:butt;stroke-linejoin:miter;stroke:rgb(0%,0%,0%);stroke-opacity:1;stroke-miterlimit:10;\\\" d=\\\"M 207.960938 347.679688 C 207.960938 350.34375 203.960938 350.34375 203.960938 347.679688 C 203.960938 345.011719 207.960938 345.011719 207.960938 347.679688 \\\"\\/>\\n<path style=\\\"fill:none;stroke-width:2;stroke-linecap:butt;stroke-linejoin:miter;stroke:rgb(0%,0%,0%);stroke-opacity:1;stroke-miterlimit:10;\\\" d=\\\"M 197.230469 339.121094 C 197.230469 341.789062 193.230469 341.789062 193.230469 339.121094 C 193.230469 336.453125 197.230469 336.453125 197.230469 339.121094 \\\"\\/>\\n<path style=\\\"fill:none;stroke-width:2;stroke-linecap:butt;stroke-linejoin:miter;stroke:rgb(0%,0%,0%);stroke-opacity:1;stroke-miterlimit:10;\\\" d=\\\"M 186.5 330.5625 C 186.5 333.230469 182.5 333.230469 182.5 330.5625 C 182.5 327.898438 186.5 327.898438 186.5 330.5625 \\\"\\/>\\n<path style=\\\"fill:none;stroke-width:2;stroke-linecap:butt;stroke-linejoin:miter;stroke:rgb(0%,0%,0%);stroke-opacity:1;stroke-miterlimit:10;\\\" d=\\\"M 175.769531 322.003906 C 175.769531 324.671875 171.769531 324.671875 171.769531 322.003906 C 171.769531 319.339844 175.769531 319.339844 175.769531 322.003906 \\\"\\/>\\n<path style=\\\"fill:none;stroke-width:2;stroke-linecap:butt;stroke-linejoin:miter;stroke:rgb(0%,0%,0%);stroke-opacity:1;stroke-miterlimit:10;\\\" d=\\\"M 165.035156 313.449219 C 165.035156 316.113281 161.035156 316.113281 161.035156 313.449219 C 161.035156 310.78125 165.035156 310.78125 165.035156 313.449219 \\\"\\/>\\n<path style=\\\"fill:none;stroke-width:2;stroke-linecap:butt;stroke-linejoin:miter;stroke:rgb(0%,0%,0%);stroke-opacity:1;stroke-miterlimit:10;\\\" d=\\\"M 154.304688 304.890625 C 154.304688 307.558594 150.304688 307.558594 150.304688 304.890625 C 150.304688 302.222656 154.304688 302.222656 154.304688 304.890625 \\\"\\/>\\n<path style=\\\"fill:none;stroke-width:2;stroke-linecap:butt;stroke-linejoin:miter;stroke:rgb(0%,0%,0%);stroke-opacity:1;stroke-miterlimit:10;\\\" d=\\\"M 148.175781 294.117188 C 148.175781 296.785156 144.175781 296.785156 144.175781 294.117188 C 144.175781 291.449219 148.175781 291.449219 148.175781 294.117188 \\\"\\/>\\n<path style=\\\"fill:none;stroke-width:2;stroke-linecap:butt;stroke-linejoin:miter;stroke:rgb(0%,0%,0%);stroke-opacity:1;stroke-miterlimit:10;\\\" d=\\\"M 148.175781 280.390625 C 148.175781 283.058594 144.175781 283.058594 144.175781 280.390625 C 144.175781 277.726562 148.175781 277.726562 148.175781 280.390625 \\\"\\/>\\n<path style=\\\"fill:none;stroke-width:2;stroke-linecap:butt;stroke-linejoin:miter;stroke:rgb(0%,0%,0%);stroke-opacity:1;stroke-miterlimit:10;\\\" d=\\\"M 148.175781 266.667969 C 148.175781 269.332031 144.175781 269.332031 144.175781 266.667969 C 144.175781 264 148.175781 264 148.175781 266.667969 \\\"\\/>\\n<path style=\\\"fill:none;stroke-width:2;stroke-linecap:butt;stroke-linejoin:miter;stroke:rgb(0%,0%,0%);stroke-opacity:1;stroke-miterlimit:10;\\\" d=\\\"M 148.175781 252.941406 C 148.175781 255.609375 144.175781 255.609375 144.175781 252.941406 C 144.175781 250.273438 148.175781 250.273438 148.175781 252.941406 \\\"\\/>\\n<path style=\\\"fill:none;stroke-width:2;stroke-linecap:butt;stroke-linejoin:miter;stroke:rgb(0%,0%,0%);stroke-opacity:1;stroke-miterlimit:10;\\\" d=\\\"M 148.175781 239.214844 C 148.175781 241.882812 144.175781 241.882812 144.175781 239.214844 C 144.175781 236.550781 148.175781 236.550781 148.175781 239.214844 \\\"\\/>\\n<path style=\\\"fill:none;stroke-width:2;stroke-linecap:butt;stroke-linejoin:miter;stroke:rgb(0%,0%,0%);stroke-opacity:1;stroke-miterlimit:10;\\\" d=\\\"M 148.175781 225.488281 C 148.175781 228.15625 144.175781 228.15625 144.175781 225.488281 C 144.175781 222.824219 148.175781 222.824219 148.175781 225.488281 \\\"\\/>\\n<path style=\\\"fill:none;stroke-width:2;stroke-linecap:butt;stroke-linejoin:miter;stroke:rgb(0%,0%,0%);stroke-opacity:1;stroke-miterlimit:10;\\\" d=\\\"M 148.175781 211.765625 C 148.175781 214.429688 144.175781 214.429688 144.175781 211.765625 C 144.175781 209.097656 148.175781 209.097656 148.175781 211.765625 \\\"\\/>\\n<path style=\\\"fill:none;stroke-width:2;stroke-linecap:butt;stroke-linejoin:miter;stroke:rgb(0%,0%,0%);stroke-opacity:1;stroke-miterlimit:10;\\\" d=\\\"M 149.707031 198.777344 C 149.707031 201.445312 145.707031 201.445312 145.707031 198.777344 C 145.707031 196.109375 149.707031 196.109375 149.707031 198.777344 \\\"\\/>\\n<path style=\\\"fill:none;stroke-width:2;stroke-linecap:butt;stroke-linejoin:miter;stroke:rgb(0%,0%,0%);stroke-opacity:1;stroke-miterlimit:10;\\\" d=\\\"M 160.4375 190.21875 C 160.4375 192.886719 156.4375 192.886719 156.4375 190.21875 C 156.4375 187.554688 160.4375 187.554688 160.4375 190.21875 \\\"\\/>\\n<path style=\\\"fill:none;stroke-width:2;stroke-linecap:butt;stroke-linejoin:miter;stroke:rgb(0%,0%,0%);stroke-opacity:1;stroke-miterlimit:10;\\\" d=\\\"M 171.167969 181.660156 C 171.167969 184.328125 167.167969 184.328125 167.167969 181.660156 C 167.167969 178.996094 171.167969 178.996094 171.167969 181.660156 \\\"\\/>\\n<path style=\\\"fill:none;stroke-width:2;stroke-linecap:butt;stroke-linejoin:miter;stroke:rgb(0%,0%,0%);stroke-opacity:1;stroke-miterlimit:10;\\\" d=\\\"M 181.898438 173.105469 C 181.898438 175.769531 177.898438 175.769531 177.898438 173.105469 C 177.898438 170.4375 181.898438 170.4375 181.898438 173.105469 \\\"\\/>\\n<path style=\\\"fill:none;stroke-width:2;stroke-linecap:butt;stroke-linejoin:miter;stroke:rgb(0%,0%,0%);stroke-opacity:1;stroke-miterlimit:10;\\\" d=\\\"M 192.632812 164.546875 C 192.632812 167.214844 188.632812 167.214844 188.632812 164.546875 C 188.632812 161.878906 192.632812 161.878906 192.632812 164.546875 \\\"\\/>\\n<path style=\\\"fill:none;stroke-width:2;stroke-linecap:butt;stroke-linejoin:miter;stroke:rgb(0%,0%,0%);stroke-opacity:1;stroke-miterlimit:10;\\\" d=\\\"M 203.363281 155.988281 C 203.363281 158.65625 199.363281 158.65625 199.363281 155.988281 C 199.363281 153.324219 203.363281 153.324219 203.363281 155.988281 \\\"\\/>\\n<path style=\\\"fill:none;stroke-width:2;stroke-linecap:butt;stroke-linejoin:miter;stroke:rgb(0%,0%,0%);stroke-opacity:1;stroke-miterlimit:10;\\\" d=\\\"M 214.09375 147.429688 C 214.09375 150.097656 210.09375 150.097656 210.09375 147.429688 C 210.09375 144.765625 214.09375 144.765625 214.09375 147.429688 \\\"\\/>\\n<path style=\\\"fill:none;stroke-width:2;stroke-linecap:butt;stroke-linejoin:miter;stroke:rgb(0%,0%,0%);stroke-opacity:1;stroke-miterlimit:10;\\\" d=\\\"M 224.824219 138.875 C 224.824219 141.539062 220.824219 141.539062 220.824219 138.875 C 220.824219 136.207031 224.824219 136.207031 224.824219 138.875 \\\"\\/>\\n<path style=\\\"fill:none;stroke-width:2;stroke-linecap:butt;stroke-linejoin:miter;stroke:rgb(0%,0%,0%);stroke-opacity:1;stroke-miterlimit:10;\\\" d=\\\"M 237.828125 140.269531 C 237.828125 142.9375 233.828125 142.9375 233.828125 140.269531 C 233.828125 137.601562 237.828125 137.601562 237.828125 140.269531 \\\"\\/>\\n<path style=\\\"fill:none;stroke-width:2;stroke-linecap:butt;stroke-linejoin:miter;stroke:rgb(0%,0%,0%);stroke-opacity:1;stroke-miterlimit:10;\\\" d=\\\"M 251.207031 143.324219 C 251.207031 145.988281 247.207031 145.988281 247.207031 143.324219 C 247.207031 140.65625 251.207031 140.65625 251.207031 143.324219 \\\"\\/>\\n<path style=\\\"fill:none;stroke-width:2;stroke-linecap:butt;stroke-linejoin:miter;stroke:rgb(0%,0%,0%);stroke-opacity:1;stroke-miterlimit:10;\\\" d=\\\"M 264.589844 146.378906 C 264.589844 149.042969 260.589844 149.042969 260.589844 146.378906 C 260.589844 143.710938 264.589844 143.710938 264.589844 146.378906 \\\"\\/>\\n<path style=\\\"fill:none;stroke-width:2;stroke-linecap:butt;stroke-linejoin:miter;stroke:rgb(0%,0%,0%);stroke-opacity:1;stroke-miterlimit:10;\\\" d=\\\"M 277.972656 149.429688 C 277.972656 152.097656 273.972656 152.097656 273.972656 149.429688 C 273.972656 146.765625 277.972656 146.765625 277.972656 149.429688 \\\"\\/>\\n<path style=\\\"fill:none;stroke-width:2;stroke-linecap:butt;stroke-linejoin:miter;stroke:rgb(0%,0%,0%);stroke-opacity:1;stroke-miterlimit:10;\\\" d=\\\"M 291.351562 152.484375 C 291.351562 155.152344 287.351562 155.152344 287.351562 152.484375 C 287.351562 149.820312 291.351562 149.820312 291.351562 152.484375 \\\"\\/>\\n<path style=\\\"fill:none;stroke-width:2;stroke-linecap:butt;stroke-linejoin:miter;stroke:rgb(0%,0%,0%);stroke-opacity:1;stroke-miterlimit:10;\\\" d=\\\"M 304.734375 155.539062 C 304.734375 158.207031 300.734375 158.207031 300.734375 155.539062 C 300.734375 152.875 304.734375 152.875 304.734375 155.539062 \\\"\\/>\\n<path style=\\\"fill:none;stroke-width:2;stroke-linecap:butt;stroke-linejoin:miter;stroke:rgb(0%,0%,0%);stroke-opacity:1;stroke-miterlimit:10;\\\" d=\\\"M 318.113281 158.59375 C 318.113281 161.261719 314.113281 161.261719 314.113281 158.59375 C 314.113281 155.925781 318.113281 155.925781 318.113281 158.59375 \\\"\\/>\\n<path style=\\\"fill:none;stroke-width:2;stroke-linecap:butt;stroke-linejoin:miter;stroke:rgb(0%,0%,0%);stroke-opacity:1;stroke-miterlimit:10;\\\" d=\\\"M 327.253906 166.96875 C 327.253906 169.636719 323.253906 169.636719 323.253906 166.96875 C 323.253906 164.304688 327.253906 164.304688 327.253906 166.96875 \\\"\\/>\\n<path style=\\\"fill:none;stroke-width:2;stroke-linecap:butt;stroke-linejoin:miter;stroke:rgb(0%,0%,0%);stroke-opacity:1;stroke-miterlimit:10;\\\" d=\\\"M 333.207031 179.335938 C 333.207031 182.003906 329.207031 182.003906 329.207031 179.335938 C 329.207031 176.667969 333.207031 176.667969 333.207031 179.335938 \\\"\\/>\\n<path style=\\\"fill:none;stroke-width:2;stroke-linecap:butt;stroke-linejoin:miter;stroke:rgb(0%,0%,0%);stroke-opacity:1;stroke-miterlimit:10;\\\" d=\\\"M 339.164062 191.703125 C 339.164062 194.367188 335.164062 194.367188 335.164062 191.703125 C 335.164062 189.035156 339.164062 189.035156 339.164062 191.703125 \\\"\\/>\\n<path style=\\\"fill:none;stroke-width:2;stroke-linecap:butt;stroke-linejoin:miter;stroke:rgb(0%,0%,0%);stroke-opacity:1;stroke-miterlimit:10;\\\" d=\\\"M 345.117188 204.066406 C 345.117188 206.734375 341.117188 206.734375 341.117188 204.066406 C 341.117188 201.402344 345.117188 201.402344 345.117188 204.066406 \\\"\\/>\\n<path style=\\\"fill:none;stroke-width:2;stroke-linecap:butt;stroke-linejoin:miter;stroke:rgb(0%,0%,0%);stroke-opacity:1;stroke-miterlimit:10;\\\" d=\\\"M 351.074219 216.433594 C 351.074219 219.101562 347.074219 219.101562 347.074219 216.433594 C 347.074219 213.769531 351.074219 213.769531 351.074219 216.433594 \\\"\\/>\\n<path style=\\\"fill:none;stroke-width:2;stroke-linecap:butt;stroke-linejoin:miter;stroke:rgb(0%,0%,0%);stroke-opacity:1;stroke-miterlimit:10;\\\" d=\\\"M 357.027344 228.800781 C 357.027344 231.46875 353.027344 231.46875 353.027344 228.800781 C 353.027344 226.132812 357.027344 226.132812 357.027344 228.800781 \\\"\\/>\\n<path style=\\\"fill:none;stroke-width:2;stroke-linecap:butt;stroke-linejoin:miter;stroke:rgb(0%,0%,0%);stroke-opacity:1;stroke-miterlimit:10;\\\" d=\\\"M 362.984375 241.167969 C 362.984375 243.832031 358.984375 243.832031 358.984375 241.167969 C 358.984375 238.5 362.984375 238.5 362.984375 241.167969 \\\"\\/>\\n<path style=\\\"fill:none;stroke-width:2;stroke-linecap:butt;stroke-linejoin:miter;stroke:rgb(0%,0%,0%);stroke-opacity:1;stroke-miterlimit:10;\\\" d=\\\"M 365.535156 253.535156 C 365.535156 256.199219 361.535156 256.199219 361.535156 253.535156 C 361.535156 250.867188 365.535156 250.867188 365.535156 253.535156 \\\"\\/>\\n<path style=\\\"fill:none;stroke-width:2;stroke-linecap:butt;stroke-linejoin:miter;stroke:rgb(0%,0%,0%);stroke-opacity:1;stroke-miterlimit:10;\\\" d=\\\"M 359.582031 265.898438 C 359.582031 268.566406 355.582031 268.566406 355.582031 265.898438 C 355.582031 263.234375 359.582031 263.234375 359.582031 265.898438 \\\"\\/>\\n<path style=\\\"fill:none;stroke-width:2;stroke-linecap:butt;stroke-linejoin:miter;stroke:rgb(0%,0%,0%);stroke-opacity:1;stroke-miterlimit:10;\\\" d=\\\"M 353.625 278.265625 C 353.625 280.933594 349.625 280.933594 349.625 278.265625 C 349.625 275.597656 353.625 275.597656 353.625 278.265625 \\\"\\/>\\n<path style=\\\"fill:none;stroke-width:2;stroke-linecap:butt;stroke-linejoin:miter;stroke:rgb(0%,0%,0%);stroke-opacity:1;stroke-miterlimit:10;\\\" d=\\\"M 347.671875 290.632812 C 347.671875 293.296875 343.671875 293.296875 343.671875 290.632812 C 343.671875 287.964844 347.671875 287.964844 347.671875 290.632812 \\\"\\/>\\n<path style=\\\"fill:none;stroke-width:2;stroke-linecap:butt;stroke-linejoin:miter;stroke:rgb(0%,0%,0%);stroke-opacity:1;stroke-miterlimit:10;\\\" d=\\\"M 341.714844 303 C 341.714844 305.664062 337.714844 305.664062 337.714844 303 C 337.714844 300.332031 341.714844 300.332031 341.714844 303 \\\"\\/>\\n<path style=\\\"fill:none;stroke-width:2;stroke-linecap:butt;stroke-linejoin:miter;stroke:rgb(0%,0%,0%);stroke-opacity:1;stroke-miterlimit:10;\\\" d=\\\"M 335.761719 315.363281 C 335.761719 318.03125 331.761719 318.03125 331.761719 315.363281 C 331.761719 312.699219 335.761719 312.699219 335.761719 315.363281 \\\"\\/>\\n<path style=\\\"fill:none;stroke-width:2;stroke-linecap:butt;stroke-linejoin:miter;stroke:rgb(0%,0%,0%);stroke-opacity:1;stroke-miterlimit:10;\\\" d=\\\"M 329.804688 327.730469 C 329.804688 330.398438 325.804688 330.398438 325.804688 327.730469 C 325.804688 325.0625 329.804688 325.0625 329.804688 327.730469 \\\"\\/>\\n<path style=\\\"fill:none;stroke-width:2;stroke-linecap:butt;stroke-linejoin:miter;stroke:rgb(0%,0%,0%);stroke-opacity:1;stroke-miterlimit:10;\\\" d=\\\"M 323.851562 340.097656 C 323.851562 342.761719 319.851562 342.761719 319.851562 340.097656 C 319.851562 337.429688 323.851562 337.429688 323.851562 340.097656 \\\"\\/>\\n<g style=\\\"fill:rgb(0%,0%,0%);fill-opacity:1;\\\">\\n  <use xlink:href=\\\"#glyph0-1\\\" x=\\\"204.515625\\\" y=\\\"250\\\"\\/>\\n  <use xlink:href=\\\"#glyph0-2\\\" x=\\\"210.077148\\\" y=\\\"250\\\"\\/>\\n  <use xlink:href=\\\"#glyph0-3\\\" x=\\\"215.638672\\\" y=\\\"250\\\"\\/>\\n  <use xlink:href=\\\"#glyph0-4\\\" x=\\\"221.200195\\\" y=\\\"250\\\"\\/>\\n  <use xlink:href=\\\"#glyph0-5\\\" x=\\\"223.978516\\\" y=\\\"250\\\"\\/>\\n  <use xlink:href=\\\"#glyph0-6\\\" x=\\\"229.540039\\\" y=\\\"250\\\"\\/>\\n  <use xlink:href=\\\"#glyph0-1\\\" x=\\\"235.101562\\\" y=\\\"250\\\"\\/>\\n  <use xlink:href=\\\"#glyph0-7\\\" x=\\\"240.663086\\\" y=\\\"250\\\"\\/>\\n  <use xlink:href=\\\"#glyph0-3\\\" x=\\\"246.224609\\\" y=\\\"250\\\"\\/>\\n  <use xlink:href=\\\"#glyph0-2\\\" x=\\\"251.786133\\\" y=\\\"250\\\"\\/>\\n  <use xlink:href=\\\"#glyph0-8\\\" x=\\\"257.347656\\\" y=\\\"250\\\"\\/>\\n  <use xlink:href=\\\"#glyph0-9\\\" x=\\\"262.90918\\\" y=\\\"250\\\"\\/>\\n  <use xlink:href=\\\"#glyph0-1\\\" x=\\\"268.470703\\\" y=\\\"250\\\"\\/>\\n  <use xlink:href=\\\"#glyph0-1\\\" x=\\\"274.032227\\\" y=\\\"250\\\"\\/>\\n  <use xlink:href=\\\"#glyph0-3\\\" x=\\\"279.59375\\\" y=\\\"250\\\"\\/>\\n  <use xlink:href=\\\"#glyph0-1\\\" x=\\\"285.155273\\\" y=\\\"250\\\"\\/>\\n  <use xlink:href=\\\"#glyph0-10\\\" x=\\\"290.716797\\\" y=\\\"250\\\"\\/>\\n<\\/g>\\n<g style=\\\"fill:rgb(0%,0%,0%);fill-opacity:1;\\\">\\n  <use xlink:href=\\\"#glyph0-9\\\" x=\\\"237.882812\\\" y=\\\"290\\\"\\/>\\n  <use xlink:href=\\\"#glyph0-11\\\" x=\\\"243.444336\\\" y=\\\"290\\\"\\/>\\n  <use xlink:href=\\\"#glyph0-11\\\" x=\\\"249.005859\\\" y=\\\"290\\\"\\/>\\n  <use xlink:href=\\\"#glyph0-4\\\" x=\\\"254.567383\\\" y=\\\"290\\\"\\/>\\n  <use xlink:href=\\\"#glyph0-11\\\" x=\\\"257.345703\\\" y=\\\"290\\\"\\/>\\n<\\/g>\\n<\\/g>\\n<\\/svg>\\n\"},\"nodeType\":\"DOM\",\"type\":\"node\",\"instanceArgs\":{\"namespace\":\"html\",\"tag\":\"div\"},\"children\":[]}]}}}},\"children\":[{\"props\":{},\"nodeType\":\"ObservableNode\",\"type\":\"node\",\"instanceArgs\":{\"id\":\"ob_97\",\"name\":\"obs-node\"},\"children\":[]}]}]},\n",
       "            window,\n",
       "        );\n",
       "    } else {\n",
       "        document\n",
       "            .querySelector('[data-webio-mountpoint=\"5127183308757381509\"]')\n",
       "            .innerHTML = (\n",
       "                '<div style=\"padding: 1em; background-color: #f8d6da; border: 1px solid #f5c6cb\">' +\n",
       "                '<p><strong>WebIO not detected.</strong></p>' +\n",
       "                '<p>Please read ' +\n",
       "                '<a href=\"https://juliagizmos.github.io/WebIO.jl/latest/troubleshooting/not-detected/\" target=\"_blank\">the troubleshooting guide</a> ' +\n",
       "                'for more information on how to resolve this issue.</p>' +\n",
       "                '<p><a href=\"https://juliagizmos.github.io/WebIO.jl/latest/troubleshooting/not-detected/\" target=\"_blank\">https://juliagizmos.github.io/WebIO.jl/latest/troubleshooting/not-detected/</a></p>' +\n",
       "                '</div>'\n",
       "            );\n",
       "    }\n",
       "    </script>\n",
       "</div>\n"
      ]
     },
     "metadata": {},
     "execution_count": 11
    }
   ],
   "cell_type": "code",
   "source": [
    "@manipulate for s in 3:100, nsides=3:12\n",
    "    d = Drawing(500, 500, :svg)\n",
    "    origin()\n",
    "    sethue(\"black\")\n",
    "    pgon = ngonside(Point(0, 0), 100, nsides, vertices=true)\n",
    "\n",
    "    # resample it\n",
    "    psampled = polysample(pgon, s)\n",
    "\n",
    "    # draw the new polygon\n",
    "    prettypoly(psampled, :stroke, close=true)\n",
    "\n",
    "    # show perimeter values\n",
    "    text(string(polyperimeter(psampled)), halign=:center)\n",
    "    text(string(polyperimeter(pgon)), Point(0, 40), halign=:center)\n",
    "\n",
    "    finish()\n",
    "    return d\n",
    "end"
   ],
   "metadata": {},
   "execution_count": 11
  },
  {
   "cell_type": "markdown",
   "source": [
    "We used the `prettypoly()` function to apply a stroke to the sampled polygon. It's called `prettypoly()` because it automatically highlights the vertices for you with small circles - very useful when you're working with unfamiliar polygons."
   ],
   "metadata": {}
  },
  {
   "cell_type": "markdown",
   "source": [
    "We've also introduced the `text(str, pt)` function, that draws a string of text at a point."
   ],
   "metadata": {}
  },
  {
   "cell_type": "markdown",
   "source": [
    "Notice that at low sampling rates (low `s` values) the shape is rendered approximately rather than accurately."
   ],
   "metadata": {}
  },
  {
   "cell_type": "markdown",
   "source": [
    "## Pretty poly"
   ],
   "metadata": {}
  },
  {
   "cell_type": "markdown",
   "source": [
    "With a few changes we can see some more of `prettypoly()` in action. Let's get rid of the sampling, and just vary the size of the polygons drawn at the vertices of the original `pgon`. We pass an *anonymous function* that is applied at each vertex, allowing us to apply any sequence of graphics instructions at each vertex in turn. In this case we select a color at random, draw another polygon centered at the vertex, then outline it in black."
   ],
   "metadata": {}
  },
  {
   "outputs": [
    {
     "output_type": "execute_result",
     "data": {
      "text/plain": "WebIO.Node{WebIO.DOM}(WebIO.DOM(:html, :div), Any[WebIO.Node{WebIO.DOM}(WebIO.DOM(:html, :div), Any[WebIO.Scope(WebIO.Node{WebIO.DOM}(WebIO.DOM(:html, :div), Any[WebIO.Node{WebIO.DOM}(WebIO.DOM(:html, :div), Any[WebIO.Node{WebIO.DOM}(WebIO.DOM(:html, :label), Any[\"nsides\"], Dict{Symbol,Any}(:className => \"interact \",:style => Dict{Any,Any}(:padding => \"5px 10px 0px 10px\")))], Dict{Symbol,Any}(:className => \"interact-flex-row-left\")), WebIO.Node{WebIO.DOM}(WebIO.DOM(:html, :div), Any[WebIO.Node{WebIO.DOM}(WebIO.DOM(:html, :input), Any[], Dict{Symbol,Any}(:max => 12,:min => 3,:attributes => Dict{Any,Any}(:type => \"range\",Symbol(\"data-bind\") => \"numericValue: index, valueUpdate: 'input', event: {change: function (){this.changes(this.changes()+1)}}\",\"orient\" => \"horizontal\"),:step => 1,:className => \"slider slider is-fullwidth\",:style => Dict{Any,Any}()))], Dict{Symbol,Any}(:className => \"interact-flex-row-center\")), WebIO.Node{WebIO.DOM}(WebIO.DOM(:html, :div), Any[WebIO.Node{WebIO.DOM}(WebIO.DOM(:html, :p), Any[], Dict{Symbol,Any}(:attributes => Dict(\"data-bind\" => \"text: formatted_val\")))], Dict{Symbol,Any}(:className => \"interact-flex-row-right\"))], Dict{Symbol,Any}(:className => \"interact-flex-row interact-widget\")), Dict{String,Tuple{Observables.AbstractObservable,Union{Nothing, Bool}}}(\"changes\" => (Observable{Int64} with 1 listeners. Value:\n0, nothing),\"index\" => (Observable{Int64} with 2 listeners. Value:\n7, nothing)), Set(String[]), nothing, WebIO.Asset[WebIO.Asset(\"js\", \"knockout\", \"/Users/pete/.julia/packages/Knockout/IP1uR/src/../assets/knockout.js\"), WebIO.Asset(\"js\", \"knockout_punches\", \"/Users/pete/.julia/packages/Knockout/IP1uR/src/../assets/knockout_punches.js\"), WebIO.Asset(\"js\", nothing, \"/Users/pete/.julia/packages/InteractBase/9mFwe/src/../assets/all.js\"), WebIO.Asset(\"css\", nothing, \"/Users/pete/.julia/packages/InteractBase/9mFwe/src/../assets/style.css\"), WebIO.Asset(\"css\", nothing, \"/Users/pete/.julia/packages/Interact/SbgIk/src/../assets/bulma.min.css\")], Dict{Any,Any}(\"changes\" => Any[WebIO.JSString(\"(function (val){return (val!=this.model[\\\"changes\\\"]()) ? (this.valueFromJulia[\\\"changes\\\"]=true, this.model[\\\"changes\\\"](val)) : undefined})\")],\"index\" => Any[WebIO.JSString(\"(function (val){return (val!=this.model[\\\"index\\\"]()) ? (this.valueFromJulia[\\\"index\\\"]=true, this.model[\\\"index\\\"](val)) : undefined})\")]), WebIO.ConnectionPool(Channel{Any}(sz_max:32,sz_curr:0), Set(WebIO.AbstractConnection[]), Base.GenericCondition{Base.AlwaysLockedST}(Base.InvasiveLinkedList{Task}(Task (runnable) @0x000000011181f610, Task (runnable) @0x000000011181f610), Base.AlwaysLockedST(1))), WebIO.JSString[WebIO.JSString(\"function () {\\n    var handler = (function (ko, koPunches) {\\n    ko.punches.enableAll();\\n    ko.bindingHandlers.numericValue = {\\n        init: function(element, valueAccessor, allBindings, data, context) {\\n            var stringified = ko.observable(ko.unwrap(valueAccessor()));\\n            stringified.subscribe(function(value) {\\n                var val = parseFloat(value);\\n                if (!isNaN(val)) {\\n                    valueAccessor()(val);\\n                }\\n            });\\n            valueAccessor().subscribe(function(value) {\\n                var str = JSON.stringify(value);\\n                if ((str == \\\"0\\\") && ([\\\"-0\\\", \\\"-0.\\\"].indexOf(stringified()) >= 0))\\n                     return;\\n                 if ([\\\"null\\\", \\\"\\\"].indexOf(str) >= 0)\\n                     return;\\n                stringified(str);\\n            });\\n            ko.applyBindingsToNode(\\n                element,\\n                {\\n                    value: stringified,\\n                    valueUpdate: allBindings.get('valueUpdate'),\\n                },\\n                context,\\n            );\\n        }\\n    };\\n    var json_data = {\\\"formatted_vals\\\":[\\\"3\\\",\\\"4\\\",\\\"5\\\",\\\"6\\\",\\\"7\\\",\\\"8\\\",\\\"9\\\",\\\"10\\\",\\\"11\\\",\\\"12\\\"],\\\"changes\\\":WebIO.getval({\\\"name\\\":\\\"changes\\\",\\\"scope\\\":\\\"7679185286463062680\\\",\\\"id\\\":\\\"ob_99\\\",\\\"type\\\":\\\"observable\\\"}),\\\"index\\\":WebIO.getval({\\\"name\\\":\\\"index\\\",\\\"scope\\\":\\\"7679185286463062680\\\",\\\"id\\\":\\\"ob_98\\\",\\\"type\\\":\\\"observable\\\"})};\\n    var self = this;\\n    function AppViewModel() {\\n        for (var key in json_data) {\\n            var el = json_data[key];\\n            this[key] = Array.isArray(el) ? ko.observableArray(el) : ko.observable(el);\\n        }\\n        \\n        [this[\\\"formatted_val\\\"]=ko.computed(    function(){\\n        return this.formatted_vals()[parseInt(this.index())-(3)];\\n    }\\n,this)]\\n        [this[\\\"changes\\\"].subscribe((function (val){!(this.valueFromJulia[\\\"changes\\\"]) ? (WebIO.setval({\\\"name\\\":\\\"changes\\\",\\\"scope\\\":\\\"7679185286463062680\\\",\\\"id\\\":\\\"ob_99\\\",\\\"type\\\":\\\"observable\\\"},val)) : undefined; return this.valueFromJulia[\\\"changes\\\"]=false}),self),this[\\\"index\\\"].subscribe((function (val){!(this.valueFromJulia[\\\"index\\\"]) ? (WebIO.setval({\\\"name\\\":\\\"index\\\",\\\"scope\\\":\\\"7679185286463062680\\\",\\\"id\\\":\\\"ob_98\\\",\\\"type\\\":\\\"observable\\\"},val)) : undefined; return this.valueFromJulia[\\\"index\\\"]=false}),self)]\\n        \\n    }\\n    self.model = new AppViewModel();\\n    self.valueFromJulia = {};\\n    for (var key in json_data) {\\n        self.valueFromJulia[key] = false;\\n    }\\n    ko.applyBindings(self.model, self.dom);\\n}\\n);\\n    (WebIO.importBlock({\\\"data\\\":[{\\\"name\\\":\\\"knockout\\\",\\\"type\\\":\\\"js\\\",\\\"url\\\":\\\"/assetserver/3fc97d1c25c9104a4a5647f5aea1a721e64c8883-knockout.js\\\"},{\\\"name\\\":\\\"knockout_punches\\\",\\\"type\\\":\\\"js\\\",\\\"url\\\":\\\"/assetserver/587a9473f269d7e919db064a73c27fddff873451-knockout_punches.js\\\"}],\\\"type\\\":\\\"async_block\\\"})).then((imports) => handler.apply(this, imports));\\n}\\n\")])], Dict{Symbol,Any}(:className => \"field interact-widget\")), WebIO.Node{WebIO.DOM}(WebIO.DOM(:html, :div), Any[WebIO.Scope(WebIO.Node{WebIO.DOM}(WebIO.DOM(:html, :div), Any[WebIO.Node{WebIO.DOM}(WebIO.DOM(:html, :div), Any[WebIO.Node{WebIO.DOM}(WebIO.DOM(:html, :label), Any[\"sidelength\"], Dict{Symbol,Any}(:className => \"interact \",:style => Dict{Any,Any}(:padding => \"5px 10px 0px 10px\")))], Dict{Symbol,Any}(:className => \"interact-flex-row-left\")), WebIO.Node{WebIO.DOM}(WebIO.DOM(:html, :div), Any[WebIO.Node{WebIO.DOM}(WebIO.DOM(:html, :input), Any[], Dict{Symbol,Any}(:max => 80,:min => 40,:attributes => Dict{Any,Any}(:type => \"range\",Symbol(\"data-bind\") => \"numericValue: index, valueUpdate: 'input', event: {change: function (){this.changes(this.changes()+1)}}\",\"orient\" => \"horizontal\"),:step => 1,:className => \"slider slider is-fullwidth\",:style => Dict{Any,Any}()))], Dict{Symbol,Any}(:className => \"interact-flex-row-center\")), WebIO.Node{WebIO.DOM}(WebIO.DOM(:html, :div), Any[WebIO.Node{WebIO.DOM}(WebIO.DOM(:html, :p), Any[], Dict{Symbol,Any}(:attributes => Dict(\"data-bind\" => \"text: formatted_val\")))], Dict{Symbol,Any}(:className => \"interact-flex-row-right\"))], Dict{Symbol,Any}(:className => \"interact-flex-row interact-widget\")), Dict{String,Tuple{Observables.AbstractObservable,Union{Nothing, Bool}}}(\"changes\" => (Observable{Int64} with 1 listeners. Value:\n0, nothing),\"index\" => (Observable{Int64} with 2 listeners. Value:\n60, nothing)), Set(String[]), nothing, WebIO.Asset[WebIO.Asset(\"js\", \"knockout\", \"/Users/pete/.julia/packages/Knockout/IP1uR/src/../assets/knockout.js\"), WebIO.Asset(\"js\", \"knockout_punches\", \"/Users/pete/.julia/packages/Knockout/IP1uR/src/../assets/knockout_punches.js\"), WebIO.Asset(\"js\", nothing, \"/Users/pete/.julia/packages/InteractBase/9mFwe/src/../assets/all.js\"), WebIO.Asset(\"css\", nothing, \"/Users/pete/.julia/packages/InteractBase/9mFwe/src/../assets/style.css\"), WebIO.Asset(\"css\", nothing, \"/Users/pete/.julia/packages/Interact/SbgIk/src/../assets/bulma.min.css\")], Dict{Any,Any}(\"changes\" => Any[WebIO.JSString(\"(function (val){return (val!=this.model[\\\"changes\\\"]()) ? (this.valueFromJulia[\\\"changes\\\"]=true, this.model[\\\"changes\\\"](val)) : undefined})\")],\"index\" => Any[WebIO.JSString(\"(function (val){return (val!=this.model[\\\"index\\\"]()) ? (this.valueFromJulia[\\\"index\\\"]=true, this.model[\\\"index\\\"](val)) : undefined})\")]), WebIO.ConnectionPool(Channel{Any}(sz_max:32,sz_curr:0), Set(WebIO.AbstractConnection[]), Base.GenericCondition{Base.AlwaysLockedST}(Base.InvasiveLinkedList{Task}(Task (runnable) @0x000000011181fa90, Task (runnable) @0x000000011181fa90), Base.AlwaysLockedST(1))), WebIO.JSString[WebIO.JSString(\"function () {\\n    var handler = (function (ko, koPunches) {\\n    ko.punches.enableAll();\\n    ko.bindingHandlers.numericValue = {\\n        init: function(element, valueAccessor, allBindings, data, context) {\\n            var stringified = ko.observable(ko.unwrap(valueAccessor()));\\n            stringified.subscribe(function(value) {\\n                var val = parseFloat(value);\\n                if (!isNaN(val)) {\\n                    valueAccessor()(val);\\n                }\\n            });\\n            valueAccessor().subscribe(function(value) {\\n                var str = JSON.stringify(value);\\n                if ((str == \\\"0\\\") && ([\\\"-0\\\", \\\"-0.\\\"].indexOf(stringified()) >= 0))\\n                     return;\\n                 if ([\\\"null\\\", \\\"\\\"].indexOf(str) >= 0)\\n                     return;\\n                stringified(str);\\n            });\\n            ko.applyBindingsToNode(\\n                element,\\n                {\\n                    value: stringified,\\n                    valueUpdate: allBindings.get('valueUpdate'),\\n                },\\n                context,\\n            );\\n        }\\n    };\\n    var json_data = {\\\"formatted_vals\\\":[\\\"40\\\",\\\"41\\\",\\\"42\\\",\\\"43\\\",\\\"44\\\",\\\"45\\\",\\\"46\\\",\\\"47\\\",\\\"48\\\",\\\"49\\\",\\\"50\\\",\\\"51\\\",\\\"52\\\",\\\"53\\\",\\\"54\\\",\\\"55\\\",\\\"56\\\",\\\"57\\\",\\\"58\\\",\\\"59\\\",\\\"60\\\",\\\"61\\\",\\\"62\\\",\\\"63\\\",\\\"64\\\",\\\"65\\\",\\\"66\\\",\\\"67\\\",\\\"68\\\",\\\"69\\\",\\\"70\\\",\\\"71\\\",\\\"72\\\",\\\"73\\\",\\\"74\\\",\\\"75\\\",\\\"76\\\",\\\"77\\\",\\\"78\\\",\\\"79\\\",\\\"80\\\"],\\\"changes\\\":WebIO.getval({\\\"name\\\":\\\"changes\\\",\\\"scope\\\":\\\"11394895735162019498\\\",\\\"id\\\":\\\"ob_101\\\",\\\"type\\\":\\\"observable\\\"}),\\\"index\\\":WebIO.getval({\\\"name\\\":\\\"index\\\",\\\"scope\\\":\\\"11394895735162019498\\\",\\\"id\\\":\\\"ob_100\\\",\\\"type\\\":\\\"observable\\\"})};\\n    var self = this;\\n    function AppViewModel() {\\n        for (var key in json_data) {\\n            var el = json_data[key];\\n            this[key] = Array.isArray(el) ? ko.observableArray(el) : ko.observable(el);\\n        }\\n        \\n        [this[\\\"formatted_val\\\"]=ko.computed(    function(){\\n        return this.formatted_vals()[parseInt(this.index())-(40)];\\n    }\\n,this)]\\n        [this[\\\"changes\\\"].subscribe((function (val){!(this.valueFromJulia[\\\"changes\\\"]) ? (WebIO.setval({\\\"name\\\":\\\"changes\\\",\\\"scope\\\":\\\"11394895735162019498\\\",\\\"id\\\":\\\"ob_101\\\",\\\"type\\\":\\\"observable\\\"},val)) : undefined; return this.valueFromJulia[\\\"changes\\\"]=false}),self),this[\\\"index\\\"].subscribe((function (val){!(this.valueFromJulia[\\\"index\\\"]) ? (WebIO.setval({\\\"name\\\":\\\"index\\\",\\\"scope\\\":\\\"11394895735162019498\\\",\\\"id\\\":\\\"ob_100\\\",\\\"type\\\":\\\"observable\\\"},val)) : undefined; return this.valueFromJulia[\\\"index\\\"]=false}),self)]\\n        \\n    }\\n    self.model = new AppViewModel();\\n    self.valueFromJulia = {};\\n    for (var key in json_data) {\\n        self.valueFromJulia[key] = false;\\n    }\\n    ko.applyBindings(self.model, self.dom);\\n}\\n);\\n    (WebIO.importBlock({\\\"data\\\":[{\\\"name\\\":\\\"knockout\\\",\\\"type\\\":\\\"js\\\",\\\"url\\\":\\\"/assetserver/3fc97d1c25c9104a4a5647f5aea1a721e64c8883-knockout.js\\\"},{\\\"name\\\":\\\"knockout_punches\\\",\\\"type\\\":\\\"js\\\",\\\"url\\\":\\\"/assetserver/587a9473f269d7e919db064a73c27fddff873451-knockout_punches.js\\\"}],\\\"type\\\":\\\"async_block\\\"})).then((imports) => handler.apply(this, imports));\\n}\\n\")])], Dict{Symbol,Any}(:className => \"field interact-widget\")), Observable{Any} with 0 listeners. Value:\nWebIO.Node{WebIO.DOM}(WebIO.DOM(:html, :div), Any[width:    500.0\nheight:   500.0\nfilename: \ntype:     svg\n    ], Dict{Symbol,Any}(:className => \"interact-flex-row interact-widget\"))], Dict{Symbol,Any}())",
      "text/html": [
       "<div\n",
       "    class=\"webio-mountpoint\"\n",
       "    data-webio-mountpoint=\"8205711828852125128\"\n",
       ">\n",
       "    <script>\n",
       "    if (window.require && require.defined && require.defined(\"nbextensions/webio-jupyter-notebook\")) {\n",
       "        console.log(\"Jupyter WebIO extension detected, not mounting.\");\n",
       "    } else if (window.WebIO) {\n",
       "        WebIO.mount(\n",
       "            document.querySelector('[data-webio-mountpoint=\"8205711828852125128\"]'),\n",
       "            {\"props\":{},\"nodeType\":\"DOM\",\"type\":\"node\",\"instanceArgs\":{\"namespace\":\"html\",\"tag\":\"div\"},\"children\":[{\"props\":{\"className\":\"field interact-widget\"},\"nodeType\":\"DOM\",\"type\":\"node\",\"instanceArgs\":{\"namespace\":\"html\",\"tag\":\"div\"},\"children\":[{\"props\":{},\"nodeType\":\"Scope\",\"type\":\"node\",\"instanceArgs\":{\"imports\":{\"data\":[{\"name\":\"knockout\",\"type\":\"js\",\"url\":\"\\/assetserver\\/3fc97d1c25c9104a4a5647f5aea1a721e64c8883-knockout.js\"},{\"name\":\"knockout_punches\",\"type\":\"js\",\"url\":\"\\/assetserver\\/587a9473f269d7e919db064a73c27fddff873451-knockout_punches.js\"},{\"name\":null,\"type\":\"js\",\"url\":\"\\/assetserver\\/63748a3b171b1d0979570771b39ce060b62aeca1-all.js\"},{\"name\":null,\"type\":\"css\",\"url\":\"\\/assetserver\\/d1dc184d6b73cad2def7fedecde33bcd802f554b-style.css\"},{\"name\":null,\"type\":\"css\",\"url\":\"\\/assetserver\\/0273ac4a90794099d0eb069a1f8ace956785236b-bulma.min.css\"}],\"type\":\"async_block\"},\"id\":\"7679185286463062680\",\"handlers\":{\"changes\":[\"(function (val){return (val!=this.model[\\\"changes\\\"]()) ? (this.valueFromJulia[\\\"changes\\\"]=true, this.model[\\\"changes\\\"](val)) : undefined})\"],\"index\":[\"(function (val){return (val!=this.model[\\\"index\\\"]()) ? (this.valueFromJulia[\\\"index\\\"]=true, this.model[\\\"index\\\"](val)) : undefined})\"]},\"systemjs_options\":null,\"mount_callbacks\":[\"function () {\\n    var handler = (function (ko, koPunches) {\\n    ko.punches.enableAll();\\n    ko.bindingHandlers.numericValue = {\\n        init: function(element, valueAccessor, allBindings, data, context) {\\n            var stringified = ko.observable(ko.unwrap(valueAccessor()));\\n            stringified.subscribe(function(value) {\\n                var val = parseFloat(value);\\n                if (!isNaN(val)) {\\n                    valueAccessor()(val);\\n                }\\n            });\\n            valueAccessor().subscribe(function(value) {\\n                var str = JSON.stringify(value);\\n                if ((str == \\\"0\\\") && ([\\\"-0\\\", \\\"-0.\\\"].indexOf(stringified()) >= 0))\\n                     return;\\n                 if ([\\\"null\\\", \\\"\\\"].indexOf(str) >= 0)\\n                     return;\\n                stringified(str);\\n            });\\n            ko.applyBindingsToNode(\\n                element,\\n                {\\n                    value: stringified,\\n                    valueUpdate: allBindings.get('valueUpdate'),\\n                },\\n                context,\\n            );\\n        }\\n    };\\n    var json_data = {\\\"formatted_vals\\\":[\\\"3\\\",\\\"4\\\",\\\"5\\\",\\\"6\\\",\\\"7\\\",\\\"8\\\",\\\"9\\\",\\\"10\\\",\\\"11\\\",\\\"12\\\"],\\\"changes\\\":WebIO.getval({\\\"name\\\":\\\"changes\\\",\\\"scope\\\":\\\"7679185286463062680\\\",\\\"id\\\":\\\"ob_99\\\",\\\"type\\\":\\\"observable\\\"}),\\\"index\\\":WebIO.getval({\\\"name\\\":\\\"index\\\",\\\"scope\\\":\\\"7679185286463062680\\\",\\\"id\\\":\\\"ob_98\\\",\\\"type\\\":\\\"observable\\\"})};\\n    var self = this;\\n    function AppViewModel() {\\n        for (var key in json_data) {\\n            var el = json_data[key];\\n            this[key] = Array.isArray(el) ? ko.observableArray(el) : ko.observable(el);\\n        }\\n        \\n        [this[\\\"formatted_val\\\"]=ko.computed(    function(){\\n        return this.formatted_vals()[parseInt(this.index())-(3)];\\n    }\\n,this)]\\n        [this[\\\"changes\\\"].subscribe((function (val){!(this.valueFromJulia[\\\"changes\\\"]) ? (WebIO.setval({\\\"name\\\":\\\"changes\\\",\\\"scope\\\":\\\"7679185286463062680\\\",\\\"id\\\":\\\"ob_99\\\",\\\"type\\\":\\\"observable\\\"},val)) : undefined; return this.valueFromJulia[\\\"changes\\\"]=false}),self),this[\\\"index\\\"].subscribe((function (val){!(this.valueFromJulia[\\\"index\\\"]) ? (WebIO.setval({\\\"name\\\":\\\"index\\\",\\\"scope\\\":\\\"7679185286463062680\\\",\\\"id\\\":\\\"ob_98\\\",\\\"type\\\":\\\"observable\\\"},val)) : undefined; return this.valueFromJulia[\\\"index\\\"]=false}),self)]\\n        \\n    }\\n    self.model = new AppViewModel();\\n    self.valueFromJulia = {};\\n    for (var key in json_data) {\\n        self.valueFromJulia[key] = false;\\n    }\\n    ko.applyBindings(self.model, self.dom);\\n}\\n);\\n    (WebIO.importBlock({\\\"data\\\":[{\\\"name\\\":\\\"knockout\\\",\\\"type\\\":\\\"js\\\",\\\"url\\\":\\\"\\/assetserver\\/3fc97d1c25c9104a4a5647f5aea1a721e64c8883-knockout.js\\\"},{\\\"name\\\":\\\"knockout_punches\\\",\\\"type\\\":\\\"js\\\",\\\"url\\\":\\\"\\/assetserver\\/587a9473f269d7e919db064a73c27fddff873451-knockout_punches.js\\\"}],\\\"type\\\":\\\"async_block\\\"})).then((imports) => handler.apply(this, imports));\\n}\\n\"],\"observables\":{\"changes\":{\"sync\":false,\"id\":\"ob_99\",\"value\":0},\"index\":{\"sync\":true,\"id\":\"ob_98\",\"value\":7}}},\"children\":[{\"props\":{\"className\":\"interact-flex-row interact-widget\"},\"nodeType\":\"DOM\",\"type\":\"node\",\"instanceArgs\":{\"namespace\":\"html\",\"tag\":\"div\"},\"children\":[{\"props\":{\"className\":\"interact-flex-row-left\"},\"nodeType\":\"DOM\",\"type\":\"node\",\"instanceArgs\":{\"namespace\":\"html\",\"tag\":\"div\"},\"children\":[{\"props\":{\"className\":\"interact \",\"style\":{\"padding\":\"5px 10px 0px 10px\"}},\"nodeType\":\"DOM\",\"type\":\"node\",\"instanceArgs\":{\"namespace\":\"html\",\"tag\":\"label\"},\"children\":[\"nsides\"]}]},{\"props\":{\"className\":\"interact-flex-row-center\"},\"nodeType\":\"DOM\",\"type\":\"node\",\"instanceArgs\":{\"namespace\":\"html\",\"tag\":\"div\"},\"children\":[{\"props\":{\"max\":12,\"min\":3,\"attributes\":{\"type\":\"range\",\"data-bind\":\"numericValue: index, valueUpdate: 'input', event: {change: function (){this.changes(this.changes()+1)}}\",\"orient\":\"horizontal\"},\"step\":1,\"className\":\"slider slider is-fullwidth\",\"style\":{}},\"nodeType\":\"DOM\",\"type\":\"node\",\"instanceArgs\":{\"namespace\":\"html\",\"tag\":\"input\"},\"children\":[]}]},{\"props\":{\"className\":\"interact-flex-row-right\"},\"nodeType\":\"DOM\",\"type\":\"node\",\"instanceArgs\":{\"namespace\":\"html\",\"tag\":\"div\"},\"children\":[{\"props\":{\"attributes\":{\"data-bind\":\"text: formatted_val\"}},\"nodeType\":\"DOM\",\"type\":\"node\",\"instanceArgs\":{\"namespace\":\"html\",\"tag\":\"p\"},\"children\":[]}]}]}]}]},{\"props\":{\"className\":\"field interact-widget\"},\"nodeType\":\"DOM\",\"type\":\"node\",\"instanceArgs\":{\"namespace\":\"html\",\"tag\":\"div\"},\"children\":[{\"props\":{},\"nodeType\":\"Scope\",\"type\":\"node\",\"instanceArgs\":{\"imports\":{\"data\":[{\"name\":\"knockout\",\"type\":\"js\",\"url\":\"\\/assetserver\\/3fc97d1c25c9104a4a5647f5aea1a721e64c8883-knockout.js\"},{\"name\":\"knockout_punches\",\"type\":\"js\",\"url\":\"\\/assetserver\\/587a9473f269d7e919db064a73c27fddff873451-knockout_punches.js\"},{\"name\":null,\"type\":\"js\",\"url\":\"\\/assetserver\\/63748a3b171b1d0979570771b39ce060b62aeca1-all.js\"},{\"name\":null,\"type\":\"css\",\"url\":\"\\/assetserver\\/d1dc184d6b73cad2def7fedecde33bcd802f554b-style.css\"},{\"name\":null,\"type\":\"css\",\"url\":\"\\/assetserver\\/0273ac4a90794099d0eb069a1f8ace956785236b-bulma.min.css\"}],\"type\":\"async_block\"},\"id\":\"11394895735162019498\",\"handlers\":{\"changes\":[\"(function (val){return (val!=this.model[\\\"changes\\\"]()) ? (this.valueFromJulia[\\\"changes\\\"]=true, this.model[\\\"changes\\\"](val)) : undefined})\"],\"index\":[\"(function (val){return (val!=this.model[\\\"index\\\"]()) ? (this.valueFromJulia[\\\"index\\\"]=true, this.model[\\\"index\\\"](val)) : undefined})\"]},\"systemjs_options\":null,\"mount_callbacks\":[\"function () {\\n    var handler = (function (ko, koPunches) {\\n    ko.punches.enableAll();\\n    ko.bindingHandlers.numericValue = {\\n        init: function(element, valueAccessor, allBindings, data, context) {\\n            var stringified = ko.observable(ko.unwrap(valueAccessor()));\\n            stringified.subscribe(function(value) {\\n                var val = parseFloat(value);\\n                if (!isNaN(val)) {\\n                    valueAccessor()(val);\\n                }\\n            });\\n            valueAccessor().subscribe(function(value) {\\n                var str = JSON.stringify(value);\\n                if ((str == \\\"0\\\") && ([\\\"-0\\\", \\\"-0.\\\"].indexOf(stringified()) >= 0))\\n                     return;\\n                 if ([\\\"null\\\", \\\"\\\"].indexOf(str) >= 0)\\n                     return;\\n                stringified(str);\\n            });\\n            ko.applyBindingsToNode(\\n                element,\\n                {\\n                    value: stringified,\\n                    valueUpdate: allBindings.get('valueUpdate'),\\n                },\\n                context,\\n            );\\n        }\\n    };\\n    var json_data = {\\\"formatted_vals\\\":[\\\"40\\\",\\\"41\\\",\\\"42\\\",\\\"43\\\",\\\"44\\\",\\\"45\\\",\\\"46\\\",\\\"47\\\",\\\"48\\\",\\\"49\\\",\\\"50\\\",\\\"51\\\",\\\"52\\\",\\\"53\\\",\\\"54\\\",\\\"55\\\",\\\"56\\\",\\\"57\\\",\\\"58\\\",\\\"59\\\",\\\"60\\\",\\\"61\\\",\\\"62\\\",\\\"63\\\",\\\"64\\\",\\\"65\\\",\\\"66\\\",\\\"67\\\",\\\"68\\\",\\\"69\\\",\\\"70\\\",\\\"71\\\",\\\"72\\\",\\\"73\\\",\\\"74\\\",\\\"75\\\",\\\"76\\\",\\\"77\\\",\\\"78\\\",\\\"79\\\",\\\"80\\\"],\\\"changes\\\":WebIO.getval({\\\"name\\\":\\\"changes\\\",\\\"scope\\\":\\\"11394895735162019498\\\",\\\"id\\\":\\\"ob_101\\\",\\\"type\\\":\\\"observable\\\"}),\\\"index\\\":WebIO.getval({\\\"name\\\":\\\"index\\\",\\\"scope\\\":\\\"11394895735162019498\\\",\\\"id\\\":\\\"ob_100\\\",\\\"type\\\":\\\"observable\\\"})};\\n    var self = this;\\n    function AppViewModel() {\\n        for (var key in json_data) {\\n            var el = json_data[key];\\n            this[key] = Array.isArray(el) ? ko.observableArray(el) : ko.observable(el);\\n        }\\n        \\n        [this[\\\"formatted_val\\\"]=ko.computed(    function(){\\n        return this.formatted_vals()[parseInt(this.index())-(40)];\\n    }\\n,this)]\\n        [this[\\\"changes\\\"].subscribe((function (val){!(this.valueFromJulia[\\\"changes\\\"]) ? (WebIO.setval({\\\"name\\\":\\\"changes\\\",\\\"scope\\\":\\\"11394895735162019498\\\",\\\"id\\\":\\\"ob_101\\\",\\\"type\\\":\\\"observable\\\"},val)) : undefined; return this.valueFromJulia[\\\"changes\\\"]=false}),self),this[\\\"index\\\"].subscribe((function (val){!(this.valueFromJulia[\\\"index\\\"]) ? (WebIO.setval({\\\"name\\\":\\\"index\\\",\\\"scope\\\":\\\"11394895735162019498\\\",\\\"id\\\":\\\"ob_100\\\",\\\"type\\\":\\\"observable\\\"},val)) : undefined; return this.valueFromJulia[\\\"index\\\"]=false}),self)]\\n        \\n    }\\n    self.model = new AppViewModel();\\n    self.valueFromJulia = {};\\n    for (var key in json_data) {\\n        self.valueFromJulia[key] = false;\\n    }\\n    ko.applyBindings(self.model, self.dom);\\n}\\n);\\n    (WebIO.importBlock({\\\"data\\\":[{\\\"name\\\":\\\"knockout\\\",\\\"type\\\":\\\"js\\\",\\\"url\\\":\\\"\\/assetserver\\/3fc97d1c25c9104a4a5647f5aea1a721e64c8883-knockout.js\\\"},{\\\"name\\\":\\\"knockout_punches\\\",\\\"type\\\":\\\"js\\\",\\\"url\\\":\\\"\\/assetserver\\/587a9473f269d7e919db064a73c27fddff873451-knockout_punches.js\\\"}],\\\"type\\\":\\\"async_block\\\"})).then((imports) => handler.apply(this, imports));\\n}\\n\"],\"observables\":{\"changes\":{\"sync\":false,\"id\":\"ob_101\",\"value\":0},\"index\":{\"sync\":true,\"id\":\"ob_100\",\"value\":60}}},\"children\":[{\"props\":{\"className\":\"interact-flex-row interact-widget\"},\"nodeType\":\"DOM\",\"type\":\"node\",\"instanceArgs\":{\"namespace\":\"html\",\"tag\":\"div\"},\"children\":[{\"props\":{\"className\":\"interact-flex-row-left\"},\"nodeType\":\"DOM\",\"type\":\"node\",\"instanceArgs\":{\"namespace\":\"html\",\"tag\":\"div\"},\"children\":[{\"props\":{\"className\":\"interact \",\"style\":{\"padding\":\"5px 10px 0px 10px\"}},\"nodeType\":\"DOM\",\"type\":\"node\",\"instanceArgs\":{\"namespace\":\"html\",\"tag\":\"label\"},\"children\":[\"sidelength\"]}]},{\"props\":{\"className\":\"interact-flex-row-center\"},\"nodeType\":\"DOM\",\"type\":\"node\",\"instanceArgs\":{\"namespace\":\"html\",\"tag\":\"div\"},\"children\":[{\"props\":{\"max\":80,\"min\":40,\"attributes\":{\"type\":\"range\",\"data-bind\":\"numericValue: index, valueUpdate: 'input', event: {change: function (){this.changes(this.changes()+1)}}\",\"orient\":\"horizontal\"},\"step\":1,\"className\":\"slider slider is-fullwidth\",\"style\":{}},\"nodeType\":\"DOM\",\"type\":\"node\",\"instanceArgs\":{\"namespace\":\"html\",\"tag\":\"input\"},\"children\":[]}]},{\"props\":{\"className\":\"interact-flex-row-right\"},\"nodeType\":\"DOM\",\"type\":\"node\",\"instanceArgs\":{\"namespace\":\"html\",\"tag\":\"div\"},\"children\":[{\"props\":{\"attributes\":{\"data-bind\":\"text: formatted_val\"}},\"nodeType\":\"DOM\",\"type\":\"node\",\"instanceArgs\":{\"namespace\":\"html\",\"tag\":\"p\"},\"children\":[]}]}]}]}]},{\"props\":{},\"nodeType\":\"Scope\",\"type\":\"node\",\"instanceArgs\":{\"imports\":{\"data\":[],\"type\":\"async_block\"},\"id\":\"15947278282280754395\",\"handlers\":{},\"systemjs_options\":null,\"mount_callbacks\":[],\"observables\":{\"obs-node\":{\"sync\":false,\"id\":\"ob_105\",\"value\":{\"props\":{\"className\":\"interact-flex-row interact-widget\"},\"nodeType\":\"DOM\",\"type\":\"node\",\"instanceArgs\":{\"namespace\":\"html\",\"tag\":\"div\"},\"children\":[{\"props\":{\"setInnerHtml\":\"<?xml version=\\\"1.0\\\" encoding=\\\"UTF-8\\\"?>\\n<svg xmlns=\\\"http:\\/\\/www.w3.org\\/2000\\/svg\\\" xmlns:xlink=\\\"http:\\/\\/www.w3.org\\/1999\\/xlink\\\" width=\\\"500pt\\\" height=\\\"500pt\\\" viewBox=\\\"0 0 500 500\\\" version=\\\"1.1\\\">\\n<g id=\\\"surface342\\\">\\n<path style=\\\"fill-rule:nonzero;fill:rgb(24.037514%,67.17581%,15.024649%);fill-opacity:0.6;stroke-width:2;stroke-linecap:butt;stroke-linejoin:miter;stroke:rgb(0%,0%,0%);stroke-opacity:0.6;stroke-miterlimit:10;\\\" d=\\\"M 330.519531 350.96875 L 279.757812 362.554688 L 239.050781 330.089844 L 239.050781 278.023438 L 279.757812 245.5625 L 330.519531 257.148438 L 353.109375 304.058594 Z M 330.519531 350.96875 \\\"\\/>\\n<path style=\\\"fill-rule:nonzero;fill:rgb(69.26417%,59.593326%,2.917452%);fill-opacity:0.6;stroke-width:2;stroke-linecap:butt;stroke-linejoin:miter;stroke:rgb(0%,0%,0%);stroke-opacity:0.6;stroke-miterlimit:10;\\\" d=\\\"M 272.023438 364.320312 L 221.261719 375.90625 L 180.554688 343.441406 L 180.554688 291.375 L 221.261719 258.914062 L 272.023438 270.5 L 294.613281 317.410156 Z M 272.023438 364.320312 \\\"\\/>\\n<path style=\\\"fill-rule:nonzero;fill:rgb(13.570089%,7.332745%,84.934354%);fill-opacity:0.6;stroke-width:2;stroke-linecap:butt;stroke-linejoin:miter;stroke:rgb(0%,0%,0%);stroke-opacity:0.6;stroke-miterlimit:10;\\\" d=\\\"M 225.113281 326.910156 L 174.351562 338.496094 L 133.644531 306.03125 L 133.644531 253.96875 L 174.351562 221.503906 L 225.113281 233.089844 L 247.703125 280 Z M 225.113281 326.910156 \\\"\\/>\\n<path style=\\\"fill-rule:nonzero;fill:rgb(46.944876%,91.22137%,35.971834%);fill-opacity:0.6;stroke-width:2;stroke-linecap:butt;stroke-linejoin:miter;stroke:rgb(0%,0%,0%);stroke-opacity:0.6;stroke-miterlimit:10;\\\" d=\\\"M 225.113281 266.910156 L 174.351562 278.496094 L 133.644531 246.03125 L 133.644531 193.96875 L 174.351562 161.503906 L 225.113281 173.089844 L 247.703125 220 Z M 225.113281 266.910156 \\\"\\/>\\n<path style=\\\"fill-rule:nonzero;fill:rgb(38.640967%,67.032652%,0.529127%);fill-opacity:0.6;stroke-width:2;stroke-linecap:butt;stroke-linejoin:miter;stroke:rgb(0%,0%,0%);stroke-opacity:0.6;stroke-miterlimit:10;\\\" d=\\\"M 272.023438 229.5 L 221.261719 241.085938 L 180.554688 208.625 L 180.554688 156.558594 L 221.261719 124.09375 L 272.023438 135.679688 L 294.613281 182.589844 Z M 272.023438 229.5 \\\"\\/>\\n<path style=\\\"fill-rule:nonzero;fill:rgb(93.7142%,29.856394%,75.393617%);fill-opacity:0.6;stroke-width:2;stroke-linecap:butt;stroke-linejoin:miter;stroke:rgb(0%,0%,0%);stroke-opacity:0.6;stroke-miterlimit:10;\\\" d=\\\"M 330.519531 242.851562 L 279.757812 254.4375 L 239.050781 221.976562 L 239.050781 169.910156 L 279.757812 137.445312 L 330.519531 149.03125 L 353.109375 195.941406 Z M 330.519531 242.851562 \\\"\\/>\\n<path style=\\\"fill-rule:nonzero;fill:rgb(81.795648%,36.088153%,18.079427%);fill-opacity:0.6;stroke-width:2;stroke-linecap:butt;stroke-linejoin:miter;stroke:rgb(0%,0%,0%);stroke-opacity:0.6;stroke-miterlimit:10;\\\" d=\\\"M 356.550781 296.910156 L 305.792969 308.496094 L 265.085938 276.03125 L 265.085938 223.96875 L 305.792969 191.503906 L 356.550781 203.089844 L 379.144531 250 Z M 356.550781 296.910156 \\\"\\/>\\n<\\/g>\\n<\\/svg>\\n\"},\"nodeType\":\"DOM\",\"type\":\"node\",\"instanceArgs\":{\"namespace\":\"html\",\"tag\":\"div\"},\"children\":[]}]}}}},\"children\":[{\"props\":{},\"nodeType\":\"ObservableNode\",\"type\":\"node\",\"instanceArgs\":{\"id\":\"ob_105\",\"name\":\"obs-node\"},\"children\":[]}]}]},\n",
       "            window,\n",
       "        );\n",
       "    } else {\n",
       "        document\n",
       "            .querySelector('[data-webio-mountpoint=\"8205711828852125128\"]')\n",
       "            .innerHTML = (\n",
       "                '<div style=\"padding: 1em; background-color: #f8d6da; border: 1px solid #f5c6cb\">' +\n",
       "                '<p><strong>WebIO not detected.</strong></p>' +\n",
       "                '<p>Please read ' +\n",
       "                '<a href=\"https://juliagizmos.github.io/WebIO.jl/latest/troubleshooting/not-detected/\" target=\"_blank\">the troubleshooting guide</a> ' +\n",
       "                'for more information on how to resolve this issue.</p>' +\n",
       "                '<p><a href=\"https://juliagizmos.github.io/WebIO.jl/latest/troubleshooting/not-detected/\" target=\"_blank\">https://juliagizmos.github.io/WebIO.jl/latest/troubleshooting/not-detected/</a></p>' +\n",
       "                '</div>'\n",
       "            );\n",
       "    }\n",
       "    </script>\n",
       "</div>\n"
      ]
     },
     "metadata": {},
     "execution_count": 12
    }
   ],
   "cell_type": "code",
   "source": [
    "@manipulate for nsides in 3:12, sidelength in 40:80\n",
    "    d = Drawing(500, 500, :svg)\n",
    "    origin()\n",
    "    setopacity(0.6)\n",
    "    sethue(\"black\")\n",
    "    pgon = ngonside(Point(0, 0), sidelength, nsides, 0, vertices=true)\n",
    "    prettypoly(pgon, :none, close=true, () ->\n",
    "        begin\n",
    "            randomhue()\n",
    "            ngon(O, sidelength, nsides, 0, :fillpreserve)\n",
    "            sethue(\"black\")\n",
    "            strokepath()\n",
    "        end)\n",
    "    finish()\n",
    "    d\n",
    "end"
   ],
   "metadata": {},
   "execution_count": 12
  },
  {
   "cell_type": "markdown",
   "source": [
    "The letter `O` is a short-cut for `Point(0, 0)`. The anonymous function runs after the x and y axes have been moved to the position of the vertex, and therefore all graphics are applied relative to the vertex position."
   ],
   "metadata": {}
  },
  {
   "cell_type": "markdown",
   "source": [
    "## Specifying locations"
   ],
   "metadata": {}
  },
  {
   "cell_type": "markdown",
   "source": [
    "It's useful to be able to refer to specific points on a drawing. To help you do this, there are functions such as `midpoint()` and `between()`, among many others. There are also functions for working with *bounding boxes*, which rectangular areas defined by two opposite corners."
   ],
   "metadata": {}
  },
  {
   "cell_type": "markdown",
   "source": [
    "`BoundingBox()` is a constructor which returns the rectangular extent of various things, such as, in this case, the entire drawing. Multiplying by `k` reduces its size."
   ],
   "metadata": {}
  },
  {
   "cell_type": "markdown",
   "source": [
    "The `between()` function takes two points and a number between 0.0 and 1.0, and finds the point at that interval between them. Here, it's broadcasting over a range, finding 11 points between 0.0 and 1.0, ready for `circle()` to use."
   ],
   "metadata": {}
  },
  {
   "outputs": [
    {
     "output_type": "execute_result",
     "data": {
      "text/plain": "WebIO.Node{WebIO.DOM}(WebIO.DOM(:html, :div), Any[WebIO.Node{WebIO.DOM}(WebIO.DOM(:html, :div), Any[WebIO.Scope(WebIO.Node{WebIO.DOM}(WebIO.DOM(:html, :div), Any[WebIO.Node{WebIO.DOM}(WebIO.DOM(:html, :div), Any[WebIO.Node{WebIO.DOM}(WebIO.DOM(:html, :label), Any[\"k\"], Dict{Symbol,Any}(:className => \"interact \",:style => Dict{Any,Any}(:padding => \"5px 10px 0px 10px\")))], Dict{Symbol,Any}(:className => \"interact-flex-row-left\")), WebIO.Node{WebIO.DOM}(WebIO.DOM(:html, :div), Any[WebIO.Node{WebIO.DOM}(WebIO.DOM(:html, :input), Any[], Dict{Symbol,Any}(:max => 11,:min => 1,:attributes => Dict{Any,Any}(:type => \"range\",Symbol(\"data-bind\") => \"numericValue: index, valueUpdate: 'input', event: {change: function (){this.changes(this.changes()+1)}}\",\"orient\" => \"horizontal\"),:step => 1,:className => \"slider slider is-fullwidth\",:style => Dict{Any,Any}()))], Dict{Symbol,Any}(:className => \"interact-flex-row-center\")), WebIO.Node{WebIO.DOM}(WebIO.DOM(:html, :div), Any[WebIO.Node{WebIO.DOM}(WebIO.DOM(:html, :p), Any[], Dict{Symbol,Any}(:attributes => Dict(\"data-bind\" => \"text: formatted_val\")))], Dict{Symbol,Any}(:className => \"interact-flex-row-right\"))], Dict{Symbol,Any}(:className => \"interact-flex-row interact-widget\")), Dict{String,Tuple{Observables.AbstractObservable,Union{Nothing, Bool}}}(\"changes\" => (Observable{Int64} with 1 listeners. Value:\n0, nothing),\"index\" => (Observable{Any} with 2 listeners. Value:\n6, nothing)), Set(String[]), nothing, WebIO.Asset[WebIO.Asset(\"js\", \"knockout\", \"/Users/pete/.julia/packages/Knockout/IP1uR/src/../assets/knockout.js\"), WebIO.Asset(\"js\", \"knockout_punches\", \"/Users/pete/.julia/packages/Knockout/IP1uR/src/../assets/knockout_punches.js\"), WebIO.Asset(\"js\", nothing, \"/Users/pete/.julia/packages/InteractBase/9mFwe/src/../assets/all.js\"), WebIO.Asset(\"css\", nothing, \"/Users/pete/.julia/packages/InteractBase/9mFwe/src/../assets/style.css\"), WebIO.Asset(\"css\", nothing, \"/Users/pete/.julia/packages/Interact/SbgIk/src/../assets/bulma.min.css\")], Dict{Any,Any}(\"changes\" => Any[WebIO.JSString(\"(function (val){return (val!=this.model[\\\"changes\\\"]()) ? (this.valueFromJulia[\\\"changes\\\"]=true, this.model[\\\"changes\\\"](val)) : undefined})\")],\"index\" => Any[WebIO.JSString(\"(function (val){return (val!=this.model[\\\"index\\\"]()) ? (this.valueFromJulia[\\\"index\\\"]=true, this.model[\\\"index\\\"](val)) : undefined})\")]), WebIO.ConnectionPool(Channel{Any}(sz_max:32,sz_curr:0), Set(WebIO.AbstractConnection[]), Base.GenericCondition{Base.AlwaysLockedST}(Base.InvasiveLinkedList{Task}(Task (runnable) @0x0000000112241210, Task (runnable) @0x0000000112241210), Base.AlwaysLockedST(1))), WebIO.JSString[WebIO.JSString(\"function () {\\n    var handler = (function (ko, koPunches) {\\n    ko.punches.enableAll();\\n    ko.bindingHandlers.numericValue = {\\n        init: function(element, valueAccessor, allBindings, data, context) {\\n            var stringified = ko.observable(ko.unwrap(valueAccessor()));\\n            stringified.subscribe(function(value) {\\n                var val = parseFloat(value);\\n                if (!isNaN(val)) {\\n                    valueAccessor()(val);\\n                }\\n            });\\n            valueAccessor().subscribe(function(value) {\\n                var str = JSON.stringify(value);\\n                if ((str == \\\"0\\\") && ([\\\"-0\\\", \\\"-0.\\\"].indexOf(stringified()) >= 0))\\n                     return;\\n                 if ([\\\"null\\\", \\\"\\\"].indexOf(str) >= 0)\\n                     return;\\n                stringified(str);\\n            });\\n            ko.applyBindingsToNode(\\n                element,\\n                {\\n                    value: stringified,\\n                    valueUpdate: allBindings.get('valueUpdate'),\\n                },\\n                context,\\n            );\\n        }\\n    };\\n    var json_data = {\\\"formatted_vals\\\":[\\\"0.0\\\",\\\"0.1\\\",\\\"0.2\\\",\\\"0.3\\\",\\\"0.4\\\",\\\"0.5\\\",\\\"0.6\\\",\\\"0.7\\\",\\\"0.8\\\",\\\"0.9\\\",\\\"1.0\\\"],\\\"changes\\\":WebIO.getval({\\\"name\\\":\\\"changes\\\",\\\"scope\\\":\\\"6936434954039745065\\\",\\\"id\\\":\\\"ob_108\\\",\\\"type\\\":\\\"observable\\\"}),\\\"index\\\":WebIO.getval({\\\"name\\\":\\\"index\\\",\\\"scope\\\":\\\"6936434954039745065\\\",\\\"id\\\":\\\"ob_107\\\",\\\"type\\\":\\\"observable\\\"})};\\n    var self = this;\\n    function AppViewModel() {\\n        for (var key in json_data) {\\n            var el = json_data[key];\\n            this[key] = Array.isArray(el) ? ko.observableArray(el) : ko.observable(el);\\n        }\\n        \\n        [this[\\\"formatted_val\\\"]=ko.computed(    function(){\\n        return this.formatted_vals()[parseInt(this.index())-(1)];\\n    }\\n,this)]\\n        [this[\\\"changes\\\"].subscribe((function (val){!(this.valueFromJulia[\\\"changes\\\"]) ? (WebIO.setval({\\\"name\\\":\\\"changes\\\",\\\"scope\\\":\\\"6936434954039745065\\\",\\\"id\\\":\\\"ob_108\\\",\\\"type\\\":\\\"observable\\\"},val)) : undefined; return this.valueFromJulia[\\\"changes\\\"]=false}),self),this[\\\"index\\\"].subscribe((function (val){!(this.valueFromJulia[\\\"index\\\"]) ? (WebIO.setval({\\\"name\\\":\\\"index\\\",\\\"scope\\\":\\\"6936434954039745065\\\",\\\"id\\\":\\\"ob_107\\\",\\\"type\\\":\\\"observable\\\"},val)) : undefined; return this.valueFromJulia[\\\"index\\\"]=false}),self)]\\n        \\n    }\\n    self.model = new AppViewModel();\\n    self.valueFromJulia = {};\\n    for (var key in json_data) {\\n        self.valueFromJulia[key] = false;\\n    }\\n    ko.applyBindings(self.model, self.dom);\\n}\\n);\\n    (WebIO.importBlock({\\\"data\\\":[{\\\"name\\\":\\\"knockout\\\",\\\"type\\\":\\\"js\\\",\\\"url\\\":\\\"/assetserver/3fc97d1c25c9104a4a5647f5aea1a721e64c8883-knockout.js\\\"},{\\\"name\\\":\\\"knockout_punches\\\",\\\"type\\\":\\\"js\\\",\\\"url\\\":\\\"/assetserver/587a9473f269d7e919db064a73c27fddff873451-knockout_punches.js\\\"}],\\\"type\\\":\\\"async_block\\\"})).then((imports) => handler.apply(this, imports));\\n}\\n\")])], Dict{Symbol,Any}(:className => \"field interact-widget\")), Observable{Any} with 0 listeners. Value:\nWebIO.Node{WebIO.DOM}(WebIO.DOM(:html, :div), Any[width:    500.0\nheight:   500.0\nfilename: \ntype:     png\n    ], Dict{Symbol,Any}(:className => \"interact-flex-row interact-widget\"))], Dict{Symbol,Any}())",
      "text/html": [
       "<div\n",
       "    class=\"webio-mountpoint\"\n",
       "    data-webio-mountpoint=\"498030501850643588\"\n",
       ">\n",
       "    <script>\n",
       "    if (window.require && require.defined && require.defined(\"nbextensions/webio-jupyter-notebook\")) {\n",
       "        console.log(\"Jupyter WebIO extension detected, not mounting.\");\n",
       "    } else if (window.WebIO) {\n",
       "        WebIO.mount(\n",
       "            document.querySelector('[data-webio-mountpoint=\"498030501850643588\"]'),\n",
       "            {\"props\":{},\"nodeType\":\"DOM\",\"type\":\"node\",\"instanceArgs\":{\"namespace\":\"html\",\"tag\":\"div\"},\"children\":[{\"props\":{\"className\":\"field interact-widget\"},\"nodeType\":\"DOM\",\"type\":\"node\",\"instanceArgs\":{\"namespace\":\"html\",\"tag\":\"div\"},\"children\":[{\"props\":{},\"nodeType\":\"Scope\",\"type\":\"node\",\"instanceArgs\":{\"imports\":{\"data\":[{\"name\":\"knockout\",\"type\":\"js\",\"url\":\"\\/assetserver\\/3fc97d1c25c9104a4a5647f5aea1a721e64c8883-knockout.js\"},{\"name\":\"knockout_punches\",\"type\":\"js\",\"url\":\"\\/assetserver\\/587a9473f269d7e919db064a73c27fddff873451-knockout_punches.js\"},{\"name\":null,\"type\":\"js\",\"url\":\"\\/assetserver\\/63748a3b171b1d0979570771b39ce060b62aeca1-all.js\"},{\"name\":null,\"type\":\"css\",\"url\":\"\\/assetserver\\/d1dc184d6b73cad2def7fedecde33bcd802f554b-style.css\"},{\"name\":null,\"type\":\"css\",\"url\":\"\\/assetserver\\/0273ac4a90794099d0eb069a1f8ace956785236b-bulma.min.css\"}],\"type\":\"async_block\"},\"id\":\"6936434954039745065\",\"handlers\":{\"changes\":[\"(function (val){return (val!=this.model[\\\"changes\\\"]()) ? (this.valueFromJulia[\\\"changes\\\"]=true, this.model[\\\"changes\\\"](val)) : undefined})\"],\"index\":[\"(function (val){return (val!=this.model[\\\"index\\\"]()) ? (this.valueFromJulia[\\\"index\\\"]=true, this.model[\\\"index\\\"](val)) : undefined})\"]},\"systemjs_options\":null,\"mount_callbacks\":[\"function () {\\n    var handler = (function (ko, koPunches) {\\n    ko.punches.enableAll();\\n    ko.bindingHandlers.numericValue = {\\n        init: function(element, valueAccessor, allBindings, data, context) {\\n            var stringified = ko.observable(ko.unwrap(valueAccessor()));\\n            stringified.subscribe(function(value) {\\n                var val = parseFloat(value);\\n                if (!isNaN(val)) {\\n                    valueAccessor()(val);\\n                }\\n            });\\n            valueAccessor().subscribe(function(value) {\\n                var str = JSON.stringify(value);\\n                if ((str == \\\"0\\\") && ([\\\"-0\\\", \\\"-0.\\\"].indexOf(stringified()) >= 0))\\n                     return;\\n                 if ([\\\"null\\\", \\\"\\\"].indexOf(str) >= 0)\\n                     return;\\n                stringified(str);\\n            });\\n            ko.applyBindingsToNode(\\n                element,\\n                {\\n                    value: stringified,\\n                    valueUpdate: allBindings.get('valueUpdate'),\\n                },\\n                context,\\n            );\\n        }\\n    };\\n    var json_data = {\\\"formatted_vals\\\":[\\\"0.0\\\",\\\"0.1\\\",\\\"0.2\\\",\\\"0.3\\\",\\\"0.4\\\",\\\"0.5\\\",\\\"0.6\\\",\\\"0.7\\\",\\\"0.8\\\",\\\"0.9\\\",\\\"1.0\\\"],\\\"changes\\\":WebIO.getval({\\\"name\\\":\\\"changes\\\",\\\"scope\\\":\\\"6936434954039745065\\\",\\\"id\\\":\\\"ob_108\\\",\\\"type\\\":\\\"observable\\\"}),\\\"index\\\":WebIO.getval({\\\"name\\\":\\\"index\\\",\\\"scope\\\":\\\"6936434954039745065\\\",\\\"id\\\":\\\"ob_107\\\",\\\"type\\\":\\\"observable\\\"})};\\n    var self = this;\\n    function AppViewModel() {\\n        for (var key in json_data) {\\n            var el = json_data[key];\\n            this[key] = Array.isArray(el) ? ko.observableArray(el) : ko.observable(el);\\n        }\\n        \\n        [this[\\\"formatted_val\\\"]=ko.computed(    function(){\\n        return this.formatted_vals()[parseInt(this.index())-(1)];\\n    }\\n,this)]\\n        [this[\\\"changes\\\"].subscribe((function (val){!(this.valueFromJulia[\\\"changes\\\"]) ? (WebIO.setval({\\\"name\\\":\\\"changes\\\",\\\"scope\\\":\\\"6936434954039745065\\\",\\\"id\\\":\\\"ob_108\\\",\\\"type\\\":\\\"observable\\\"},val)) : undefined; return this.valueFromJulia[\\\"changes\\\"]=false}),self),this[\\\"index\\\"].subscribe((function (val){!(this.valueFromJulia[\\\"index\\\"]) ? (WebIO.setval({\\\"name\\\":\\\"index\\\",\\\"scope\\\":\\\"6936434954039745065\\\",\\\"id\\\":\\\"ob_107\\\",\\\"type\\\":\\\"observable\\\"},val)) : undefined; return this.valueFromJulia[\\\"index\\\"]=false}),self)]\\n        \\n    }\\n    self.model = new AppViewModel();\\n    self.valueFromJulia = {};\\n    for (var key in json_data) {\\n        self.valueFromJulia[key] = false;\\n    }\\n    ko.applyBindings(self.model, self.dom);\\n}\\n);\\n    (WebIO.importBlock({\\\"data\\\":[{\\\"name\\\":\\\"knockout\\\",\\\"type\\\":\\\"js\\\",\\\"url\\\":\\\"\\/assetserver\\/3fc97d1c25c9104a4a5647f5aea1a721e64c8883-knockout.js\\\"},{\\\"name\\\":\\\"knockout_punches\\\",\\\"type\\\":\\\"js\\\",\\\"url\\\":\\\"\\/assetserver\\/587a9473f269d7e919db064a73c27fddff873451-knockout_punches.js\\\"}],\\\"type\\\":\\\"async_block\\\"})).then((imports) => handler.apply(this, imports));\\n}\\n\"],\"observables\":{\"changes\":{\"sync\":false,\"id\":\"ob_108\",\"value\":0},\"index\":{\"sync\":true,\"id\":\"ob_107\",\"value\":6}}},\"children\":[{\"props\":{\"className\":\"interact-flex-row interact-widget\"},\"nodeType\":\"DOM\",\"type\":\"node\",\"instanceArgs\":{\"namespace\":\"html\",\"tag\":\"div\"},\"children\":[{\"props\":{\"className\":\"interact-flex-row-left\"},\"nodeType\":\"DOM\",\"type\":\"node\",\"instanceArgs\":{\"namespace\":\"html\",\"tag\":\"div\"},\"children\":[{\"props\":{\"className\":\"interact \",\"style\":{\"padding\":\"5px 10px 0px 10px\"}},\"nodeType\":\"DOM\",\"type\":\"node\",\"instanceArgs\":{\"namespace\":\"html\",\"tag\":\"label\"},\"children\":[\"k\"]}]},{\"props\":{\"className\":\"interact-flex-row-center\"},\"nodeType\":\"DOM\",\"type\":\"node\",\"instanceArgs\":{\"namespace\":\"html\",\"tag\":\"div\"},\"children\":[{\"props\":{\"max\":11,\"min\":1,\"attributes\":{\"type\":\"range\",\"data-bind\":\"numericValue: index, valueUpdate: 'input', event: {change: function (){this.changes(this.changes()+1)}}\",\"orient\":\"horizontal\"},\"step\":1,\"className\":\"slider slider is-fullwidth\",\"style\":{}},\"nodeType\":\"DOM\",\"type\":\"node\",\"instanceArgs\":{\"namespace\":\"html\",\"tag\":\"input\"},\"children\":[]}]},{\"props\":{\"className\":\"interact-flex-row-right\"},\"nodeType\":\"DOM\",\"type\":\"node\",\"instanceArgs\":{\"namespace\":\"html\",\"tag\":\"div\"},\"children\":[{\"props\":{\"attributes\":{\"data-bind\":\"text: formatted_val\"}},\"nodeType\":\"DOM\",\"type\":\"node\",\"instanceArgs\":{\"namespace\":\"html\",\"tag\":\"p\"},\"children\":[]}]}]}]}]},{\"props\":{},\"nodeType\":\"Scope\",\"type\":\"node\",\"instanceArgs\":{\"imports\":{\"data\":[],\"type\":\"async_block\"},\"id\":\"17968850066414500946\",\"handlers\":{},\"systemjs_options\":null,\"mount_callbacks\":[],\"observables\":{\"obs-node\":{\"sync\":false,\"id\":\"ob_112\",\"value\":{\"props\":{\"className\":\"interact-flex-row interact-widget\"},\"nodeType\":\"DOM\",\"type\":\"node\",\"instanceArgs\":{\"namespace\":\"html\",\"tag\":\"div\"},\"children\":[{\"props\":{\"setInnerHtml\":\"<img src='data:image\\/png;base64,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'><\\/img>\"},\"nodeType\":\"DOM\",\"type\":\"node\",\"instanceArgs\":{\"namespace\":\"html\",\"tag\":\"div\"},\"children\":[]}]}}}},\"children\":[{\"props\":{},\"nodeType\":\"ObservableNode\",\"type\":\"node\",\"instanceArgs\":{\"id\":\"ob_112\",\"name\":\"obs-node\"},\"children\":[]}]}]},\n",
       "            window,\n",
       "        );\n",
       "    } else {\n",
       "        document\n",
       "            .querySelector('[data-webio-mountpoint=\"498030501850643588\"]')\n",
       "            .innerHTML = (\n",
       "                '<div style=\"padding: 1em; background-color: #f8d6da; border: 1px solid #f5c6cb\">' +\n",
       "                '<p><strong>WebIO not detected.</strong></p>' +\n",
       "                '<p>Please read ' +\n",
       "                '<a href=\"https://juliagizmos.github.io/WebIO.jl/latest/troubleshooting/not-detected/\" target=\"_blank\">the troubleshooting guide</a> ' +\n",
       "                'for more information on how to resolve this issue.</p>' +\n",
       "                '<p><a href=\"https://juliagizmos.github.io/WebIO.jl/latest/troubleshooting/not-detected/\" target=\"_blank\">https://juliagizmos.github.io/WebIO.jl/latest/troubleshooting/not-detected/</a></p>' +\n",
       "                '</div>'\n",
       "            );\n",
       "    }\n",
       "    </script>\n",
       "</div>\n"
      ]
     },
     "metadata": {},
     "execution_count": 13
    }
   ],
   "cell_type": "code",
   "source": [
    "@manipulate for k in 0:0.1:1.0\n",
    "    d = Drawing(500, 500, :png)\n",
    "    origin()\n",
    "\n",
    "    bbox = BoundingBox() * k\n",
    "    box(bbox, :stroke) ## quick way to draw around a bounding box\n",
    "\n",
    "    # draw circles between top left and bottom right corner\n",
    "    circle.(between.(bbox..., 0:0.1:1.0), 5, :stroke)\n",
    "\n",
    "    sethue(\"red\")\n",
    "    # refer the top left corner of the bounding box\n",
    "    circle(boxtopleft(bbox), 10, :fill)\n",
    "    finish()\n",
    "    return d\n",
    "end"
   ],
   "metadata": {},
   "execution_count": 13
  },
  {
   "cell_type": "markdown",
   "source": [
    "A bounding box provides nine useful 'named' positioning functions: `boxtopleft()`, `boxmiddleright()`, and so on."
   ],
   "metadata": {}
  },
  {
   "cell_type": "markdown",
   "source": [
    "### Challenges"
   ],
   "metadata": {}
  },
  {
   "cell_type": "markdown",
   "source": [
    "#### 1. More exploring"
   ],
   "metadata": {}
  },
  {
   "cell_type": "markdown",
   "source": [
    "Other interesting Luxor functions to explore might be `rule()`, which can be told to keep the lines inside a bounding box, `pointinverse()`, `intersectionlinecircle()`, and `intersectboundingboxes()`, to name a few."
   ],
   "metadata": {}
  },
  {
   "cell_type": "markdown",
   "source": [
    "# Chapter 3: Conference badges; placing text"
   ],
   "metadata": {}
  },
  {
   "cell_type": "markdown",
   "source": [
    "Remember when people used to attend conferences in person, and they'd wear badges to help identify themselves to others? Some day soon, perhaps, we'll be doing it again. Until then, we can work on a useful application for Luxor that will generate these badges automatically. Given a DataFrame containing the details of attendees, Luxor can process the rows and create a unique badge for each person."
   ],
   "metadata": {}
  },
  {
   "cell_type": "markdown",
   "source": [
    "If you want to follow along, install DataFrames.jl, and download the free [Barlow Condensed](https://fonts.google.com/specimen/Barlow+Condensed) font from Google Fonts, because we want a strong but narrow font for the confined space of a badge."
   ],
   "metadata": {}
  },
  {
   "outputs": [],
   "cell_type": "code",
   "source": [
    "using DataFrames, Colors"
   ],
   "metadata": {},
   "execution_count": 14
  },
  {
   "cell_type": "markdown",
   "source": [
    "Let's quickly define a few arbitrary attendees (any resemblance to real individuals or companies is unintended):"
   ],
   "metadata": {}
  },
  {
   "outputs": [
    {
     "output_type": "execute_result",
     "data": {
      "text/plain": "7×4 DataFrame. Omitted printing of 2 columns\n│ Row │ FirstName     │ LastName           │\n│     │ \u001b[90mString\u001b[39m        │ \u001b[90mString\u001b[39m             │\n├─────┼───────────────┼────────────────────┤\n│ 1   │ Alice         │ Blackwood          │\n│ 2   │ Bob           │ Greybeard          │\n│ 3   │ Chuck         │ Whitehat           │\n│ 4   │ Damian        │ Gryffindor         │\n│ 5   │ Elizabeth     │ van Purple         │\n│ 6   │ Jacquelinetta │ Magickata          │\n│ 7   │ Gus           │ McTurquoisepherson │",
      "text/html": [
       "<table class=\"data-frame\"><thead><tr><th></th><th>FirstName</th><th>LastName</th><th>Organization</th><th>URL</th></tr><tr><th></th><th>String</th><th>String</th><th>String</th><th>String</th></tr></thead><tbody><p>7 rows × 4 columns</p><tr><th>1</th><td>Alice</td><td>Blackwood</td><td>Avocado Corp</td><td>www.avocadocorp.com</td></tr><tr><th>2</th><td>Bob</td><td>Greybeard</td><td>Sirius Cybernetics Corporation</td><td>www.siriuscyberneticscorporation.com</td></tr><tr><th>3</th><td>Chuck</td><td>Whitehat</td><td>Institute of Conference Badge Designers</td><td>www.instituteofconferencebadgedesigners.com</td></tr><tr><th>4</th><td>Damian</td><td>Gryffindor</td><td>Umbrella Corporation</td><td>www.umbrellacorporation.com</td></tr><tr><th>5</th><td>Elizabeth</td><td>van Purple</td><td>Abstergo Industries</td><td>www.abstergoindustries.com</td></tr><tr><th>6</th><td>Jacquelinetta</td><td>Magickata</td><td>Cyberdyne Systems</td><td>www.cyberdynesystemscorporation.com</td></tr><tr><th>7</th><td>Gus</td><td>McTurquoisepherson</td><td>Acme Industries</td><td>www.acme.com</td></tr></tbody></table>"
      ]
     },
     "metadata": {},
     "execution_count": 15
    }
   ],
   "cell_type": "code",
   "source": [
    "attendees = DataFrame(\n",
    "    FirstName      =   [\"Alice\", \"Bob\", \"Chuck\", \"Damian\", \"Elizabeth\", \"Jacquelinetta\", \"Gus\"],\n",
    "    LastName       =   [\"Blackwood\", \"Greybeard\", \"Whitehat\", \"Gryffindor\", \"van Purple\", \"Magickata\", \"McTurquoisepherson\" ],\n",
    "    Organization   =   [\"Avocado Corp\",\n",
    "                        \"Sirius Cybernetics Corporation\",\n",
    "                        \"Institute of Conference Badge Designers\",\n",
    "                        \"Umbrella Corporation\",\n",
    "                        \"Abstergo Industries\",\n",
    "                        \"Cyberdyne Systems\",\n",
    "                        \"Acme Industries\"],\n",
    "    URL            =   [\"www.avocadocorp.com\"\n",
    "                         \"www.siriuscyberneticscorporation.com\"\n",
    "                         \"www.instituteofconferencebadgedesigners.com\"\n",
    "                         \"www.umbrellacorporation.com\"\n",
    "                         \"www.abstergoindustries.com\"\n",
    "                         \"www.cyberdynesystemscorporation.com\"\n",
    "                         \"www.acme.com\"])"
   ],
   "metadata": {},
   "execution_count": 15
  },
  {
   "cell_type": "markdown",
   "source": [
    "Some useful information:"
   ],
   "metadata": {}
  },
  {
   "outputs": [],
   "cell_type": "code",
   "source": [
    "const conference_name = \"Dark Matters\"\n",
    "const conference_year = \"2020\"\n",
    "const card_dimensions = (298, 420)\n",
    "\n",
    "struct Attendee\n",
    "    firstname:: String\n",
    "    lastname:: String\n",
    "    organization:: String\n",
    "    url:: String\n",
    "end"
   ],
   "metadata": {},
   "execution_count": 16
  },
  {
   "cell_type": "markdown",
   "source": [
    "Luxor provides a few ways to divide up the drawing area, and two useful ones are Tilers and Tables. A Tiler constructor divides up a specified area into identical rectangular tiles; a Table constructor makes rows and columns, but each row can be a different height, and each column can be a different width. The Table constructor can accepts rows/columns, or vectors defining row and column heights. For this task, we'll define a table with 1 column, and 8 rows, and a bit of sketching and experimentation suggests the following row heights."
   ],
   "metadata": {}
  },
  {
   "outputs": [
    {
     "output_type": "execute_result",
     "data": {
      "text/plain": "Table([100, 5, 90, 50, 40, 40, 5, 90], [298], 8, 1, 1, 1, -149.0, -210.0, Point(0.0, 0.0))"
     },
     "metadata": {},
     "execution_count": 17
    }
   ],
   "cell_type": "code",
   "source": [
    "table = Table([100, 5, 90, 50, 40, 40, 5, 90], [298])"
   ],
   "metadata": {},
   "execution_count": 17
  },
  {
   "cell_type": "markdown",
   "source": [
    "This quick test shows the basic structure:"
   ],
   "metadata": {}
  },
  {
   "outputs": [],
   "cell_type": "code",
   "source": [
    "Drawing(card_dimensions..., \"testcard.svg\")\n",
    "origin()\n",
    "sethue(\"black\")\n",
    "for (pos, n) in table\n",
    "    box(pos, table.colwidths[1], table.rowheights[n], :stroke)\n",
    "    circle(pos, 4, :fill)\n",
    "end\n",
    "finish()\n",
    "preview()"
   ],
   "metadata": {},
   "execution_count": 18
  },
  {
   "cell_type": "markdown",
   "source": [
    "The four pieces of information for each attendee are to be placed in table rows 3, 4, 5, and 6. Let's try it out. The throwaway `test_draw_attendee()` function takes a single row of the DataFrame and draws the four pieces of text in these four table cells."
   ],
   "metadata": {}
  },
  {
   "outputs": [],
   "cell_type": "code",
   "source": [
    "function test_draw_attendee(a, table)\n",
    "    person = Attendee(a...)\n",
    "    Drawing(card_dimensions..., \"/tmp/testcard-$(person.firstname)-$(person.lastname).png\")\n",
    "    origin()\n",
    "    sethue(\"green\")\n",
    "    for (pos, k) in table\n",
    "        box(pos, table.colwidths[1], table.rowheights[k], :stroke)\n",
    "    end\n",
    "    sethue(\"red\")\n",
    "    text(person.firstname,    table[3])\n",
    "    text(person.lastname,     table[4])\n",
    "    text(person.organization, table[5])\n",
    "    text(person.url,          table[6])\n",
    "    finish()\n",
    "    preview()\n",
    "end\n",
    "\n",
    "test_draw_attendee(attendees[1, :], table)"
   ],
   "metadata": {},
   "execution_count": 19
  },
  {
   "cell_type": "markdown",
   "source": [
    "This looks structurally OK. But it's not very appealing visually, so the main job now is to place the text more carefully and use some color."
   ],
   "metadata": {}
  },
  {
   "cell_type": "markdown",
   "source": [
    "We'll make a custom text-drawing function. This draws the text in `str`, and tries to use the font and font size supplied to fit in a space `w` by `h`. But, if the text would be too wide, the font size is reduced until it fits. We can use the `textextents()` function for this, because it returns a useful list of all the dimensions of the text with the current settings."
   ],
   "metadata": {}
  },
  {
   "outputs": [
    {
     "output_type": "execute_result",
     "data": {
      "text/plain": "drawtext (generic function with 1 method)"
     },
     "metadata": {},
     "execution_count": 20
    }
   ],
   "cell_type": "code",
   "source": [
    "function drawtext(str, pos, w, h;\n",
    "        margin=20,\n",
    "        fsize=20,\n",
    "        fface=\"BarlowCondensed-Bold\",\n",
    "        fground = colorant\"black\",\n",
    "        bground = colorant\"white\",\n",
    "        halignment = :left)\n",
    "    fontface(fface)\n",
    "    fontsize(fsize)\n",
    "    # check and recalculate if necessary\n",
    "    textwidth = textextents(str)\n",
    "    if textwidth[3] > (w - 2margin)\n",
    "        fs = fsize\n",
    "        while(textwidth[3] > (w - 2margin))\n",
    "            fs -= 2\n",
    "            fontsize(fs)\n",
    "            textwidth = textextents(str)\n",
    "        end\n",
    "        fontsize(fs)\n",
    "    end\n",
    "    # paint the box\n",
    "    sethue(bground)\n",
    "    box(pos, w, h, :fillstroke)\n",
    "    sethue(fground)\n",
    "    # allow for centered text\n",
    "    if halignment == :left\n",
    "        text(str, pos - (w/2 - margin, 0), halign=:left, valign=:middle)\n",
    "    else\n",
    "        text(str, pos - (w/2 - margin, 0), valign=:middle)\n",
    "    end\n",
    "end"
   ],
   "metadata": {},
   "execution_count": 20
  },
  {
   "cell_type": "markdown",
   "source": [
    "Finally, this function draws a single badge. It's mostly calls to `drawtext()`, adding some graphics before and after:"
   ],
   "metadata": {}
  },
  {
   "outputs": [
    {
     "output_type": "execute_result",
     "data": {
      "text/plain": "draw_attendee (generic function with 1 method)"
     },
     "metadata": {},
     "execution_count": 21
    }
   ],
   "cell_type": "code",
   "source": [
    "function draw_attendee(a, table)\n",
    "    person = Attendee(a...)\n",
    "    Drawing(card_dimensions..., \"/tmp/testbadge-$(person.firstname)-$(person.lastname).svg\")\n",
    "    origin()\n",
    "    background(\"white\")\n",
    "    sethue(\"black\")\n",
    "    w = table.colwidths[1]\n",
    "\n",
    "    @layer begin\n",
    "        sethue(\"black\")\n",
    "        box(table, 1, :fill)\n",
    "\n",
    "        # dividers\n",
    "        sethue(\"red\")\n",
    "        box(table, 2, :fill)\n",
    "        box(table, 7, :fill)\n",
    "    end\n",
    "\n",
    "    drawtext(person.firstname, table[3], w, table.rowheights[3],\n",
    "        fsize=70, fface=\"BarlowCondensed-Black\",\n",
    "        fground = \"white\",\n",
    "        bground = HSV(230, .8, .2))\n",
    "    drawtext(person.lastname, table[4], w, table.rowheights[4],\n",
    "        fsize=40, fface=\"BarlowCondensed-Bold\",\n",
    "        fground = \"white\",\n",
    "        bground = HSV(230, .8, .2))\n",
    "    drawtext(person.organization, table[5], w, table.rowheights[5],\n",
    "        fsize=30, fface=\"BarlowCondensed-Bold\",\n",
    "        fground = \"white\",\n",
    "        bground = HSV(230, .6, .5))\n",
    "    drawtext(person.url, table[6], w, table.rowheights[6],\n",
    "        fsize=20, fface=\"BarlowCondensed-Bold\",\n",
    "        fground = \"white\",\n",
    "        bground = HSV(230, .5, .7))\n",
    "\n",
    "    # what conference is this anyway?\n",
    "    drawtext(uppercase(conference_name) * \"∞\" * conference_year, table[8], table.colwidths[1], table.rowheights[8],\n",
    "        fsize=40, fface=\"BarlowCondensed-Black\",\n",
    "        fground = \"black\",\n",
    "        bground = \"darkorange\",\n",
    "        halignment=:center)\n",
    "\n",
    "    # final decoration\n",
    "    @layer begin\n",
    "        translate(table[1])\n",
    "        setopacity(0.3)\n",
    "        setline(0.5)\n",
    "        sethue(\"white\")\n",
    "        epitrochoid(200, 31, 250, :stroke)\n",
    "        end\n",
    "\n",
    "    finish()\n",
    "    preview()\n",
    "end"
   ],
   "metadata": {},
   "execution_count": 21
  },
  {
   "cell_type": "markdown",
   "source": [
    "Each one can be checked individually:"
   ],
   "metadata": {}
  },
  {
   "outputs": [],
   "cell_type": "code",
   "source": [
    "function testone()\n",
    "    draw_attendee(attendees[6, :], table)\n",
    "end\n",
    "\n",
    "testone()"
   ],
   "metadata": {},
   "execution_count": 22
  },
  {
   "cell_type": "markdown",
   "source": [
    "And then we can generate them all:"
   ],
   "metadata": {}
  },
  {
   "outputs": [
    {
     "name": "stdout",
     "output_type": "stream",
     "text": [
      "printing Alice Blackwood\n",
      "printing Bob Greybeard\n",
      "printing Chuck Whitehat\n",
      "printing Damian Gryffindor\n",
      "printing Elizabeth van Purple\n",
      "printing Jacquelinetta Magickata\n",
      "printing Gus McTurquoisepherson\n"
     ]
    }
   ],
   "cell_type": "code",
   "source": [
    "function testall()\n",
    "    for r in eachrow(attendees)\n",
    "        println(\"printing $(r.FirstName * \" \" * r.LastName)\")\n",
    "        draw_attendee(r, table)\n",
    "    end\n",
    "end\n",
    "\n",
    "testall()"
   ],
   "metadata": {},
   "execution_count": 23
  },
  {
   "cell_type": "markdown",
   "source": [
    "### Challenges"
   ],
   "metadata": {}
  },
  {
   "cell_type": "markdown",
   "source": [
    "#### 1. Add a QR code"
   ],
   "metadata": {}
  },
  {
   "cell_type": "markdown",
   "source": [
    "Adding a QR code to each badge sounds like fun. You can find a nice Julia QR code package [here](https://github.com/jiegillet/QRCode.jl). It's easy enough to generate a grid of black and white squares using Luxor's Table or Tiler objects."
   ],
   "metadata": {}
  },
  {
   "cell_type": "markdown",
   "source": [
    "#### 2. Logos"
   ],
   "metadata": {}
  },
  {
   "cell_type": "markdown",
   "source": [
    "People love adding logos to conference-related material. Try adding some to the design. If the logo is provided as a PNG image, you can use Luxor's `readpng()` and `placeimage()` functions. Otherwise you might have to incorporate Luxor code to reproduce the desired logo, because there's no PDF/EPS/SVG import tools. Luckily the Julia logo has already been done."
   ],
   "metadata": {}
  },
  {
   "cell_type": "markdown",
   "source": [
    "#### 3. Provide printer-friendly masters"
   ],
   "metadata": {}
  },
  {
   "cell_type": "markdown",
   "source": [
    "We've made a separate image for each badge. But often you would send larger sheets containing four to six badges (possibly complete with crop marks) to the print shop, so that they could run them through their machines and then trim them. So you could refactor the code so that it fits four or six badges on a suitably larger sheet. Perhaps the PDF format is going to be more useful here."
   ],
   "metadata": {}
  },
  {
   "cell_type": "markdown",
   "source": [
    "# Chapter 4: Generative art"
   ],
   "metadata": {}
  },
  {
   "cell_type": "markdown",
   "source": [
    "You can make art with anything - these days you might not even need a pencil. Luxor has plenty of tools to help you make some art. The phrase \"generative art\" suggests that the computer code does most of the work generating the image; perhaps the presence of your guiding hand justifies you claiming to be co-creator."
   ],
   "metadata": {}
  },
  {
   "cell_type": "markdown",
   "source": [
    "You need only have a basic idea to get started. If it doesn't go anywhere, then you just start over. The idea for this chapter is based on a random walk: you place a simple linei and circle (\"blob\") graphic next to other ones, and use randomness to see what emerges."
   ],
   "metadata": {}
  },
  {
   "outputs": [],
   "cell_type": "code",
   "source": [
    "using Colors"
   ],
   "metadata": {},
   "execution_count": 24
  },
  {
   "cell_type": "markdown",
   "source": [
    "A simple Blob structure holds start and end points, and keeps track of a color and a radius."
   ],
   "metadata": {}
  },
  {
   "outputs": [],
   "cell_type": "code",
   "source": [
    "struct Blob\n",
    "   st::Point\n",
    "   fi::Point\n",
    "   col::Colorant\n",
    "   radius::Float64\n",
    "end"
   ],
   "metadata": {},
   "execution_count": 25
  },
  {
   "cell_type": "markdown",
   "source": [
    "This is a place to store Blobs:"
   ],
   "metadata": {}
  },
  {
   "outputs": [
    {
     "output_type": "execute_result",
     "data": {
      "text/plain": "0-element Array{Main.##267.Blob,1}"
     },
     "metadata": {},
     "execution_count": 26
    }
   ],
   "cell_type": "code",
   "source": [
    "todolist = Blob[]"
   ],
   "metadata": {},
   "execution_count": 26
  },
  {
   "cell_type": "markdown",
   "source": [
    "This function takes an existing Blob object, and returns a new one that's slightly different. Its color, direction, and radius are randomly shifted. A call to `rand(1:10)` introduces some different behaviour: the new Blob is either placed alongside an existing one, or it's attached to the end:"
   ],
   "metadata": {}
  },
  {
   "outputs": [
    {
     "output_type": "execute_result",
     "data": {
      "text/plain": "mutate (generic function with 1 method)"
     },
     "metadata": {},
     "execution_count": 27
    }
   ],
   "cell_type": "code",
   "source": [
    "function mutate(blob::Blob)\n",
    "   currentcol = convert(HSV, blob.col)\n",
    "   newcol = HSV(mod(currentcol.h + rand(-4:4), 360),\n",
    "        mod(currentcol.s + 0.1, 1),\n",
    "        mod(currentcol.v + 0.1, 1))\n",
    "   newradius = mod(rand(Bool) ? blob.radius * 1.1 : blob.radius * 0.9, 20)\n",
    "   newdirection = slope(blob.st, blob.fi) + rand(-1:0.1:1) * (π/5 * rand())\n",
    "   if rand(1:10) < 5\n",
    "      return Blob(blob.fi, blob.fi + polar(rand(5:10), newdirection), newcol, newradius)\n",
    "   else\n",
    "      return Blob(blob.st, blob.st + polar(rand(5:10), newdirection), newcol, newradius)\n",
    "   end\n",
    "end"
   ],
   "metadata": {},
   "execution_count": 27
  },
  {
   "cell_type": "markdown",
   "source": [
    "The `draw()` function draws the blob, and adds new mutated blobs, but only if they're still on the drawing."
   ],
   "metadata": {}
  },
  {
   "outputs": [
    {
     "output_type": "execute_result",
     "data": {
      "text/plain": "draw (generic function with 1 method)"
     },
     "metadata": {},
     "execution_count": 28
    }
   ],
   "cell_type": "code",
   "source": [
    "function draw(blob::Blob, todolist)\n",
    "   move(blob.st)\n",
    "   line(blob.fi)\n",
    "   setline(4)\n",
    "   sethue(blob.col)\n",
    "   strokepath()\n",
    "   circle(blob.fi, blob.radius, :fill)\n",
    "   # add new blobs if they're on the drawing\n",
    "   if isinside(blob.fi, BoundingBox())\n",
    "      push!(todolist, mutate(blob))\n",
    "   end\n",
    "end\n",
    "\n",
    "function draw(blob::Blob, todolist)\n",
    "    move(blob.st)\n",
    "    line(blob.fi)\n",
    "    setline(4)\n",
    "    sethue(blob.col)\n",
    "    strokepath()\n",
    "    circle(blob.fi, blob.radius, :fill)\n",
    "    # add new blobs if they're on the drawing\n",
    "    if isinside(blob.fi, BoundingBox())\n",
    "        push!(todolist, mutate(blob))\n",
    "    end\n",
    "end"
   ],
   "metadata": {},
   "execution_count": 28
  },
  {
   "cell_type": "markdown",
   "source": [
    "Because each walk only goes in one direction, a better balanced image is achieved by stacking a dozen images with varying opacities."
   ],
   "metadata": {}
  },
  {
   "cell_type": "markdown",
   "source": [
    "The results are unpredictable, and - this being art - it's difficult to say whether the images are pleasing or horrible. The next time you run it, you might get a masterpiece! Or perhaps you won't..."
   ],
   "metadata": {}
  },
  {
   "outputs": [],
   "cell_type": "code",
   "source": [
    "function gen()\n",
    "    Drawing(500, 500, \"blobart.svg\")\n",
    "    origin()\n",
    "    background(\"antiquewhite\")\n",
    "    for i in 1:12\n",
    "      setopacity(i/12)\n",
    "      seed = Blob(Point(0, 0), Point(rand(-5:5, 2)...), HSB(180, 0.5, 0.5), 10)\n",
    "      push!(todolist, seed)\n",
    "      while !isempty(todolist)\n",
    "         draw(pop!(todolist), todolist)\n",
    "      end\n",
    "    end\n",
    "    finish()\n",
    "    preview()\n",
    "end\n",
    "\n",
    "gen()"
   ],
   "metadata": {},
   "execution_count": 29
  },
  {
   "cell_type": "markdown",
   "source": [
    "Fortunately \"art is in the eye of the beholder\", so if you like these, that's great. And if you don't, you can start thinking of different ways to coax beautiful images from Julia code!"
   ],
   "metadata": {}
  },
  {
   "cell_type": "markdown",
   "source": [
    "## Challenges"
   ],
   "metadata": {}
  },
  {
   "cell_type": "markdown",
   "source": [
    "#### 1. Create more masterpieces"
   ],
   "metadata": {}
  },
  {
   "cell_type": "markdown",
   "source": [
    "And post your creations online!"
   ],
   "metadata": {}
  },
  {
   "cell_type": "markdown",
   "source": [
    "---\n",
    "\n",
    "*This notebook was generated using [Literate.jl](https://github.com/fredrikekre/Literate.jl).*"
   ],
   "metadata": {}
  }
 ],
 "nbformat_minor": 3,
 "metadata": {
  "language_info": {
   "file_extension": ".jl",
   "mimetype": "application/julia",
   "name": "julia",
   "version": "1.4.0"
  },
  "kernelspec": {
   "name": "julia-1.4",
   "display_name": "Julia 1.4.0",
   "language": "julia"
  }
 },
 "nbformat": 4
}
